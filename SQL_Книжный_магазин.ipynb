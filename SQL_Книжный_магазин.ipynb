{
  "cells": [
    {
      "cell_type": "markdown",
      "metadata": {
        "id": "view-in-github",
        "colab_type": "text"
      },
      "source": [
        "<a href=\"https://colab.research.google.com/github/m-dergacheva/Yandex-Practicum_DA/blob/main/SQL_%D0%9A%D0%BD%D0%B8%D0%B6%D0%BD%D1%8B%D0%B9_%D0%BC%D0%B0%D0%B3%D0%B0%D0%B7%D0%B8%D0%BD.ipynb\" target=\"_parent\"><img src=\"https://colab.research.google.com/assets/colab-badge.svg\" alt=\"Open In Colab\"/></a>"
      ]
    },
    {
      "cell_type": "markdown",
      "metadata": {
        "id": "S230yg0cVg-V"
      },
      "source": [
        "# Мини-кейс SQL:Книжный магазин"
      ]
    },
    {
      "cell_type": "markdown",
      "metadata": {
        "id": "yHgT_VZMVg-V"
      },
      "source": [
        "## Описание:\n",
        "Коронавирус застал мир врасплох, изменив привычный порядок вещей. В свободное время жители городов больше не выходят на улицу, не посещают кафе и торговые центры. Зато стало больше времени для книг. Это заметили стартаперы — и бросились создавать приложения для тех, кто любит читать.\n",
        "\n",
        "Компания решила быть на волне и купила крупный сервис для чтения книг по подписке. Ваша первая задача как аналитика — проанализировать базу данных.\n",
        "В ней — информация о книгах, издательствах, авторах, а также пользовательские обзоры книг.\n",
        "\n",
        "Цель: обозначить паттерны, чтобы сформулировать ценностное предложение для нового продукта."
      ]
    },
    {
      "cell_type": "code",
      "execution_count": null,
      "metadata": {
        "id": "fTg7JupDVg-W"
      },
      "outputs": [],
      "source": [
        "# импортируем библиотеки\n",
        "import pandas as pd\n",
        "import sqlalchemy as sa"
      ]
    },
    {
      "cell_type": "code",
      "execution_count": null,
      "metadata": {
        "id": "lUKSIjnqVg-W"
      },
      "outputs": [],
      "source": [
        "# устанавливаем параметры\n",
        "db_config = {\n",
        "'user': 'praktikum_student', # имя пользователя\n",
        "'pwd': 'Sdf4$2;d-d30pp', # пароль\n",
        "'host': 'rc1b-wcoijxj3yxfsf3fs.mdb.yandexcloud.net',\n",
        "'port': 6432, # порт подключения\n",
        "'db': 'data-analyst-final-project-db' # название базы данных\n",
        "}\n",
        "connection_string = 'postgresql://{user}:{pwd}@{host}:{port}/{db}'.format(**db_config)\n",
        "# сохраняем коннектор\n",
        "engine = sa.create_engine(connection_string, connect_args={'sslmode':'require'})\n",
        "# чтобы выполнить SQL-запрос, пишем функцию с использованием Pandas\n",
        "def get_sql_data(query:str, engine:sa.engine.base.Engine=engine) -> pd.DataFrame:\n",
        "  with engine.connect() as con:\n",
        "    return pd.read_sql(sql=sa.text(query), con = con)"
      ]
    },
    {
      "cell_type": "markdown",
      "metadata": {
        "id": "YHJlS2hPVg-W"
      },
      "source": [
        "### Исследуйте таблицы — выведите первые строки"
      ]
    },
    {
      "cell_type": "code",
      "execution_count": null,
      "metadata": {
        "id": "EQ5LbKSlVg-W",
        "outputId": "4cc23a98-c5bd-48e9-b85e-c3d3a58fd0a8"
      },
      "outputs": [
        {
          "data": {
            "text/html": [
              "<div>\n",
              "<style scoped>\n",
              "    .dataframe tbody tr th:only-of-type {\n",
              "        vertical-align: middle;\n",
              "    }\n",
              "\n",
              "    .dataframe tbody tr th {\n",
              "        vertical-align: top;\n",
              "    }\n",
              "\n",
              "    .dataframe thead th {\n",
              "        text-align: right;\n",
              "    }\n",
              "</style>\n",
              "<table border=\"1\" class=\"dataframe\">\n",
              "  <thead>\n",
              "    <tr style=\"text-align: right;\">\n",
              "      <th></th>\n",
              "      <th>book_id</th>\n",
              "      <th>author_id</th>\n",
              "      <th>title</th>\n",
              "      <th>num_pages</th>\n",
              "      <th>publication_date</th>\n",
              "      <th>publisher_id</th>\n",
              "    </tr>\n",
              "  </thead>\n",
              "  <tbody>\n",
              "    <tr>\n",
              "      <th>0</th>\n",
              "      <td>1</td>\n",
              "      <td>546</td>\n",
              "      <td>'Salem's Lot</td>\n",
              "      <td>594</td>\n",
              "      <td>2005-11-01</td>\n",
              "      <td>93</td>\n",
              "    </tr>\n",
              "    <tr>\n",
              "      <th>1</th>\n",
              "      <td>2</td>\n",
              "      <td>465</td>\n",
              "      <td>1 000 Places to See Before You Die</td>\n",
              "      <td>992</td>\n",
              "      <td>2003-05-22</td>\n",
              "      <td>336</td>\n",
              "    </tr>\n",
              "    <tr>\n",
              "      <th>2</th>\n",
              "      <td>3</td>\n",
              "      <td>407</td>\n",
              "      <td>13 Little Blue Envelopes (Little Blue Envelope...</td>\n",
              "      <td>322</td>\n",
              "      <td>2010-12-21</td>\n",
              "      <td>135</td>\n",
              "    </tr>\n",
              "    <tr>\n",
              "      <th>3</th>\n",
              "      <td>4</td>\n",
              "      <td>82</td>\n",
              "      <td>1491: New Revelations of the Americas Before C...</td>\n",
              "      <td>541</td>\n",
              "      <td>2006-10-10</td>\n",
              "      <td>309</td>\n",
              "    </tr>\n",
              "    <tr>\n",
              "      <th>4</th>\n",
              "      <td>5</td>\n",
              "      <td>125</td>\n",
              "      <td>1776</td>\n",
              "      <td>386</td>\n",
              "      <td>2006-07-04</td>\n",
              "      <td>268</td>\n",
              "    </tr>\n",
              "  </tbody>\n",
              "</table>\n",
              "</div>"
            ],
            "text/plain": [
              "   book_id  author_id                                              title  \\\n",
              "0        1        546                                       'Salem's Lot   \n",
              "1        2        465                 1 000 Places to See Before You Die   \n",
              "2        3        407  13 Little Blue Envelopes (Little Blue Envelope...   \n",
              "3        4         82  1491: New Revelations of the Americas Before C...   \n",
              "4        5        125                                               1776   \n",
              "\n",
              "   num_pages publication_date  publisher_id  \n",
              "0        594       2005-11-01            93  \n",
              "1        992       2003-05-22           336  \n",
              "2        322       2010-12-21           135  \n",
              "3        541       2006-10-10           309  \n",
              "4        386       2006-07-04           268  "
            ]
          },
          "execution_count": 3,
          "metadata": {},
          "output_type": "execute_result"
        }
      ],
      "source": [
        "# формируем запрос и выводим данные таблицы books\n",
        "query_books = '''SELECT * FROM books LIMIT 5'''\n",
        "get_sql_data(query_books)"
      ]
    },
    {
      "cell_type": "markdown",
      "metadata": {
        "id": "xKCMnCmYVg-X"
      },
      "source": [
        "В таблице books содержатся данные о id книг, id авторов, наименование книг, кол-во страниц, даты публикации и id издательства, выпустившее книгу."
      ]
    },
    {
      "cell_type": "code",
      "execution_count": null,
      "metadata": {
        "id": "fJ_cSgrNVg-X",
        "outputId": "59f10dff-c6cf-4885-8222-e4c20009404a"
      },
      "outputs": [
        {
          "data": {
            "text/html": [
              "<div>\n",
              "<style scoped>\n",
              "    .dataframe tbody tr th:only-of-type {\n",
              "        vertical-align: middle;\n",
              "    }\n",
              "\n",
              "    .dataframe tbody tr th {\n",
              "        vertical-align: top;\n",
              "    }\n",
              "\n",
              "    .dataframe thead th {\n",
              "        text-align: right;\n",
              "    }\n",
              "</style>\n",
              "<table border=\"1\" class=\"dataframe\">\n",
              "  <thead>\n",
              "    <tr style=\"text-align: right;\">\n",
              "      <th></th>\n",
              "      <th>author_id</th>\n",
              "      <th>author</th>\n",
              "    </tr>\n",
              "  </thead>\n",
              "  <tbody>\n",
              "    <tr>\n",
              "      <th>0</th>\n",
              "      <td>1</td>\n",
              "      <td>A.S. Byatt</td>\n",
              "    </tr>\n",
              "    <tr>\n",
              "      <th>1</th>\n",
              "      <td>2</td>\n",
              "      <td>Aesop/Laura Harris/Laura Gibbs</td>\n",
              "    </tr>\n",
              "    <tr>\n",
              "      <th>2</th>\n",
              "      <td>3</td>\n",
              "      <td>Agatha Christie</td>\n",
              "    </tr>\n",
              "    <tr>\n",
              "      <th>3</th>\n",
              "      <td>4</td>\n",
              "      <td>Alan Brennert</td>\n",
              "    </tr>\n",
              "    <tr>\n",
              "      <th>4</th>\n",
              "      <td>5</td>\n",
              "      <td>Alan Moore/David   Lloyd</td>\n",
              "    </tr>\n",
              "  </tbody>\n",
              "</table>\n",
              "</div>"
            ],
            "text/plain": [
              "   author_id                          author\n",
              "0          1                      A.S. Byatt\n",
              "1          2  Aesop/Laura Harris/Laura Gibbs\n",
              "2          3                 Agatha Christie\n",
              "3          4                   Alan Brennert\n",
              "4          5        Alan Moore/David   Lloyd"
            ]
          },
          "execution_count": 4,
          "metadata": {},
          "output_type": "execute_result"
        }
      ],
      "source": [
        "# формируем запрос и выводим данные таблицы authors\n",
        "query_authors = '''SELECT * FROM authors LIMIT 5'''\n",
        "get_sql_data(query_authors)"
      ]
    },
    {
      "cell_type": "markdown",
      "metadata": {
        "id": "KBGTXNzmVg-X"
      },
      "source": [
        "В таблице authors содержатся данные о id авторов и ФИО этих авторов"
      ]
    },
    {
      "cell_type": "code",
      "execution_count": null,
      "metadata": {
        "id": "IgnFSq5NVg-Y",
        "outputId": "e383cb3a-8f70-4a8f-cef7-88b3743c061e"
      },
      "outputs": [
        {
          "data": {
            "text/html": [
              "<div>\n",
              "<style scoped>\n",
              "    .dataframe tbody tr th:only-of-type {\n",
              "        vertical-align: middle;\n",
              "    }\n",
              "\n",
              "    .dataframe tbody tr th {\n",
              "        vertical-align: top;\n",
              "    }\n",
              "\n",
              "    .dataframe thead th {\n",
              "        text-align: right;\n",
              "    }\n",
              "</style>\n",
              "<table border=\"1\" class=\"dataframe\">\n",
              "  <thead>\n",
              "    <tr style=\"text-align: right;\">\n",
              "      <th></th>\n",
              "      <th>rating_id</th>\n",
              "      <th>book_id</th>\n",
              "      <th>username</th>\n",
              "      <th>rating</th>\n",
              "    </tr>\n",
              "  </thead>\n",
              "  <tbody>\n",
              "    <tr>\n",
              "      <th>0</th>\n",
              "      <td>1</td>\n",
              "      <td>1</td>\n",
              "      <td>ryanfranco</td>\n",
              "      <td>4</td>\n",
              "    </tr>\n",
              "    <tr>\n",
              "      <th>1</th>\n",
              "      <td>2</td>\n",
              "      <td>1</td>\n",
              "      <td>grantpatricia</td>\n",
              "      <td>2</td>\n",
              "    </tr>\n",
              "    <tr>\n",
              "      <th>2</th>\n",
              "      <td>3</td>\n",
              "      <td>1</td>\n",
              "      <td>brandtandrea</td>\n",
              "      <td>5</td>\n",
              "    </tr>\n",
              "    <tr>\n",
              "      <th>3</th>\n",
              "      <td>4</td>\n",
              "      <td>2</td>\n",
              "      <td>lorichen</td>\n",
              "      <td>3</td>\n",
              "    </tr>\n",
              "    <tr>\n",
              "      <th>4</th>\n",
              "      <td>5</td>\n",
              "      <td>2</td>\n",
              "      <td>mariokeller</td>\n",
              "      <td>2</td>\n",
              "    </tr>\n",
              "  </tbody>\n",
              "</table>\n",
              "</div>"
            ],
            "text/plain": [
              "   rating_id  book_id       username  rating\n",
              "0          1        1     ryanfranco       4\n",
              "1          2        1  grantpatricia       2\n",
              "2          3        1   brandtandrea       5\n",
              "3          4        2       lorichen       3\n",
              "4          5        2    mariokeller       2"
            ]
          },
          "execution_count": 5,
          "metadata": {},
          "output_type": "execute_result"
        }
      ],
      "source": [
        "# формируем запрос и выводим данные таблицы ratings\n",
        "query_ratings = '''SELECT * FROM ratings LIMIT 5'''\n",
        "get_sql_data(query_ratings)"
      ]
    },
    {
      "cell_type": "markdown",
      "metadata": {
        "id": "TwIvZ0B_Vg-Y"
      },
      "source": [
        "В таблице ratings содержатся данные о id оценки, id книг, ник-нейм пользователя и оценка книги, которую присвоил пользователь"
      ]
    },
    {
      "cell_type": "code",
      "execution_count": null,
      "metadata": {
        "id": "S2P_vsLzVg-Y",
        "outputId": "34d5f30b-af87-4e48-e34c-ddc5d5daad2e"
      },
      "outputs": [
        {
          "data": {
            "text/html": [
              "<div>\n",
              "<style scoped>\n",
              "    .dataframe tbody tr th:only-of-type {\n",
              "        vertical-align: middle;\n",
              "    }\n",
              "\n",
              "    .dataframe tbody tr th {\n",
              "        vertical-align: top;\n",
              "    }\n",
              "\n",
              "    .dataframe thead th {\n",
              "        text-align: right;\n",
              "    }\n",
              "</style>\n",
              "<table border=\"1\" class=\"dataframe\">\n",
              "  <thead>\n",
              "    <tr style=\"text-align: right;\">\n",
              "      <th></th>\n",
              "      <th>review_id</th>\n",
              "      <th>book_id</th>\n",
              "      <th>username</th>\n",
              "      <th>text</th>\n",
              "    </tr>\n",
              "  </thead>\n",
              "  <tbody>\n",
              "    <tr>\n",
              "      <th>0</th>\n",
              "      <td>1</td>\n",
              "      <td>1</td>\n",
              "      <td>brandtandrea</td>\n",
              "      <td>Mention society tell send professor analysis. ...</td>\n",
              "    </tr>\n",
              "    <tr>\n",
              "      <th>1</th>\n",
              "      <td>2</td>\n",
              "      <td>1</td>\n",
              "      <td>ryanfranco</td>\n",
              "      <td>Foot glass pretty audience hit themselves. Amo...</td>\n",
              "    </tr>\n",
              "    <tr>\n",
              "      <th>2</th>\n",
              "      <td>3</td>\n",
              "      <td>2</td>\n",
              "      <td>lorichen</td>\n",
              "      <td>Listen treat keep worry. Miss husband tax but ...</td>\n",
              "    </tr>\n",
              "    <tr>\n",
              "      <th>3</th>\n",
              "      <td>4</td>\n",
              "      <td>3</td>\n",
              "      <td>johnsonamanda</td>\n",
              "      <td>Finally month interesting blue could nature cu...</td>\n",
              "    </tr>\n",
              "    <tr>\n",
              "      <th>4</th>\n",
              "      <td>5</td>\n",
              "      <td>3</td>\n",
              "      <td>scotttamara</td>\n",
              "      <td>Nation purpose heavy give wait song will. List...</td>\n",
              "    </tr>\n",
              "  </tbody>\n",
              "</table>\n",
              "</div>"
            ],
            "text/plain": [
              "   review_id  book_id       username  \\\n",
              "0          1        1   brandtandrea   \n",
              "1          2        1     ryanfranco   \n",
              "2          3        2       lorichen   \n",
              "3          4        3  johnsonamanda   \n",
              "4          5        3    scotttamara   \n",
              "\n",
              "                                                text  \n",
              "0  Mention society tell send professor analysis. ...  \n",
              "1  Foot glass pretty audience hit themselves. Amo...  \n",
              "2  Listen treat keep worry. Miss husband tax but ...  \n",
              "3  Finally month interesting blue could nature cu...  \n",
              "4  Nation purpose heavy give wait song will. List...  "
            ]
          },
          "execution_count": 6,
          "metadata": {},
          "output_type": "execute_result"
        }
      ],
      "source": [
        "# формируем запрос и выводим данные таблицы reviews\n",
        "query_reviews = '''SELECT * FROM reviews LIMIT 5'''\n",
        "get_sql_data(query_reviews)"
      ]
    },
    {
      "cell_type": "markdown",
      "metadata": {
        "id": "ScO26dA4Vg-Z"
      },
      "source": [
        "В таблице reviews содержатся данные о id обзора, id книги, к которой написан обзор, ник-нейм пользователя, оставивший этот обзор, и текст обзора"
      ]
    },
    {
      "cell_type": "code",
      "execution_count": null,
      "metadata": {
        "id": "06wqJ-ylVg-Z",
        "outputId": "91ee0775-be3f-4134-be6b-abdaf2db5f9e"
      },
      "outputs": [
        {
          "data": {
            "text/html": [
              "<div>\n",
              "<style scoped>\n",
              "    .dataframe tbody tr th:only-of-type {\n",
              "        vertical-align: middle;\n",
              "    }\n",
              "\n",
              "    .dataframe tbody tr th {\n",
              "        vertical-align: top;\n",
              "    }\n",
              "\n",
              "    .dataframe thead th {\n",
              "        text-align: right;\n",
              "    }\n",
              "</style>\n",
              "<table border=\"1\" class=\"dataframe\">\n",
              "  <thead>\n",
              "    <tr style=\"text-align: right;\">\n",
              "      <th></th>\n",
              "      <th>publisher_id</th>\n",
              "      <th>publisher</th>\n",
              "    </tr>\n",
              "  </thead>\n",
              "  <tbody>\n",
              "    <tr>\n",
              "      <th>0</th>\n",
              "      <td>1</td>\n",
              "      <td>Ace</td>\n",
              "    </tr>\n",
              "    <tr>\n",
              "      <th>1</th>\n",
              "      <td>2</td>\n",
              "      <td>Ace Book</td>\n",
              "    </tr>\n",
              "    <tr>\n",
              "      <th>2</th>\n",
              "      <td>3</td>\n",
              "      <td>Ace Books</td>\n",
              "    </tr>\n",
              "    <tr>\n",
              "      <th>3</th>\n",
              "      <td>4</td>\n",
              "      <td>Ace Hardcover</td>\n",
              "    </tr>\n",
              "    <tr>\n",
              "      <th>4</th>\n",
              "      <td>5</td>\n",
              "      <td>Addison Wesley Publishing Company</td>\n",
              "    </tr>\n",
              "  </tbody>\n",
              "</table>\n",
              "</div>"
            ],
            "text/plain": [
              "   publisher_id                          publisher\n",
              "0             1                                Ace\n",
              "1             2                           Ace Book\n",
              "2             3                          Ace Books\n",
              "3             4                      Ace Hardcover\n",
              "4             5  Addison Wesley Publishing Company"
            ]
          },
          "execution_count": 7,
          "metadata": {},
          "output_type": "execute_result"
        }
      ],
      "source": [
        "# формируем запрос и выводим данные таблицы publishers\n",
        "query_publishers = '''SELECT * FROM publishers LIMIT 5'''\n",
        "get_sql_data(query_publishers)"
      ]
    },
    {
      "cell_type": "code",
      "execution_count": null,
      "metadata": {
        "id": "HVMo0_VAVg-Z"
      },
      "outputs": [],
      "source": []
    },
    {
      "cell_type": "code",
      "execution_count": null,
      "metadata": {
        "id": "xwd9l3PVVg-Z",
        "outputId": "fae217da-1174-4f39-be9a-7ad18ed76274"
      },
      "outputs": [
        {
          "data": {
            "text/html": [
              "<div>\n",
              "<style scoped>\n",
              "    .dataframe tbody tr th:only-of-type {\n",
              "        vertical-align: middle;\n",
              "    }\n",
              "\n",
              "    .dataframe tbody tr th {\n",
              "        vertical-align: top;\n",
              "    }\n",
              "\n",
              "    .dataframe thead th {\n",
              "        text-align: right;\n",
              "    }\n",
              "</style>\n",
              "<table border=\"1\" class=\"dataframe\">\n",
              "  <thead>\n",
              "    <tr style=\"text-align: right;\">\n",
              "      <th></th>\n",
              "      <th>publisher_id</th>\n",
              "      <th>publisher</th>\n",
              "      <th>split_part</th>\n",
              "    </tr>\n",
              "  </thead>\n",
              "  <tbody>\n",
              "    <tr>\n",
              "      <th>0</th>\n",
              "      <td>1</td>\n",
              "      <td>Ace</td>\n",
              "      <td></td>\n",
              "    </tr>\n",
              "    <tr>\n",
              "      <th>1</th>\n",
              "      <td>2</td>\n",
              "      <td>Ace Book</td>\n",
              "      <td>Book</td>\n",
              "    </tr>\n",
              "    <tr>\n",
              "      <th>2</th>\n",
              "      <td>3</td>\n",
              "      <td>Ace Books</td>\n",
              "      <td>Books</td>\n",
              "    </tr>\n",
              "    <tr>\n",
              "      <th>3</th>\n",
              "      <td>4</td>\n",
              "      <td>Ace Hardcover</td>\n",
              "      <td>Hardcover</td>\n",
              "    </tr>\n",
              "    <tr>\n",
              "      <th>4</th>\n",
              "      <td>5</td>\n",
              "      <td>Addison Wesley Publishing Company</td>\n",
              "      <td>Wesley</td>\n",
              "    </tr>\n",
              "  </tbody>\n",
              "</table>\n",
              "</div>"
            ],
            "text/plain": [
              "   publisher_id                          publisher split_part\n",
              "0             1                                Ace           \n",
              "1             2                           Ace Book       Book\n",
              "2             3                          Ace Books      Books\n",
              "3             4                      Ace Hardcover  Hardcover\n",
              "4             5  Addison Wesley Publishing Company     Wesley"
            ]
          },
          "execution_count": 18,
          "metadata": {},
          "output_type": "execute_result"
        }
      ],
      "source": [
        "query_publishers1 = '''SELECT *, split_part(publisher, ' ', 2) FROM publishers LIMIT 5'''\n",
        "get_sql_data(query_publishers1)"
      ]
    },
    {
      "cell_type": "code",
      "execution_count": null,
      "metadata": {
        "id": "yiTmah-5Vg-Z"
      },
      "outputs": [],
      "source": []
    },
    {
      "cell_type": "markdown",
      "metadata": {
        "id": "FVdfEgXGVg-Z"
      },
      "source": [
        "В таблице publishers содержатся данные о id издательств и наименование издательств"
      ]
    },
    {
      "cell_type": "markdown",
      "metadata": {
        "id": "cMMJPoLVVg-Z"
      },
      "source": [
        "### Исследуйте таблицы — посчитайте количество строк в каждой таблице"
      ]
    },
    {
      "cell_type": "code",
      "execution_count": null,
      "metadata": {
        "id": "_rjG-hhRVg-Z",
        "outputId": "f33f91be-8e4d-4398-b79f-503eba0dd8d9"
      },
      "outputs": [
        {
          "data": {
            "text/html": [
              "<div>\n",
              "<style scoped>\n",
              "    .dataframe tbody tr th:only-of-type {\n",
              "        vertical-align: middle;\n",
              "    }\n",
              "\n",
              "    .dataframe tbody tr th {\n",
              "        vertical-align: top;\n",
              "    }\n",
              "\n",
              "    .dataframe thead th {\n",
              "        text-align: right;\n",
              "    }\n",
              "</style>\n",
              "<table border=\"1\" class=\"dataframe\">\n",
              "  <thead>\n",
              "    <tr style=\"text-align: right;\">\n",
              "      <th></th>\n",
              "      <th>count</th>\n",
              "    </tr>\n",
              "  </thead>\n",
              "  <tbody>\n",
              "    <tr>\n",
              "      <th>0</th>\n",
              "      <td>1000</td>\n",
              "    </tr>\n",
              "  </tbody>\n",
              "</table>\n",
              "</div>"
            ],
            "text/plain": [
              "   count\n",
              "0   1000"
            ]
          },
          "execution_count": 8,
          "metadata": {},
          "output_type": "execute_result"
        }
      ],
      "source": [
        "# формируем запрос и выводим данные таблицы books\n",
        "count_query_books = '''SELECT count(*) FROM books'''\n",
        "get_sql_data(count_query_books)"
      ]
    },
    {
      "cell_type": "markdown",
      "metadata": {
        "id": "aUUPNpsSVg-a"
      },
      "source": [
        "Количество строк в таблице books 1000 строк"
      ]
    },
    {
      "cell_type": "code",
      "execution_count": null,
      "metadata": {
        "id": "hIgTEHxhVg-a",
        "outputId": "6eb156f6-d489-4a77-d167-6a0d2e6da277"
      },
      "outputs": [
        {
          "data": {
            "text/html": [
              "<div>\n",
              "<style scoped>\n",
              "    .dataframe tbody tr th:only-of-type {\n",
              "        vertical-align: middle;\n",
              "    }\n",
              "\n",
              "    .dataframe tbody tr th {\n",
              "        vertical-align: top;\n",
              "    }\n",
              "\n",
              "    .dataframe thead th {\n",
              "        text-align: right;\n",
              "    }\n",
              "</style>\n",
              "<table border=\"1\" class=\"dataframe\">\n",
              "  <thead>\n",
              "    <tr style=\"text-align: right;\">\n",
              "      <th></th>\n",
              "      <th>count</th>\n",
              "    </tr>\n",
              "  </thead>\n",
              "  <tbody>\n",
              "    <tr>\n",
              "      <th>0</th>\n",
              "      <td>636</td>\n",
              "    </tr>\n",
              "  </tbody>\n",
              "</table>\n",
              "</div>"
            ],
            "text/plain": [
              "   count\n",
              "0    636"
            ]
          },
          "execution_count": 9,
          "metadata": {},
          "output_type": "execute_result"
        }
      ],
      "source": [
        "# формируем запрос и выводим данные таблицы authors\n",
        "count_query_authors = '''SELECT count(*) FROM authors'''\n",
        "get_sql_data(count_query_authors)"
      ]
    },
    {
      "cell_type": "markdown",
      "metadata": {
        "id": "b8mwCCBSVg-a"
      },
      "source": [
        "Количество строк в таблице authors 636 строк"
      ]
    },
    {
      "cell_type": "code",
      "execution_count": null,
      "metadata": {
        "id": "VCYOAb67Vg-a",
        "outputId": "88816c3a-0821-47eb-969a-fd066f1975dd"
      },
      "outputs": [
        {
          "data": {
            "text/html": [
              "<div>\n",
              "<style scoped>\n",
              "    .dataframe tbody tr th:only-of-type {\n",
              "        vertical-align: middle;\n",
              "    }\n",
              "\n",
              "    .dataframe tbody tr th {\n",
              "        vertical-align: top;\n",
              "    }\n",
              "\n",
              "    .dataframe thead th {\n",
              "        text-align: right;\n",
              "    }\n",
              "</style>\n",
              "<table border=\"1\" class=\"dataframe\">\n",
              "  <thead>\n",
              "    <tr style=\"text-align: right;\">\n",
              "      <th></th>\n",
              "      <th>count</th>\n",
              "    </tr>\n",
              "  </thead>\n",
              "  <tbody>\n",
              "    <tr>\n",
              "      <th>0</th>\n",
              "      <td>6456</td>\n",
              "    </tr>\n",
              "  </tbody>\n",
              "</table>\n",
              "</div>"
            ],
            "text/plain": [
              "   count\n",
              "0   6456"
            ]
          },
          "execution_count": 10,
          "metadata": {},
          "output_type": "execute_result"
        }
      ],
      "source": [
        "# формируем запрос и выводим данные таблицы ratings\n",
        "count_query_ratings = '''SELECT count(*) FROM ratings'''\n",
        "get_sql_data(count_query_ratings)"
      ]
    },
    {
      "cell_type": "markdown",
      "metadata": {
        "id": "H425zbjkVg-a"
      },
      "source": [
        "Количество строк в таблице ratings 6456 строк"
      ]
    },
    {
      "cell_type": "code",
      "execution_count": null,
      "metadata": {
        "id": "ExqMaJ-dVg-a",
        "outputId": "29a1fef7-1a06-42da-d5a5-bbc77548084a"
      },
      "outputs": [
        {
          "data": {
            "text/html": [
              "<div>\n",
              "<style scoped>\n",
              "    .dataframe tbody tr th:only-of-type {\n",
              "        vertical-align: middle;\n",
              "    }\n",
              "\n",
              "    .dataframe tbody tr th {\n",
              "        vertical-align: top;\n",
              "    }\n",
              "\n",
              "    .dataframe thead th {\n",
              "        text-align: right;\n",
              "    }\n",
              "</style>\n",
              "<table border=\"1\" class=\"dataframe\">\n",
              "  <thead>\n",
              "    <tr style=\"text-align: right;\">\n",
              "      <th></th>\n",
              "      <th>count</th>\n",
              "    </tr>\n",
              "  </thead>\n",
              "  <tbody>\n",
              "    <tr>\n",
              "      <th>0</th>\n",
              "      <td>2793</td>\n",
              "    </tr>\n",
              "  </tbody>\n",
              "</table>\n",
              "</div>"
            ],
            "text/plain": [
              "   count\n",
              "0   2793"
            ]
          },
          "execution_count": 11,
          "metadata": {},
          "output_type": "execute_result"
        }
      ],
      "source": [
        "# формируем запрос и выводим данные таблицы reviews\n",
        "count_query_reviews = '''SELECT count(*) FROM reviews'''\n",
        "get_sql_data(count_query_reviews)"
      ]
    },
    {
      "cell_type": "markdown",
      "metadata": {
        "id": "3pBoMNB7Vg-a"
      },
      "source": [
        "Количество строк в таблице reviews 2793 строк"
      ]
    },
    {
      "cell_type": "code",
      "execution_count": null,
      "metadata": {
        "id": "maVpHvt_Vg-a",
        "outputId": "4b1f9b78-50ee-49aa-bbc0-42933571f9be"
      },
      "outputs": [
        {
          "data": {
            "text/html": [
              "<div>\n",
              "<style scoped>\n",
              "    .dataframe tbody tr th:only-of-type {\n",
              "        vertical-align: middle;\n",
              "    }\n",
              "\n",
              "    .dataframe tbody tr th {\n",
              "        vertical-align: top;\n",
              "    }\n",
              "\n",
              "    .dataframe thead th {\n",
              "        text-align: right;\n",
              "    }\n",
              "</style>\n",
              "<table border=\"1\" class=\"dataframe\">\n",
              "  <thead>\n",
              "    <tr style=\"text-align: right;\">\n",
              "      <th></th>\n",
              "      <th>count</th>\n",
              "    </tr>\n",
              "  </thead>\n",
              "  <tbody>\n",
              "    <tr>\n",
              "      <th>0</th>\n",
              "      <td>340</td>\n",
              "    </tr>\n",
              "  </tbody>\n",
              "</table>\n",
              "</div>"
            ],
            "text/plain": [
              "   count\n",
              "0    340"
            ]
          },
          "execution_count": 12,
          "metadata": {},
          "output_type": "execute_result"
        }
      ],
      "source": [
        "# формируем запрос и выводим данные таблицы publishers\n",
        "count_query_publishers = '''SELECT count(*) FROM publishers'''\n",
        "get_sql_data(count_query_publishers)"
      ]
    },
    {
      "cell_type": "markdown",
      "metadata": {
        "id": "1wLyZ74OVg-a"
      },
      "source": [
        "Количество строк в таблице publishers 340 строк"
      ]
    },
    {
      "cell_type": "markdown",
      "metadata": {
        "id": "JhEueVLdVg-c"
      },
      "source": [
        "### Посчитайте, сколько книг вышло после 1 января 2000 года"
      ]
    },
    {
      "cell_type": "code",
      "execution_count": null,
      "metadata": {
        "id": "utZ8TF4SVg-c",
        "outputId": "a845a5ba-eb46-43b5-c7a0-fd607cb22019"
      },
      "outputs": [
        {
          "data": {
            "text/html": [
              "<div>\n",
              "<style scoped>\n",
              "    .dataframe tbody tr th:only-of-type {\n",
              "        vertical-align: middle;\n",
              "    }\n",
              "\n",
              "    .dataframe tbody tr th {\n",
              "        vertical-align: top;\n",
              "    }\n",
              "\n",
              "    .dataframe thead th {\n",
              "        text-align: right;\n",
              "    }\n",
              "</style>\n",
              "<table border=\"1\" class=\"dataframe\">\n",
              "  <thead>\n",
              "    <tr style=\"text-align: right;\">\n",
              "      <th></th>\n",
              "      <th>count_book</th>\n",
              "    </tr>\n",
              "  </thead>\n",
              "  <tbody>\n",
              "    <tr>\n",
              "      <th>0</th>\n",
              "      <td>819</td>\n",
              "    </tr>\n",
              "  </tbody>\n",
              "</table>\n",
              "</div>"
            ],
            "text/plain": [
              "   count_book\n",
              "0         819"
            ]
          },
          "execution_count": 13,
          "metadata": {},
          "output_type": "execute_result"
        }
      ],
      "source": [
        "#Посчитайте, сколько книг вышло после 1 января 2000 года\n",
        "count_book='''\n",
        "SELECT COUNT(book_id) AS count_book\n",
        "FROM books\n",
        "WHERE publication_date> '2000-01-01'\n",
        "'''\n",
        "get_sql_data(count_book)"
      ]
    },
    {
      "cell_type": "markdown",
      "metadata": {
        "id": "GAwHjtEPVg-c"
      },
      "source": [
        "После 1 января 2000 года было выпущено 819 книг"
      ]
    },
    {
      "cell_type": "markdown",
      "metadata": {
        "id": "9BV7BypMVg-d"
      },
      "source": [
        "### Для каждой книги посчитайте количество обзоров и среднюю оценку"
      ]
    },
    {
      "cell_type": "code",
      "execution_count": null,
      "metadata": {
        "id": "YOPb32DQVg-d",
        "outputId": "36f1dcc4-2f50-4043-a801-4c6bca943a64"
      },
      "outputs": [
        {
          "data": {
            "text/html": [
              "<div>\n",
              "<style scoped>\n",
              "    .dataframe tbody tr th:only-of-type {\n",
              "        vertical-align: middle;\n",
              "    }\n",
              "\n",
              "    .dataframe tbody tr th {\n",
              "        vertical-align: top;\n",
              "    }\n",
              "\n",
              "    .dataframe thead th {\n",
              "        text-align: right;\n",
              "    }\n",
              "</style>\n",
              "<table border=\"1\" class=\"dataframe\">\n",
              "  <thead>\n",
              "    <tr style=\"text-align: right;\">\n",
              "      <th></th>\n",
              "      <th>book_title</th>\n",
              "      <th>book_id</th>\n",
              "      <th>rating_avg</th>\n",
              "      <th>count_rewiews</th>\n",
              "    </tr>\n",
              "  </thead>\n",
              "  <tbody>\n",
              "    <tr>\n",
              "      <th>0</th>\n",
              "      <td>Twilight (Twilight  #1)</td>\n",
              "      <td>948</td>\n",
              "      <td>3.662500</td>\n",
              "      <td>7</td>\n",
              "    </tr>\n",
              "    <tr>\n",
              "      <th>1</th>\n",
              "      <td>Harry Potter and the Prisoner of Azkaban (Harr...</td>\n",
              "      <td>302</td>\n",
              "      <td>4.414634</td>\n",
              "      <td>6</td>\n",
              "    </tr>\n",
              "    <tr>\n",
              "      <th>2</th>\n",
              "      <td>Harry Potter and the Chamber of Secrets (Harry...</td>\n",
              "      <td>299</td>\n",
              "      <td>4.287500</td>\n",
              "      <td>6</td>\n",
              "    </tr>\n",
              "    <tr>\n",
              "      <th>3</th>\n",
              "      <td>The Book Thief</td>\n",
              "      <td>656</td>\n",
              "      <td>4.264151</td>\n",
              "      <td>6</td>\n",
              "    </tr>\n",
              "    <tr>\n",
              "      <th>4</th>\n",
              "      <td>The Glass Castle</td>\n",
              "      <td>734</td>\n",
              "      <td>4.206897</td>\n",
              "      <td>6</td>\n",
              "    </tr>\n",
              "    <tr>\n",
              "      <th>5</th>\n",
              "      <td>Outlander (Outlander  #1)</td>\n",
              "      <td>497</td>\n",
              "      <td>4.125000</td>\n",
              "      <td>6</td>\n",
              "    </tr>\n",
              "    <tr>\n",
              "      <th>6</th>\n",
              "      <td>The Hobbit  or There and Back Again</td>\n",
              "      <td>750</td>\n",
              "      <td>4.125000</td>\n",
              "      <td>6</td>\n",
              "    </tr>\n",
              "    <tr>\n",
              "      <th>7</th>\n",
              "      <td>The Curious Incident of the Dog in the Night-Time</td>\n",
              "      <td>695</td>\n",
              "      <td>4.081081</td>\n",
              "      <td>6</td>\n",
              "    </tr>\n",
              "    <tr>\n",
              "      <th>8</th>\n",
              "      <td>The Lightning Thief (Percy Jackson and the Oly...</td>\n",
              "      <td>779</td>\n",
              "      <td>4.080645</td>\n",
              "      <td>6</td>\n",
              "    </tr>\n",
              "    <tr>\n",
              "      <th>9</th>\n",
              "      <td>Water for Elephants</td>\n",
              "      <td>963</td>\n",
              "      <td>3.977273</td>\n",
              "      <td>6</td>\n",
              "    </tr>\n",
              "    <tr>\n",
              "      <th>10</th>\n",
              "      <td>The Da Vinci Code (Robert Langdon  #2)</td>\n",
              "      <td>696</td>\n",
              "      <td>3.830508</td>\n",
              "      <td>6</td>\n",
              "    </tr>\n",
              "    <tr>\n",
              "      <th>11</th>\n",
              "      <td>The Catcher in the Rye</td>\n",
              "      <td>673</td>\n",
              "      <td>3.825581</td>\n",
              "      <td>6</td>\n",
              "    </tr>\n",
              "    <tr>\n",
              "      <th>12</th>\n",
              "      <td>The Alchemist</td>\n",
              "      <td>627</td>\n",
              "      <td>3.789474</td>\n",
              "      <td>6</td>\n",
              "    </tr>\n",
              "    <tr>\n",
              "      <th>13</th>\n",
              "      <td>The Road</td>\n",
              "      <td>854</td>\n",
              "      <td>3.772727</td>\n",
              "      <td>6</td>\n",
              "    </tr>\n",
              "    <tr>\n",
              "      <th>14</th>\n",
              "      <td>The Giver (The Giver  #1)</td>\n",
              "      <td>733</td>\n",
              "      <td>3.750000</td>\n",
              "      <td>6</td>\n",
              "    </tr>\n",
              "    <tr>\n",
              "      <th>15</th>\n",
              "      <td>Eat  Pray  Love</td>\n",
              "      <td>207</td>\n",
              "      <td>3.395833</td>\n",
              "      <td>6</td>\n",
              "    </tr>\n",
              "  </tbody>\n",
              "</table>\n",
              "</div>"
            ],
            "text/plain": [
              "                                           book_title  book_id  rating_avg  \\\n",
              "0                             Twilight (Twilight  #1)      948    3.662500   \n",
              "1   Harry Potter and the Prisoner of Azkaban (Harr...      302    4.414634   \n",
              "2   Harry Potter and the Chamber of Secrets (Harry...      299    4.287500   \n",
              "3                                      The Book Thief      656    4.264151   \n",
              "4                                    The Glass Castle      734    4.206897   \n",
              "5                           Outlander (Outlander  #1)      497    4.125000   \n",
              "6                 The Hobbit  or There and Back Again      750    4.125000   \n",
              "7   The Curious Incident of the Dog in the Night-Time      695    4.081081   \n",
              "8   The Lightning Thief (Percy Jackson and the Oly...      779    4.080645   \n",
              "9                                 Water for Elephants      963    3.977273   \n",
              "10             The Da Vinci Code (Robert Langdon  #2)      696    3.830508   \n",
              "11                             The Catcher in the Rye      673    3.825581   \n",
              "12                                      The Alchemist      627    3.789474   \n",
              "13                                           The Road      854    3.772727   \n",
              "14                          The Giver (The Giver  #1)      733    3.750000   \n",
              "15                                    Eat  Pray  Love      207    3.395833   \n",
              "\n",
              "    count_rewiews  \n",
              "0               7  \n",
              "1               6  \n",
              "2               6  \n",
              "3               6  \n",
              "4               6  \n",
              "5               6  \n",
              "6               6  \n",
              "7               6  \n",
              "8               6  \n",
              "9               6  \n",
              "10              6  \n",
              "11              6  \n",
              "12              6  \n",
              "13              6  \n",
              "14              6  \n",
              "15              6  "
            ]
          },
          "execution_count": 35,
          "metadata": {},
          "output_type": "execute_result"
        }
      ],
      "source": [
        "#Для каждой книги посчитайте количество обзоров и среднюю оценку\n",
        "avg_rating='''\n",
        "SELECT\n",
        "  books.title AS book_title,\n",
        "  books.book_id AS book_id,\n",
        "  AVG(ratings.rating) AS rating_avg,\n",
        "  COUNT(distinct reviews.review_id) AS count_rewiews\n",
        "FROM books AS books\n",
        "INNER JOIN ratings AS ratings ON books.book_id=ratings.book_id\n",
        "Left JOIN  reviews AS reviews ON books.book_id=reviews.book_id\n",
        "GROUP BY books.title,\n",
        "  books.book_id\n",
        "having COUNT(distinct reviews.review_id) = 6 or COUNT(distinct reviews.review_id) = 7\n",
        "ORDER BY count_rewiews DESC, rating_avg DESC\n",
        "'''\n",
        "get_sql_data(avg_rating)"
      ]
    },
    {
      "cell_type": "markdown",
      "metadata": {
        "id": "9EVx1cTiVg-d"
      },
      "source": [
        "Только у одной книги Twilight (Twilight 1) максимальное кол-во обзоров - 7. Самый высокий рейтинг соответствует в основном книгам, кол-во обзоров на которых составляет 1-2 (за исключением, например, A Dirty Job (Grim Reaper #1), у которой кол-во обзоров 4). Предполагается, что высокий рейтинг обоснован малым кол-вом обзоров но с высокими рейтингами."
      ]
    },
    {
      "cell_type": "markdown",
      "metadata": {
        "id": "ajASBLVzVg-d"
      },
      "source": [
        "### Определите издательство, которое выпустило наибольшее число книг толще 50 страниц — так вы исключите из анализа брошюры"
      ]
    },
    {
      "cell_type": "code",
      "execution_count": null,
      "metadata": {
        "id": "ze8YAYoYVg-d",
        "outputId": "65dc8323-0ccd-4fb7-f5f6-d6406f75a24c"
      },
      "outputs": [
        {
          "data": {
            "text/html": [
              "<div>\n",
              "<style scoped>\n",
              "    .dataframe tbody tr th:only-of-type {\n",
              "        vertical-align: middle;\n",
              "    }\n",
              "\n",
              "    .dataframe tbody tr th {\n",
              "        vertical-align: top;\n",
              "    }\n",
              "\n",
              "    .dataframe thead th {\n",
              "        text-align: right;\n",
              "    }\n",
              "</style>\n",
              "<table border=\"1\" class=\"dataframe\">\n",
              "  <thead>\n",
              "    <tr style=\"text-align: right;\">\n",
              "      <th></th>\n",
              "      <th>name_publisher</th>\n",
              "      <th>books_name_count</th>\n",
              "    </tr>\n",
              "  </thead>\n",
              "  <tbody>\n",
              "    <tr>\n",
              "      <th>0</th>\n",
              "      <td>Penguin Books</td>\n",
              "      <td>42</td>\n",
              "    </tr>\n",
              "    <tr>\n",
              "      <th>1</th>\n",
              "      <td>Vintage</td>\n",
              "      <td>31</td>\n",
              "    </tr>\n",
              "    <tr>\n",
              "      <th>2</th>\n",
              "      <td>Grand Central Publishing</td>\n",
              "      <td>25</td>\n",
              "    </tr>\n",
              "    <tr>\n",
              "      <th>3</th>\n",
              "      <td>Penguin Classics</td>\n",
              "      <td>24</td>\n",
              "    </tr>\n",
              "    <tr>\n",
              "      <th>4</th>\n",
              "      <td>Ballantine Books</td>\n",
              "      <td>19</td>\n",
              "    </tr>\n",
              "    <tr>\n",
              "      <th>5</th>\n",
              "      <td>Bantam</td>\n",
              "      <td>19</td>\n",
              "    </tr>\n",
              "    <tr>\n",
              "      <th>6</th>\n",
              "      <td>Berkley</td>\n",
              "      <td>17</td>\n",
              "    </tr>\n",
              "    <tr>\n",
              "      <th>7</th>\n",
              "      <td>St. Martin's Press</td>\n",
              "      <td>14</td>\n",
              "    </tr>\n",
              "    <tr>\n",
              "      <th>8</th>\n",
              "      <td>Berkley Books</td>\n",
              "      <td>14</td>\n",
              "    </tr>\n",
              "    <tr>\n",
              "      <th>9</th>\n",
              "      <td>William Morrow Paperbacks</td>\n",
              "      <td>13</td>\n",
              "    </tr>\n",
              "    <tr>\n",
              "      <th>10</th>\n",
              "      <td>Delta</td>\n",
              "      <td>13</td>\n",
              "    </tr>\n",
              "    <tr>\n",
              "      <th>11</th>\n",
              "      <td>HarperCollins</td>\n",
              "      <td>12</td>\n",
              "    </tr>\n",
              "    <tr>\n",
              "      <th>12</th>\n",
              "      <td>Little  Brown and Company</td>\n",
              "      <td>12</td>\n",
              "    </tr>\n",
              "    <tr>\n",
              "      <th>13</th>\n",
              "      <td>Harper Perennial</td>\n",
              "      <td>12</td>\n",
              "    </tr>\n",
              "    <tr>\n",
              "      <th>14</th>\n",
              "      <td>Tor Books</td>\n",
              "      <td>11</td>\n",
              "    </tr>\n",
              "  </tbody>\n",
              "</table>\n",
              "</div>"
            ],
            "text/plain": [
              "               name_publisher  books_name_count\n",
              "0               Penguin Books                42\n",
              "1                     Vintage                31\n",
              "2    Grand Central Publishing                25\n",
              "3            Penguin Classics                24\n",
              "4            Ballantine Books                19\n",
              "5                      Bantam                19\n",
              "6                     Berkley                17\n",
              "7          St. Martin's Press                14\n",
              "8               Berkley Books                14\n",
              "9   William Morrow Paperbacks                13\n",
              "10                      Delta                13\n",
              "11              HarperCollins                12\n",
              "12  Little  Brown and Company                12\n",
              "13           Harper Perennial                12\n",
              "14                  Tor Books                11"
            ]
          },
          "execution_count": 23,
          "metadata": {},
          "output_type": "execute_result"
        }
      ],
      "source": [
        "#Определите издательство, которое выпустило наибольшее число книг толще 50 страниц — так вы исключите из анализа брошюры\n",
        "publisher_50='''\n",
        "SELECT publisher.publisher as name_publisher,\n",
        "  count(book.title) as books_name_count\n",
        "FROM books as book\n",
        "INNER JOIN publishers as publisher on book.publisher_id=publisher.publisher_id\n",
        "WHERE book.num_pages>50\n",
        "GROUP BY publisher.publisher_id\n",
        "ORDER BY books_name_count desc\n",
        "LIMIT 15\n",
        "'''\n",
        "get_sql_data(publisher_50)"
      ]
    },
    {
      "cell_type": "markdown",
      "source": [
        "Издательство, выпустившее максимальное кол-во книг, толще 50 страниц, - Penguin Books"
      ],
      "metadata": {
        "id": "Zsu8GoZDV6jf"
      }
    },
    {
      "cell_type": "markdown",
      "metadata": {
        "id": "UZSG5AIYVg-e"
      },
      "source": [
        "### Определите автора с самой высокой средней оценкой книг — учитывайте только книги с 50 и более оценками"
      ]
    },
    {
      "cell_type": "code",
      "execution_count": null,
      "metadata": {
        "id": "AVQzO9TyVg-e",
        "outputId": "8d5f0e40-7626-4854-e187-19bd1dcddc07"
      },
      "outputs": [
        {
          "data": {
            "text/html": [
              "<div>\n",
              "<style scoped>\n",
              "    .dataframe tbody tr th:only-of-type {\n",
              "        vertical-align: middle;\n",
              "    }\n",
              "\n",
              "    .dataframe tbody tr th {\n",
              "        vertical-align: top;\n",
              "    }\n",
              "\n",
              "    .dataframe thead th {\n",
              "        text-align: right;\n",
              "    }\n",
              "</style>\n",
              "<table border=\"1\" class=\"dataframe\">\n",
              "  <thead>\n",
              "    <tr style=\"text-align: right;\">\n",
              "      <th></th>\n",
              "      <th>author_name</th>\n",
              "      <th>rating_avg</th>\n",
              "    </tr>\n",
              "  </thead>\n",
              "  <tbody>\n",
              "    <tr>\n",
              "      <th>0</th>\n",
              "      <td>J.K. Rowling/Mary GrandPré</td>\n",
              "      <td>4.283844</td>\n",
              "    </tr>\n",
              "    <tr>\n",
              "      <th>1</th>\n",
              "      <td>Markus Zusak/Cao Xuân Việt Khương</td>\n",
              "      <td>4.264151</td>\n",
              "    </tr>\n",
              "    <tr>\n",
              "      <th>2</th>\n",
              "      <td>J.R.R. Tolkien</td>\n",
              "      <td>4.258446</td>\n",
              "    </tr>\n",
              "    <tr>\n",
              "      <th>3</th>\n",
              "      <td>Louisa May Alcott</td>\n",
              "      <td>4.192308</td>\n",
              "    </tr>\n",
              "    <tr>\n",
              "      <th>4</th>\n",
              "      <td>Rick Riordan</td>\n",
              "      <td>4.080645</td>\n",
              "    </tr>\n",
              "    <tr>\n",
              "      <th>5</th>\n",
              "      <td>William Golding</td>\n",
              "      <td>3.901408</td>\n",
              "    </tr>\n",
              "    <tr>\n",
              "      <th>6</th>\n",
              "      <td>J.D. Salinger</td>\n",
              "      <td>3.825581</td>\n",
              "    </tr>\n",
              "    <tr>\n",
              "      <th>7</th>\n",
              "      <td>Paulo Coelho/Alan R. Clarke/Özdemir İnce</td>\n",
              "      <td>3.789474</td>\n",
              "    </tr>\n",
              "    <tr>\n",
              "      <th>8</th>\n",
              "      <td>William Shakespeare/Paul Werstine/Barbara A. M...</td>\n",
              "      <td>3.787879</td>\n",
              "    </tr>\n",
              "    <tr>\n",
              "      <th>9</th>\n",
              "      <td>Dan Brown</td>\n",
              "      <td>3.754540</td>\n",
              "    </tr>\n",
              "    <tr>\n",
              "      <th>10</th>\n",
              "      <td>Lois Lowry</td>\n",
              "      <td>3.750000</td>\n",
              "    </tr>\n",
              "    <tr>\n",
              "      <th>11</th>\n",
              "      <td>George Orwell/Boris Grabnar/Peter Škerl</td>\n",
              "      <td>3.729730</td>\n",
              "    </tr>\n",
              "    <tr>\n",
              "      <th>12</th>\n",
              "      <td>Stephenie Meyer</td>\n",
              "      <td>3.662500</td>\n",
              "    </tr>\n",
              "    <tr>\n",
              "      <th>13</th>\n",
              "      <td>John Steinbeck</td>\n",
              "      <td>3.622951</td>\n",
              "    </tr>\n",
              "  </tbody>\n",
              "</table>\n",
              "</div>"
            ],
            "text/plain": [
              "                                          author_name  rating_avg\n",
              "0                          J.K. Rowling/Mary GrandPré    4.283844\n",
              "1                   Markus Zusak/Cao Xuân Việt Khương    4.264151\n",
              "2                                      J.R.R. Tolkien    4.258446\n",
              "3                                   Louisa May Alcott    4.192308\n",
              "4                                        Rick Riordan    4.080645\n",
              "5                                     William Golding    3.901408\n",
              "6                                       J.D. Salinger    3.825581\n",
              "7            Paulo Coelho/Alan R. Clarke/Özdemir İnce    3.789474\n",
              "8   William Shakespeare/Paul Werstine/Barbara A. M...    3.787879\n",
              "9                                           Dan Brown    3.754540\n",
              "10                                         Lois Lowry    3.750000\n",
              "11            George Orwell/Boris Grabnar/Peter Škerl    3.729730\n",
              "12                                    Stephenie Meyer    3.662500\n",
              "13                                     John Steinbeck    3.622951"
            ]
          },
          "execution_count": 16,
          "metadata": {},
          "output_type": "execute_result"
        }
      ],
      "source": [
        "#Определите автора с самой высокой средней оценкой книг — учитывайте только книги с 50 и более оценками\n",
        "\n",
        "author_max_rat_50='''\n",
        "select temp.name_author as author_name,\n",
        "  avg(temp.rating) as rating_avg\n",
        "from (select authors.author as name_author,\n",
        "  avg(ratings.rating) as rating,\n",
        "  books.book_id as book,\n",
        "  count(ratings.rating) as book_rating\n",
        "from books as books\n",
        "inner join authors as authors on books.author_id=authors.author_id\n",
        "inner join ratings as ratings on books.book_id=ratings.book_id\n",
        "group by name_author,\n",
        "  book\n",
        "having count(ratings.rating)>=50) as temp\n",
        "group by temp.name_author\n",
        "order by rating_avg desc\n",
        "limit 15\n",
        "'''\n",
        "get_sql_data(author_max_rat_50)"
      ]
    },
    {
      "cell_type": "markdown",
      "metadata": {
        "id": "CGuO8fnkVg-e"
      },
      "source": [
        "Самая высокая средняя оценка соответствует автору J.K. Rowling/Mary GrandPré, чья средняя оценка книг - 4.283844"
      ]
    },
    {
      "cell_type": "markdown",
      "metadata": {
        "id": "OdLFmwvEVg-f"
      },
      "source": [
        "### Посчитайте среднее количество обзоров от пользователей, которые поставили больше 48 оценок"
      ]
    },
    {
      "cell_type": "code",
      "execution_count": null,
      "metadata": {
        "id": "PctlVGYFVg-f",
        "outputId": "5c49a926-8928-47a3-f6d8-ba54ff57366f"
      },
      "outputs": [
        {
          "data": {
            "text/html": [
              "<div>\n",
              "<style scoped>\n",
              "    .dataframe tbody tr th:only-of-type {\n",
              "        vertical-align: middle;\n",
              "    }\n",
              "\n",
              "    .dataframe tbody tr th {\n",
              "        vertical-align: top;\n",
              "    }\n",
              "\n",
              "    .dataframe thead th {\n",
              "        text-align: right;\n",
              "    }\n",
              "</style>\n",
              "<table border=\"1\" class=\"dataframe\">\n",
              "  <thead>\n",
              "    <tr style=\"text-align: right;\">\n",
              "      <th></th>\n",
              "      <th>avg_count_text</th>\n",
              "    </tr>\n",
              "  </thead>\n",
              "  <tbody>\n",
              "    <tr>\n",
              "      <th>0</th>\n",
              "      <td>24.0</td>\n",
              "    </tr>\n",
              "  </tbody>\n",
              "</table>\n",
              "</div>"
            ],
            "text/plain": [
              "   avg_count_text\n",
              "0            24.0"
            ]
          },
          "execution_count": 17,
          "metadata": {},
          "output_type": "execute_result"
        }
      ],
      "source": [
        "#Посчитайте среднее количество обзоров от пользователей, которые поставили больше 48 оценок\n",
        "count_rewiews_users ='''\n",
        "select avg(temp2.text) as avg_count_text\n",
        "from (select count(reviews.text) as text,\n",
        "  temp.username as username\n",
        "from reviews as reviews\n",
        "join (select count(ratings.rating_id) as count_rating,\n",
        "  ratings.username as username\n",
        "from ratings\n",
        "group by ratings.username\n",
        "having count(ratings.rating_id)>48) as temp on reviews.username=temp.username\n",
        "group by temp.username) as temp2\n",
        "'''\n",
        "get_sql_data(count_rewiews_users)"
      ]
    },
    {
      "cell_type": "code",
      "execution_count": null,
      "metadata": {
        "id": "TVQr5gJuVg-f"
      },
      "outputs": [],
      "source": []
    },
    {
      "cell_type": "markdown",
      "metadata": {
        "id": "xd9TDTmdVg-g"
      },
      "source": [
        "Среднее количество обзоров от пользователей, которые поставили больше 48 оценок составляет 24."
      ]
    },
    {
      "cell_type": "markdown",
      "metadata": {
        "id": "A77Szjq8Vg-g"
      },
      "source": [
        "## Выводы"
      ]
    },
    {
      "cell_type": "markdown",
      "metadata": {
        "id": "SgcLXNXsVg-g"
      },
      "source": [
        "1. На среднюю оценку пользователей сильно влияет непосредственно количество таких оценок: чем меньше на книгу выпущено обзор, тем менее \"реальной\" будет оценка, так, например, в целом на книги с максимальным рейтингом выпущено по 1-2 обзора.\n",
        "2. Наиболее популярное издательство, выпускающее книги толще 50 стр. (не брошюры) - Penguin Books. На 2-4 местах в ТОП 5 находятся издания: Vintage, Grand Central Publishing, Penguin Classics и Bantam.  \n",
        "3. В ТОП-5 авторов, чей рейтинг находится в районе 4-5 баллов: J.K. Rowling/Mary GrandPré,Markus Zusak/Cao Xuân Việt Khương, J.R.R. Tolkien, Louisa May Alcott и Rick Riordan. Предполагается, что такие авторы пишут наиболее понравившиеся аудитории книги.  \n",
        "4. Среднее количество обзоров пользователей, которые активно голосуют, составляет 24 отзыва. Предполагается, что отзывам таких читателей стоит \"прислушиваться\", т.к. они лучше разбираются в литературе (им есть с чем сравнить).  "
      ]
    },
    {
      "cell_type": "markdown",
      "metadata": {
        "id": "WB6PjsJQVg-g"
      },
      "source": [
        "### Рекомендации"
      ]
    },
    {
      "cell_type": "markdown",
      "metadata": {
        "id": "1gNMG8kaVg-g"
      },
      "source": [
        "1. Для потенциальной продажи книг, предполагается, что наилучшим вариантом будет предлагать книги с большим количеством оценок, т.к. средняя оценка пользователей на такие книги будет более \"приближена к реальности\".  \n",
        "2. Предполагается, что отзывам читателей, которые написали среднее и выше кол-во обзоров (более или равно 24 кол-во) стоит \"прислушиваться\", т.к. они лучше разбираются в литературе (им есть с чем сравнить)\n",
        "3. Для продажи книг, вероятно, следует допускать/выгружать в первую очередь книги, которые пишут авторы с высокими рейтингами (4-5 баллов)"
      ]
    }
  ],
  "metadata": {
    "ExecuteTimeLog": [
      {
        "duration": 8852,
        "start_time": "2024-02-02T12:49:27.063Z"
      },
      {
        "duration": 53,
        "start_time": "2024-02-02T12:49:47.221Z"
      },
      {
        "duration": 53,
        "start_time": "2024-02-02T12:50:02.174Z"
      },
      {
        "duration": 68,
        "start_time": "2024-02-02T12:50:59.671Z"
      },
      {
        "duration": 65,
        "start_time": "2024-02-02T12:51:55.032Z"
      },
      {
        "duration": 71,
        "start_time": "2024-02-02T12:53:23.587Z"
      },
      {
        "duration": 65,
        "start_time": "2024-02-02T12:55:20.008Z"
      },
      {
        "duration": 67,
        "start_time": "2024-02-02T12:55:54.634Z"
      },
      {
        "duration": 65,
        "start_time": "2024-02-02T12:55:58.971Z"
      },
      {
        "duration": 55,
        "start_time": "2024-02-02T12:57:34.876Z"
      },
      {
        "duration": 59,
        "start_time": "2024-02-02T12:58:23.374Z"
      },
      {
        "duration": 59,
        "start_time": "2024-02-02T13:03:58.569Z"
      },
      {
        "duration": 57,
        "start_time": "2024-02-02T13:05:04.745Z"
      },
      {
        "duration": 246,
        "start_time": "2024-02-02T13:20:31.731Z"
      },
      {
        "duration": 232,
        "start_time": "2024-02-02T13:20:37.163Z"
      },
      {
        "duration": 249,
        "start_time": "2024-02-02T13:20:43.506Z"
      },
      {
        "duration": 234,
        "start_time": "2024-02-02T13:20:53.003Z"
      },
      {
        "duration": 58,
        "start_time": "2024-02-02T13:21:10.283Z"
      },
      {
        "duration": 57,
        "start_time": "2024-02-02T13:21:18.404Z"
      },
      {
        "duration": 55,
        "start_time": "2024-02-02T13:21:39.403Z"
      },
      {
        "duration": 9054,
        "start_time": "2024-02-03T01:38:25.617Z"
      },
      {
        "duration": 50,
        "start_time": "2024-02-03T01:38:34.673Z"
      },
      {
        "duration": 65,
        "start_time": "2024-02-03T01:38:34.725Z"
      },
      {
        "duration": 52,
        "start_time": "2024-02-03T01:38:34.792Z"
      },
      {
        "duration": 58,
        "start_time": "2024-02-03T01:38:34.846Z"
      },
      {
        "duration": 54,
        "start_time": "2024-02-03T01:38:34.906Z"
      },
      {
        "duration": 93,
        "start_time": "2024-02-03T01:39:17.073Z"
      },
      {
        "duration": 64,
        "start_time": "2024-02-03T01:39:19.660Z"
      },
      {
        "duration": 8265,
        "start_time": "2024-02-03T09:47:53.315Z"
      },
      {
        "duration": 237,
        "start_time": "2024-02-03T09:48:01.582Z"
      },
      {
        "duration": 50,
        "start_time": "2024-02-03T09:48:01.821Z"
      },
      {
        "duration": 72,
        "start_time": "2024-02-03T09:48:01.872Z"
      },
      {
        "duration": 52,
        "start_time": "2024-02-03T09:48:01.946Z"
      },
      {
        "duration": 58,
        "start_time": "2024-02-03T09:48:01.999Z"
      },
      {
        "duration": 54,
        "start_time": "2024-02-03T09:48:02.059Z"
      },
      {
        "duration": 50,
        "start_time": "2024-02-03T09:51:01.328Z"
      },
      {
        "duration": 56,
        "start_time": "2024-02-03T09:53:49.532Z"
      },
      {
        "duration": 50,
        "start_time": "2024-02-03T09:54:08.035Z"
      },
      {
        "duration": 50,
        "start_time": "2024-02-03T09:54:31.276Z"
      },
      {
        "duration": 581,
        "start_time": "2024-02-03T09:55:51.317Z"
      },
      {
        "duration": 7770,
        "start_time": "2024-02-03T09:55:51.903Z"
      },
      {
        "duration": 232,
        "start_time": "2024-02-03T09:55:59.674Z"
      },
      {
        "duration": 52,
        "start_time": "2024-02-03T09:55:59.909Z"
      },
      {
        "duration": 54,
        "start_time": "2024-02-03T09:55:59.963Z"
      },
      {
        "duration": 54,
        "start_time": "2024-02-03T09:56:00.018Z"
      },
      {
        "duration": 53,
        "start_time": "2024-02-03T09:56:00.074Z"
      },
      {
        "duration": 52,
        "start_time": "2024-02-03T09:56:00.129Z"
      },
      {
        "duration": 70,
        "start_time": "2024-02-03T09:56:00.183Z"
      },
      {
        "duration": 54,
        "start_time": "2024-02-03T09:56:00.256Z"
      },
      {
        "duration": 58,
        "start_time": "2024-02-03T09:56:00.312Z"
      },
      {
        "duration": 66,
        "start_time": "2024-02-03T09:56:00.372Z"
      },
      {
        "duration": 49,
        "start_time": "2024-02-03T10:01:03.443Z"
      },
      {
        "duration": 49,
        "start_time": "2024-02-03T10:01:23.379Z"
      },
      {
        "duration": 50,
        "start_time": "2024-02-03T10:01:33.076Z"
      },
      {
        "duration": 49,
        "start_time": "2024-02-03T10:02:37.534Z"
      },
      {
        "duration": 54,
        "start_time": "2024-02-03T10:02:42.223Z"
      },
      {
        "duration": 57,
        "start_time": "2024-02-03T10:03:00.742Z"
      },
      {
        "duration": 79,
        "start_time": "2024-02-03T10:03:05.333Z"
      },
      {
        "duration": 51,
        "start_time": "2024-02-03T10:03:14.102Z"
      },
      {
        "duration": 49,
        "start_time": "2024-02-03T10:04:41.376Z"
      },
      {
        "duration": 72,
        "start_time": "2024-02-03T10:25:51.857Z"
      },
      {
        "duration": 52,
        "start_time": "2024-02-03T10:32:06.047Z"
      },
      {
        "duration": 68,
        "start_time": "2024-02-03T10:32:14.488Z"
      },
      {
        "duration": 51,
        "start_time": "2024-02-03T10:32:17.487Z"
      },
      {
        "duration": 50,
        "start_time": "2024-02-03T10:33:26.817Z"
      },
      {
        "duration": 109,
        "start_time": "2024-02-03T10:33:37.057Z"
      },
      {
        "duration": 54,
        "start_time": "2024-02-03T10:33:42.458Z"
      },
      {
        "duration": 50,
        "start_time": "2024-02-03T10:34:17.586Z"
      },
      {
        "duration": 70,
        "start_time": "2024-02-03T10:34:35.722Z"
      },
      {
        "duration": 49,
        "start_time": "2024-02-03T10:34:54.619Z"
      },
      {
        "duration": 71,
        "start_time": "2024-02-03T10:38:32.319Z"
      },
      {
        "duration": 515,
        "start_time": "2024-02-03T10:38:46.237Z"
      },
      {
        "duration": 7928,
        "start_time": "2024-02-03T10:38:46.754Z"
      },
      {
        "duration": 233,
        "start_time": "2024-02-03T10:38:54.683Z"
      },
      {
        "duration": 51,
        "start_time": "2024-02-03T10:38:54.918Z"
      },
      {
        "duration": 52,
        "start_time": "2024-02-03T10:38:54.971Z"
      },
      {
        "duration": 51,
        "start_time": "2024-02-03T10:38:55.025Z"
      },
      {
        "duration": 52,
        "start_time": "2024-02-03T10:38:55.077Z"
      },
      {
        "duration": 51,
        "start_time": "2024-02-03T10:38:55.130Z"
      },
      {
        "duration": 50,
        "start_time": "2024-02-03T10:38:55.183Z"
      },
      {
        "duration": 51,
        "start_time": "2024-02-03T10:38:55.234Z"
      },
      {
        "duration": 51,
        "start_time": "2024-02-03T10:38:55.287Z"
      },
      {
        "duration": 51,
        "start_time": "2024-02-03T10:38:55.340Z"
      },
      {
        "duration": 51,
        "start_time": "2024-02-03T10:38:55.392Z"
      },
      {
        "duration": 65,
        "start_time": "2024-02-03T10:38:55.446Z"
      },
      {
        "duration": 52,
        "start_time": "2024-02-03T10:38:55.513Z"
      },
      {
        "duration": 57,
        "start_time": "2024-02-03T10:38:55.566Z"
      },
      {
        "duration": 53,
        "start_time": "2024-02-03T10:38:55.625Z"
      },
      {
        "duration": 91,
        "start_time": "2024-02-03T10:44:17.654Z"
      },
      {
        "duration": 98,
        "start_time": "2024-02-03T11:03:37.020Z"
      },
      {
        "duration": 526,
        "start_time": "2024-02-03T11:26:41.171Z"
      },
      {
        "duration": 8426,
        "start_time": "2024-02-03T11:26:41.699Z"
      },
      {
        "duration": 234,
        "start_time": "2024-02-03T11:26:50.127Z"
      },
      {
        "duration": 52,
        "start_time": "2024-02-03T11:26:50.362Z"
      },
      {
        "duration": 53,
        "start_time": "2024-02-03T11:26:50.415Z"
      },
      {
        "duration": 53,
        "start_time": "2024-02-03T11:26:50.469Z"
      },
      {
        "duration": 51,
        "start_time": "2024-02-03T11:26:50.524Z"
      },
      {
        "duration": 51,
        "start_time": "2024-02-03T11:26:50.576Z"
      },
      {
        "duration": 51,
        "start_time": "2024-02-03T11:26:50.628Z"
      },
      {
        "duration": 52,
        "start_time": "2024-02-03T11:26:50.681Z"
      },
      {
        "duration": 51,
        "start_time": "2024-02-03T11:26:50.735Z"
      },
      {
        "duration": 50,
        "start_time": "2024-02-03T11:26:50.787Z"
      },
      {
        "duration": 51,
        "start_time": "2024-02-03T11:26:50.839Z"
      },
      {
        "duration": 94,
        "start_time": "2024-02-03T11:26:50.891Z"
      },
      {
        "duration": 52,
        "start_time": "2024-02-03T11:26:50.987Z"
      },
      {
        "duration": 58,
        "start_time": "2024-02-03T11:26:51.041Z"
      },
      {
        "duration": 52,
        "start_time": "2024-02-03T11:26:51.101Z"
      },
      {
        "duration": 583,
        "start_time": "2024-02-03T11:27:10.400Z"
      },
      {
        "duration": 8107,
        "start_time": "2024-02-03T11:27:10.985Z"
      },
      {
        "duration": 229,
        "start_time": "2024-02-03T11:27:19.094Z"
      },
      {
        "duration": 51,
        "start_time": "2024-02-03T11:27:19.325Z"
      },
      {
        "duration": 51,
        "start_time": "2024-02-03T11:27:19.378Z"
      },
      {
        "duration": 53,
        "start_time": "2024-02-03T11:27:19.430Z"
      },
      {
        "duration": 53,
        "start_time": "2024-02-03T11:27:19.485Z"
      },
      {
        "duration": 50,
        "start_time": "2024-02-03T11:27:19.540Z"
      },
      {
        "duration": 50,
        "start_time": "2024-02-03T11:27:19.592Z"
      },
      {
        "duration": 50,
        "start_time": "2024-02-03T11:27:19.643Z"
      },
      {
        "duration": 50,
        "start_time": "2024-02-03T11:27:19.695Z"
      },
      {
        "duration": 49,
        "start_time": "2024-02-03T11:27:19.747Z"
      },
      {
        "duration": 50,
        "start_time": "2024-02-03T11:27:19.798Z"
      },
      {
        "duration": 88,
        "start_time": "2024-02-03T11:27:19.850Z"
      },
      {
        "duration": 51,
        "start_time": "2024-02-03T11:27:19.939Z"
      },
      {
        "duration": 57,
        "start_time": "2024-02-03T11:27:19.992Z"
      },
      {
        "duration": 53,
        "start_time": "2024-02-03T11:27:20.050Z"
      },
      {
        "duration": 522,
        "start_time": "2024-02-03T17:03:17.160Z"
      },
      {
        "duration": 15477,
        "start_time": "2024-02-03T17:03:17.684Z"
      },
      {
        "duration": 56,
        "start_time": "2024-02-03T17:03:33.163Z"
      },
      {
        "duration": 10,
        "start_time": "2024-02-03T17:03:33.221Z"
      },
      {
        "duration": 49,
        "start_time": "2024-02-03T17:03:33.232Z"
      },
      {
        "duration": 14,
        "start_time": "2024-02-03T17:03:33.282Z"
      },
      {
        "duration": 10,
        "start_time": "2024-02-03T17:03:33.297Z"
      },
      {
        "duration": 8,
        "start_time": "2024-02-03T17:03:33.309Z"
      },
      {
        "duration": 9,
        "start_time": "2024-02-03T17:03:33.319Z"
      },
      {
        "duration": 9,
        "start_time": "2024-02-03T17:03:33.330Z"
      },
      {
        "duration": 18,
        "start_time": "2024-02-03T17:03:33.341Z"
      },
      {
        "duration": 8,
        "start_time": "2024-02-03T17:03:33.361Z"
      },
      {
        "duration": 8,
        "start_time": "2024-02-03T17:03:33.371Z"
      },
      {
        "duration": 29,
        "start_time": "2024-02-03T17:03:33.381Z"
      },
      {
        "duration": 10,
        "start_time": "2024-02-03T17:03:33.411Z"
      },
      {
        "duration": 35,
        "start_time": "2024-02-03T17:03:33.422Z"
      },
      {
        "duration": 13,
        "start_time": "2024-02-03T17:03:33.458Z"
      },
      {
        "duration": 516,
        "start_time": "2024-02-03T17:04:30.595Z"
      },
      {
        "duration": 7639,
        "start_time": "2024-02-03T17:04:31.113Z"
      },
      {
        "duration": 52,
        "start_time": "2024-02-03T17:04:38.754Z"
      },
      {
        "duration": 12,
        "start_time": "2024-02-03T17:04:38.808Z"
      },
      {
        "duration": 10,
        "start_time": "2024-02-03T17:04:38.822Z"
      },
      {
        "duration": 16,
        "start_time": "2024-02-03T17:04:38.834Z"
      },
      {
        "duration": 10,
        "start_time": "2024-02-03T17:04:38.852Z"
      },
      {
        "duration": 11,
        "start_time": "2024-02-03T17:04:38.864Z"
      },
      {
        "duration": 12,
        "start_time": "2024-02-03T17:04:38.877Z"
      },
      {
        "duration": 20,
        "start_time": "2024-02-03T17:04:38.892Z"
      },
      {
        "duration": 12,
        "start_time": "2024-02-03T17:04:38.914Z"
      },
      {
        "duration": 9,
        "start_time": "2024-02-03T17:04:38.928Z"
      },
      {
        "duration": 22,
        "start_time": "2024-02-03T17:04:38.938Z"
      },
      {
        "duration": 29,
        "start_time": "2024-02-03T17:04:38.961Z"
      },
      {
        "duration": 11,
        "start_time": "2024-02-03T17:04:38.991Z"
      },
      {
        "duration": 17,
        "start_time": "2024-02-03T17:04:39.004Z"
      },
      {
        "duration": 13,
        "start_time": "2024-02-03T17:04:39.022Z"
      },
      {
        "duration": 485,
        "start_time": "2024-04-21T09:04:02.797Z"
      },
      {
        "duration": 9481,
        "start_time": "2024-04-21T09:04:03.283Z"
      },
      {
        "duration": 47,
        "start_time": "2024-04-21T09:04:12.766Z"
      },
      {
        "duration": 9,
        "start_time": "2024-04-21T09:04:12.815Z"
      },
      {
        "duration": 9,
        "start_time": "2024-04-21T09:04:12.826Z"
      },
      {
        "duration": 43,
        "start_time": "2024-04-21T09:04:12.837Z"
      },
      {
        "duration": 9,
        "start_time": "2024-04-21T09:04:12.881Z"
      },
      {
        "duration": 13,
        "start_time": "2024-04-21T09:04:12.891Z"
      },
      {
        "duration": 13,
        "start_time": "2024-04-21T09:04:12.905Z"
      },
      {
        "duration": 33,
        "start_time": "2024-04-21T09:04:12.920Z"
      },
      {
        "duration": 8,
        "start_time": "2024-04-21T09:04:12.954Z"
      },
      {
        "duration": 8,
        "start_time": "2024-04-21T09:04:12.963Z"
      },
      {
        "duration": 8,
        "start_time": "2024-04-21T09:04:12.972Z"
      },
      {
        "duration": 81,
        "start_time": "2024-04-21T09:04:12.982Z"
      },
      {
        "duration": 11,
        "start_time": "2024-04-21T09:04:13.066Z"
      },
      {
        "duration": 45,
        "start_time": "2024-04-21T09:04:13.078Z"
      },
      {
        "duration": 18,
        "start_time": "2024-04-21T09:04:13.125Z"
      },
      {
        "duration": 11,
        "start_time": "2024-04-21T09:05:33.783Z"
      },
      {
        "duration": 14,
        "start_time": "2024-04-21T14:03:52.034Z"
      },
      {
        "duration": 10,
        "start_time": "2024-04-21T14:04:18.298Z"
      },
      {
        "duration": 10,
        "start_time": "2024-04-21T14:04:29.001Z"
      },
      {
        "duration": 11,
        "start_time": "2024-04-21T14:04:35.971Z"
      },
      {
        "duration": 11,
        "start_time": "2024-04-21T14:04:44.859Z"
      },
      {
        "duration": 16,
        "start_time": "2024-04-21T14:05:21.691Z"
      },
      {
        "duration": 11,
        "start_time": "2024-04-21T14:06:02.276Z"
      },
      {
        "duration": 10,
        "start_time": "2024-04-21T14:06:09.957Z"
      },
      {
        "duration": 10,
        "start_time": "2024-04-21T14:06:20.836Z"
      },
      {
        "duration": 10,
        "start_time": "2024-04-21T14:06:24.768Z"
      },
      {
        "duration": 10,
        "start_time": "2024-04-21T14:06:37.227Z"
      },
      {
        "duration": 11,
        "start_time": "2024-04-21T14:06:42.852Z"
      },
      {
        "duration": 10,
        "start_time": "2024-04-21T14:06:53.156Z"
      },
      {
        "duration": 11,
        "start_time": "2024-04-21T14:07:00.019Z"
      },
      {
        "duration": 21,
        "start_time": "2024-04-21T14:10:05.727Z"
      },
      {
        "duration": 20,
        "start_time": "2024-04-21T14:10:16.497Z"
      },
      {
        "duration": 22,
        "start_time": "2024-04-21T14:19:23.443Z"
      }
    ],
    "kernelspec": {
      "display_name": "Python 3 (ipykernel)",
      "language": "python",
      "name": "python3"
    },
    "language_info": {
      "codemirror_mode": {
        "name": "ipython",
        "version": 3
      },
      "file_extension": ".py",
      "mimetype": "text/x-python",
      "name": "python",
      "nbconvert_exporter": "python",
      "pygments_lexer": "ipython3",
      "version": "3.9.5"
    },
    "toc": {
      "base_numbering": 1,
      "nav_menu": {},
      "number_sections": true,
      "sideBar": true,
      "skip_h1_title": true,
      "title_cell": "Table of Contents",
      "title_sidebar": "Contents",
      "toc_cell": false,
      "toc_position": {},
      "toc_section_display": true,
      "toc_window_display": false
    },
    "colab": {
      "provenance": [],
      "include_colab_link": true
    }
  },
  "nbformat": 4,
  "nbformat_minor": 0
}