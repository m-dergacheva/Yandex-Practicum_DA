{
  "cells": [
    {
      "cell_type": "markdown",
      "metadata": {
        "id": "view-in-github",
        "colab_type": "text"
      },
      "source": [
        "<a href=\"https://colab.research.google.com/github/m-dergacheva/Yandex-Practicum_DA/blob/main/Yandex_%D0%90%D0%BD%D0%B0%D0%BB%D0%B8%D0%B7_%D0%BF%D1%83%D1%82%D0%B5%D0%B9_%D1%83%D0%B2%D0%B5%D0%BB%D0%B8%D1%87%D0%B5%D0%BD%D0%B8%D1%8F_%D0%BF%D1%80%D0%B8%D0%B1%D1%8B%D0%BB%D0%B8_%D0%B8%D0%BD%D1%82%D0%B5%D1%80%D0%BD%D0%B5%D1%82_%D0%BC%D0%B0%D0%B3%D0%B0%D0%B7%D0%B8%D0%BD%D0%B0.ipynb\" target=\"_parent\"><img src=\"https://colab.research.google.com/assets/colab-badge.svg\" alt=\"Open In Colab\"/></a>"
      ]
    },
    {
      "cell_type": "markdown",
      "metadata": {
        "id": "PLURzjGNxBDH"
      },
      "source": [
        "<div style=\"border:solid Chocolate 2px; padding: 40px\">\n",
        "\n",
        "<b>Маргарита, привет!👋</b>\n",
        "\n",
        "Меня зовут Арина Уксусова, я буду ревьюером твоего проекта. Ты можешь обращаться ко мне на \"ты\"😏 Надеюсь, тебя также не смутит, если я буду обращаться к тебе на ты, но если это не удобно, обязательно скажи об этом!\n",
        "\n",
        "Пожалуйста, не удаляй мои комментарии, они будут особенно полезны для нашей работы в случае повторной проверки проекта.\n",
        "\n",
        "Ты также можешь реагировать на мои комментарии своими, выделяя их цветами и наиболее понравившимся тебе способом оформления, но явно  отличающимся от моих комментариев. Это нужно, чтобы не создавалась путаница😉\n",
        "\n",
        "Ты можешь найти мои комментарии, обозначенные <font color='green'>зеленым</font>, <font color='gold'>желтым</font> и <font color='red'>красным</font> цветами, например:\n",
        "\n",
        "<br/>\n",
        "\n",
        "<div class=\"alert alert-success\">\n",
        "<h2> Комментарий ревьюера <a class=\"tocSkip\"> </h2>\n",
        "\n",
        "<b>Все отлично!👍:</b> В случае, если решение на отдельном шаге является полностью правильным.\n",
        "</div>\n",
        "\n",
        "<br/>\n",
        "\n",
        "<div class=\"alert alert-warning\">\n",
        "    <h2> Комментарий ревьюера <a class=\"tocSkip\"> </h2>\n",
        "    \n",
        "<b>Некоторые замечания и рекомендации💡:</b> В случае, когда решение на отдельном шаге станет еще лучше, если внести небольшие коррективы.\n",
        "</div>\n",
        "    \n",
        "<br/>\n",
        "\n",
        "<div class=\"alert alert-block alert-danger\">\n",
        "<h2> Комментарий ревьюера <a class=\"tocSkip\"></h2>\n",
        "\n",
        "    \n",
        "<b>На доработку🤔:</b> В случае, когда решение на отдельном шаге требует существенной переработки и внесения правок. Напоминаю, что проект не может быть принят с первого раза, если ревью содержит комментарии, рекомендующие доработать шаги.\n",
        "</div>\n",
        "    \n",
        "Увидев у тебя ошибку, в первый раз я лишь укажу на ее наличие и дам тебе возможность самой найти и исправить ее. На реальной работе твой руководитель будет поступать также, и я пытаюсь подготовить тебя именно к работе аналитиком. Но если ты пока не справишься с такой задачей - при следующей проверке я дам более точную подсказку!🤓"
      ]
    },
    {
      "cell_type": "markdown",
      "metadata": {
        "id": "7r1PhgTixBDK"
      },
      "source": [
        "# Инструменты для увеличения прибыли интернет-магазина. Проверка гипотез."
      ]
    },
    {
      "cell_type": "markdown",
      "metadata": {
        "id": "MWjxuEbYxBDK"
      },
      "source": [
        "**Описание:** Вместе с Отделом маркетинга был подготовлен список гипотез для увеличения выручки.   \n",
        "**Цель исследования:**  Приоритизировать гипотезы, запустить A/B-тест и проанализировать результаты.  \n",
        "\n",
        "**Часть 1. Приоритизация гипотез.**\n",
        "В файле /datasets/hypothesis.csv 9 гипотез по увеличению выручки интернет-магазина с указанными параметрами Reach, Impact, Confidence, Effort.  \n",
        "**Задача**  \n",
        "- [X] Примените фреймворк ICE для приоритизации гипотез. Отсортируйте их по убыванию приоритета.\n",
        "- [X] Примените фреймворк RICE для приоритизации гипотез. Отсортируйте их по убыванию приоритета.\n",
        "- [X] Укажите, как изменилась приоритизация гипотез при применении RICE вместо ICE. Объясните, почему так произошло.\n",
        "\n",
        "**Часть 2. Анализ A/B-теста**  \n",
        "Вы провели A/B-тест и получили результаты, которые описаны в файлах /datasets/orders.csv и /datasets/visitors.csv.\n",
        "**Задача**  \n",
        "- [X] Проанализируйте A/B-тест:\n",
        "- [X] Постройте график кумулятивной выручки по группам. Сделайте выводы и предположения.\n",
        "- [X] Постройте график кумулятивного среднего чека по группам. Сделайте выводы и предположения.\n",
        "- [X] Постройте график относительного изменения кумулятивного среднего чека группы B к группе A. Сделайте выводы и предположения.\n",
        "- [X] Постройте график кумулятивного среднего количества заказов на посетителя по группам. Сделайте выводы и предположения.\n",
        "- [X] Постройте график относительного изменения кумулятивного среднего количества заказов на посетителя группы B к группе A. Сделайте выводы и предположения.\n",
        "- [X] Постройте точечный график количества заказов по пользователям. Сделайте выводы и предположения.\n",
        "- [X] Посчитайте 95-й и 99-й перцентили количества заказов на пользователя. Выберите границу для определения аномальных пользователей.\n",
        "- [X] Постройте точечный график стоимостей заказов. Сделайте выводы и предположения.\n",
        "- [X] Посчитайте 95-й и 99-й перцентили стоимости заказов. Выберите границу для определения аномальных заказов.\n",
        "- [X] Посчитайте статистическую значимость различий в среднем количестве заказов на посетителя между группами по «сырым» данным. Сделайте выводы и предположения.\n",
        "- [X] Посчитайте статистическую значимость различий в среднем чеке заказа между группами по «сырым» данным. Сделайте выводы и предположения.\n",
        "- [X] Посчитайте статистическую значимость различий в среднем количестве заказов на посетителя между группами по «очищенным» данным. Сделайте выводы и предположения.\n",
        "- [X] Посчитайте статистическую значимость различий в среднем чеке заказа между группами по «очищенным» данным. Сделайте выводы и предположения.\n",
        "- [X] Примите решение по результатам теста и объясните его. Варианты решений:\n",
        "1. Остановить тест, зафиксировать победу одной из групп.\n",
        "2. Остановить тест, зафиксировать отсутствие различий между группами.\n",
        "3. Продолжить тест."
      ]
    },
    {
      "cell_type": "markdown",
      "metadata": {
        "id": "nI993-dfxBDK"
      },
      "source": [
        "## Описание данных\n",
        "**Данные для первой части**  \n",
        "Файл /datasets/hypothesis.csv.  \n",
        "Hypothesis — краткое описание гипотезы;  \n",
        "Reach — охват пользователей по 10-балльной шкале;  \n",
        "Impact — влияние на пользователей по 10-балльной шкале;  \n",
        "Confidence — уверенность в гипотезе по 10-балльной шкале;  \n",
        "Efforts — затраты ресурсов на проверку гипотезы по 10-балльной шкале. Чем больше значение Efforts, тем дороже проверка гипотезы.  \n",
        "\n",
        "**Данные для второй части**  \n",
        "Файл /datasets/orders.csv.  \n",
        "transactionId — идентификатор заказа;  \n",
        "visitorId — идентификатор пользователя, совершившего заказ;  \n",
        "date — дата, когда был совершён заказ;  \n",
        "revenue — выручка заказа;  \n",
        "group — группа A/B-теста, в которую попал заказ.  \n",
        "Файл /datasets/visitors.csv.  \n",
        "date — дата;  \n",
        "group — группа A/B-теста;  \n",
        "visitors — количество пользователей в указанную дату в указанной группе A/B-теста  "
      ]
    },
    {
      "cell_type": "code",
      "execution_count": 2,
      "metadata": {
        "id": "1v7SNorexBDL"
      },
      "outputs": [],
      "source": [
        "#загрузка необходимых библиотек\n",
        "import pandas as pd\n",
        "import seaborn as sns\n",
        "import matplotlib.pyplot as plt\n",
        "from plotly import graph_objects as go\n",
        "from plotly.subplots import make_subplots\n",
        "import plotly.express as px\n",
        "import scipy.stats as st\n",
        "import numpy as np\n",
        "from datetime import datetime\n",
        "import numpy as np"
      ]
    },
    {
      "cell_type": "code",
      "source": [
        "# из библиотеки google.colab импортируем класс files\n",
        "from google.colab import files\n",
        "# создаем объект этого класса, применяем метод .upload()\n",
        "uploaded = files.upload()"
      ],
      "metadata": {
        "colab": {
          "base_uri": "https://localhost:8080/",
          "height": 142
        },
        "id": "erxvXnOWxXQh",
        "outputId": "4f50d648-7b87-4edb-e580-75341c429406"
      },
      "execution_count": 3,
      "outputs": [
        {
          "output_type": "display_data",
          "data": {
            "text/plain": [
              "<IPython.core.display.HTML object>"
            ],
            "text/html": [
              "\n",
              "     <input type=\"file\" id=\"files-855db224-77df-4489-927f-19590cbc9cdf\" name=\"files[]\" multiple disabled\n",
              "        style=\"border:none\" />\n",
              "     <output id=\"result-855db224-77df-4489-927f-19590cbc9cdf\">\n",
              "      Upload widget is only available when the cell has been executed in the\n",
              "      current browser session. Please rerun this cell to enable.\n",
              "      </output>\n",
              "      <script>// Copyright 2017 Google LLC\n",
              "//\n",
              "// Licensed under the Apache License, Version 2.0 (the \"License\");\n",
              "// you may not use this file except in compliance with the License.\n",
              "// You may obtain a copy of the License at\n",
              "//\n",
              "//      http://www.apache.org/licenses/LICENSE-2.0\n",
              "//\n",
              "// Unless required by applicable law or agreed to in writing, software\n",
              "// distributed under the License is distributed on an \"AS IS\" BASIS,\n",
              "// WITHOUT WARRANTIES OR CONDITIONS OF ANY KIND, either express or implied.\n",
              "// See the License for the specific language governing permissions and\n",
              "// limitations under the License.\n",
              "\n",
              "/**\n",
              " * @fileoverview Helpers for google.colab Python module.\n",
              " */\n",
              "(function(scope) {\n",
              "function span(text, styleAttributes = {}) {\n",
              "  const element = document.createElement('span');\n",
              "  element.textContent = text;\n",
              "  for (const key of Object.keys(styleAttributes)) {\n",
              "    element.style[key] = styleAttributes[key];\n",
              "  }\n",
              "  return element;\n",
              "}\n",
              "\n",
              "// Max number of bytes which will be uploaded at a time.\n",
              "const MAX_PAYLOAD_SIZE = 100 * 1024;\n",
              "\n",
              "function _uploadFiles(inputId, outputId) {\n",
              "  const steps = uploadFilesStep(inputId, outputId);\n",
              "  const outputElement = document.getElementById(outputId);\n",
              "  // Cache steps on the outputElement to make it available for the next call\n",
              "  // to uploadFilesContinue from Python.\n",
              "  outputElement.steps = steps;\n",
              "\n",
              "  return _uploadFilesContinue(outputId);\n",
              "}\n",
              "\n",
              "// This is roughly an async generator (not supported in the browser yet),\n",
              "// where there are multiple asynchronous steps and the Python side is going\n",
              "// to poll for completion of each step.\n",
              "// This uses a Promise to block the python side on completion of each step,\n",
              "// then passes the result of the previous step as the input to the next step.\n",
              "function _uploadFilesContinue(outputId) {\n",
              "  const outputElement = document.getElementById(outputId);\n",
              "  const steps = outputElement.steps;\n",
              "\n",
              "  const next = steps.next(outputElement.lastPromiseValue);\n",
              "  return Promise.resolve(next.value.promise).then((value) => {\n",
              "    // Cache the last promise value to make it available to the next\n",
              "    // step of the generator.\n",
              "    outputElement.lastPromiseValue = value;\n",
              "    return next.value.response;\n",
              "  });\n",
              "}\n",
              "\n",
              "/**\n",
              " * Generator function which is called between each async step of the upload\n",
              " * process.\n",
              " * @param {string} inputId Element ID of the input file picker element.\n",
              " * @param {string} outputId Element ID of the output display.\n",
              " * @return {!Iterable<!Object>} Iterable of next steps.\n",
              " */\n",
              "function* uploadFilesStep(inputId, outputId) {\n",
              "  const inputElement = document.getElementById(inputId);\n",
              "  inputElement.disabled = false;\n",
              "\n",
              "  const outputElement = document.getElementById(outputId);\n",
              "  outputElement.innerHTML = '';\n",
              "\n",
              "  const pickedPromise = new Promise((resolve) => {\n",
              "    inputElement.addEventListener('change', (e) => {\n",
              "      resolve(e.target.files);\n",
              "    });\n",
              "  });\n",
              "\n",
              "  const cancel = document.createElement('button');\n",
              "  inputElement.parentElement.appendChild(cancel);\n",
              "  cancel.textContent = 'Cancel upload';\n",
              "  const cancelPromise = new Promise((resolve) => {\n",
              "    cancel.onclick = () => {\n",
              "      resolve(null);\n",
              "    };\n",
              "  });\n",
              "\n",
              "  // Wait for the user to pick the files.\n",
              "  const files = yield {\n",
              "    promise: Promise.race([pickedPromise, cancelPromise]),\n",
              "    response: {\n",
              "      action: 'starting',\n",
              "    }\n",
              "  };\n",
              "\n",
              "  cancel.remove();\n",
              "\n",
              "  // Disable the input element since further picks are not allowed.\n",
              "  inputElement.disabled = true;\n",
              "\n",
              "  if (!files) {\n",
              "    return {\n",
              "      response: {\n",
              "        action: 'complete',\n",
              "      }\n",
              "    };\n",
              "  }\n",
              "\n",
              "  for (const file of files) {\n",
              "    const li = document.createElement('li');\n",
              "    li.append(span(file.name, {fontWeight: 'bold'}));\n",
              "    li.append(span(\n",
              "        `(${file.type || 'n/a'}) - ${file.size} bytes, ` +\n",
              "        `last modified: ${\n",
              "            file.lastModifiedDate ? file.lastModifiedDate.toLocaleDateString() :\n",
              "                                    'n/a'} - `));\n",
              "    const percent = span('0% done');\n",
              "    li.appendChild(percent);\n",
              "\n",
              "    outputElement.appendChild(li);\n",
              "\n",
              "    const fileDataPromise = new Promise((resolve) => {\n",
              "      const reader = new FileReader();\n",
              "      reader.onload = (e) => {\n",
              "        resolve(e.target.result);\n",
              "      };\n",
              "      reader.readAsArrayBuffer(file);\n",
              "    });\n",
              "    // Wait for the data to be ready.\n",
              "    let fileData = yield {\n",
              "      promise: fileDataPromise,\n",
              "      response: {\n",
              "        action: 'continue',\n",
              "      }\n",
              "    };\n",
              "\n",
              "    // Use a chunked sending to avoid message size limits. See b/62115660.\n",
              "    let position = 0;\n",
              "    do {\n",
              "      const length = Math.min(fileData.byteLength - position, MAX_PAYLOAD_SIZE);\n",
              "      const chunk = new Uint8Array(fileData, position, length);\n",
              "      position += length;\n",
              "\n",
              "      const base64 = btoa(String.fromCharCode.apply(null, chunk));\n",
              "      yield {\n",
              "        response: {\n",
              "          action: 'append',\n",
              "          file: file.name,\n",
              "          data: base64,\n",
              "        },\n",
              "      };\n",
              "\n",
              "      let percentDone = fileData.byteLength === 0 ?\n",
              "          100 :\n",
              "          Math.round((position / fileData.byteLength) * 100);\n",
              "      percent.textContent = `${percentDone}% done`;\n",
              "\n",
              "    } while (position < fileData.byteLength);\n",
              "  }\n",
              "\n",
              "  // All done.\n",
              "  yield {\n",
              "    response: {\n",
              "      action: 'complete',\n",
              "    }\n",
              "  };\n",
              "}\n",
              "\n",
              "scope.google = scope.google || {};\n",
              "scope.google.colab = scope.google.colab || {};\n",
              "scope.google.colab._files = {\n",
              "  _uploadFiles,\n",
              "  _uploadFilesContinue,\n",
              "};\n",
              "})(self);\n",
              "</script> "
            ]
          },
          "metadata": {}
        },
        {
          "output_type": "stream",
          "name": "stdout",
          "text": [
            "Saving hypothesis.csv to hypothesis.csv\n",
            "Saving orders.csv to orders.csv\n",
            "Saving visitors.csv to visitors.csv\n"
          ]
        }
      ]
    },
    {
      "cell_type": "markdown",
      "metadata": {
        "id": "QggcoMYVxBDL"
      },
      "source": [
        "## Шаг 1. Загрузка данных"
      ]
    },
    {
      "cell_type": "code",
      "execution_count": 5,
      "metadata": {
        "id": "N07FlmwJxBDM"
      },
      "outputs": [],
      "source": [
        "#открытие и запись файл\n",
        "try:\n",
        "    hypothesis=pd.read_csv('/content/hypothesis.csv') # гипотезы\n",
        "    orders=pd.read_csv('/content/orders.csv',parse_dates=['date'], dayfirst=True) # заказы\n",
        "    visitors=pd.read_csv('/content/visitors.csv',parse_dates=['date'], dayfirst=True) # пользователи\n",
        "except:\n",
        "    hypothesis=pd.read_csv('C:/Users/Рита/Desktop/Yandex/project_0711/hypothesis.csv') # гипотезы\n",
        "    orders=pd.read_csv('C:/Users/Рита/Desktop/Yandex/project_0711/orders.csv',parse_dates=['date'], dayfirst=True) # заказы\n",
        "    visitors=pd.read_csv('C:/Users/Рита/Desktop/Yandex/project_0711/visitors.csv',parse_dates=['date'], dayfirst=True) # пользователи\n",
        "#ниже добавлена ссылка для моей локальной работы"
      ]
    },
    {
      "cell_type": "code",
      "execution_count": null,
      "metadata": {
        "id": "FBfvkUEwxBDM"
      },
      "outputs": [],
      "source": [
        "#первый просмотр сета данных\n",
        "def first_look (data):\n",
        "    print('Первые 10 строк')\n",
        "    display(data.head(10))\n",
        "    print('Типы данных\\n')\n",
        "    display(data.info())\n",
        "    print('Статистика.Сводка')\n",
        "    display(data.describe())\n",
        "    print('Пропуски:\\n')\n",
        "    display(data.isna().sum())\n",
        "    print('\\n Процент пропусков')\n",
        "    display(data.isna().mean().sort_values(ascending=False)*100)\n",
        "    print('\\nДубликаты:\\n')\n",
        "    if data.duplicated().sum() > 0:\n",
        "        print('Дубликатов: ', data.duplicated().sum())\n",
        "    else:\n",
        "        print('Дубликатов НЕТ')"
      ]
    },
    {
      "cell_type": "markdown",
      "metadata": {
        "id": "UsDSyH4kxBDN"
      },
      "source": [
        "### Часть 1. Приоритизация гипотез."
      ]
    },
    {
      "cell_type": "code",
      "execution_count": null,
      "metadata": {
        "id": "mfgDjr__xBDN",
        "outputId": "20facea8-8772-4c20-b1a9-12ac4f212fda"
      },
      "outputs": [
        {
          "name": "stdout",
          "output_type": "stream",
          "text": [
            "Первые 10 строк\n"
          ]
        },
        {
          "data": {
            "text/html": [
              "<div>\n",
              "<style scoped>\n",
              "    .dataframe tbody tr th:only-of-type {\n",
              "        vertical-align: middle;\n",
              "    }\n",
              "\n",
              "    .dataframe tbody tr th {\n",
              "        vertical-align: top;\n",
              "    }\n",
              "\n",
              "    .dataframe thead th {\n",
              "        text-align: right;\n",
              "    }\n",
              "</style>\n",
              "<table border=\"1\" class=\"dataframe\">\n",
              "  <thead>\n",
              "    <tr style=\"text-align: right;\">\n",
              "      <th></th>\n",
              "      <th>Hypothesis</th>\n",
              "      <th>Reach</th>\n",
              "      <th>Impact</th>\n",
              "      <th>Confidence</th>\n",
              "      <th>Efforts</th>\n",
              "    </tr>\n",
              "  </thead>\n",
              "  <tbody>\n",
              "    <tr>\n",
              "      <th>0</th>\n",
              "      <td>Добавить два новых канала привлечения трафика,...</td>\n",
              "      <td>3</td>\n",
              "      <td>10</td>\n",
              "      <td>8</td>\n",
              "      <td>6</td>\n",
              "    </tr>\n",
              "    <tr>\n",
              "      <th>1</th>\n",
              "      <td>Запустить собственную службу доставки, что сок...</td>\n",
              "      <td>2</td>\n",
              "      <td>5</td>\n",
              "      <td>4</td>\n",
              "      <td>10</td>\n",
              "    </tr>\n",
              "    <tr>\n",
              "      <th>2</th>\n",
              "      <td>Добавить блоки рекомендаций товаров на сайт ин...</td>\n",
              "      <td>8</td>\n",
              "      <td>3</td>\n",
              "      <td>7</td>\n",
              "      <td>3</td>\n",
              "    </tr>\n",
              "    <tr>\n",
              "      <th>3</th>\n",
              "      <td>Изменить структура категорий, что увеличит кон...</td>\n",
              "      <td>8</td>\n",
              "      <td>3</td>\n",
              "      <td>3</td>\n",
              "      <td>8</td>\n",
              "    </tr>\n",
              "    <tr>\n",
              "      <th>4</th>\n",
              "      <td>Изменить цвет фона главной страницы, чтобы уве...</td>\n",
              "      <td>3</td>\n",
              "      <td>1</td>\n",
              "      <td>1</td>\n",
              "      <td>1</td>\n",
              "    </tr>\n",
              "    <tr>\n",
              "      <th>5</th>\n",
              "      <td>Добавить страницу отзывов клиентов о магазине,...</td>\n",
              "      <td>3</td>\n",
              "      <td>2</td>\n",
              "      <td>2</td>\n",
              "      <td>3</td>\n",
              "    </tr>\n",
              "    <tr>\n",
              "      <th>6</th>\n",
              "      <td>Показать на главной странице баннеры с актуаль...</td>\n",
              "      <td>5</td>\n",
              "      <td>3</td>\n",
              "      <td>8</td>\n",
              "      <td>3</td>\n",
              "    </tr>\n",
              "    <tr>\n",
              "      <th>7</th>\n",
              "      <td>Добавить форму подписки на все основные страни...</td>\n",
              "      <td>10</td>\n",
              "      <td>7</td>\n",
              "      <td>8</td>\n",
              "      <td>5</td>\n",
              "    </tr>\n",
              "    <tr>\n",
              "      <th>8</th>\n",
              "      <td>Запустить акцию, дающую скидку на товар в день...</td>\n",
              "      <td>1</td>\n",
              "      <td>9</td>\n",
              "      <td>9</td>\n",
              "      <td>5</td>\n",
              "    </tr>\n",
              "  </tbody>\n",
              "</table>\n",
              "</div>"
            ],
            "text/plain": [
              "                                          Hypothesis  Reach  Impact  \\\n",
              "0  Добавить два новых канала привлечения трафика,...      3      10   \n",
              "1  Запустить собственную службу доставки, что сок...      2       5   \n",
              "2  Добавить блоки рекомендаций товаров на сайт ин...      8       3   \n",
              "3  Изменить структура категорий, что увеличит кон...      8       3   \n",
              "4  Изменить цвет фона главной страницы, чтобы уве...      3       1   \n",
              "5  Добавить страницу отзывов клиентов о магазине,...      3       2   \n",
              "6  Показать на главной странице баннеры с актуаль...      5       3   \n",
              "7  Добавить форму подписки на все основные страни...     10       7   \n",
              "8  Запустить акцию, дающую скидку на товар в день...      1       9   \n",
              "\n",
              "   Confidence  Efforts  \n",
              "0           8        6  \n",
              "1           4       10  \n",
              "2           7        3  \n",
              "3           3        8  \n",
              "4           1        1  \n",
              "5           2        3  \n",
              "6           8        3  \n",
              "7           8        5  \n",
              "8           9        5  "
            ]
          },
          "metadata": {},
          "output_type": "display_data"
        },
        {
          "name": "stdout",
          "output_type": "stream",
          "text": [
            "Типы данных\n",
            "\n",
            "<class 'pandas.core.frame.DataFrame'>\n",
            "RangeIndex: 9 entries, 0 to 8\n",
            "Data columns (total 5 columns):\n",
            " #   Column      Non-Null Count  Dtype \n",
            "---  ------      --------------  ----- \n",
            " 0   Hypothesis  9 non-null      object\n",
            " 1   Reach       9 non-null      int64 \n",
            " 2   Impact      9 non-null      int64 \n",
            " 3   Confidence  9 non-null      int64 \n",
            " 4   Efforts     9 non-null      int64 \n",
            "dtypes: int64(4), object(1)\n",
            "memory usage: 488.0+ bytes\n"
          ]
        },
        {
          "data": {
            "text/plain": [
              "None"
            ]
          },
          "metadata": {},
          "output_type": "display_data"
        },
        {
          "name": "stdout",
          "output_type": "stream",
          "text": [
            "Статистика.Сводка\n"
          ]
        },
        {
          "data": {
            "text/html": [
              "<div>\n",
              "<style scoped>\n",
              "    .dataframe tbody tr th:only-of-type {\n",
              "        vertical-align: middle;\n",
              "    }\n",
              "\n",
              "    .dataframe tbody tr th {\n",
              "        vertical-align: top;\n",
              "    }\n",
              "\n",
              "    .dataframe thead th {\n",
              "        text-align: right;\n",
              "    }\n",
              "</style>\n",
              "<table border=\"1\" class=\"dataframe\">\n",
              "  <thead>\n",
              "    <tr style=\"text-align: right;\">\n",
              "      <th></th>\n",
              "      <th>Reach</th>\n",
              "      <th>Impact</th>\n",
              "      <th>Confidence</th>\n",
              "      <th>Efforts</th>\n",
              "    </tr>\n",
              "  </thead>\n",
              "  <tbody>\n",
              "    <tr>\n",
              "      <th>count</th>\n",
              "      <td>9.000000</td>\n",
              "      <td>9.000000</td>\n",
              "      <td>9.000000</td>\n",
              "      <td>9.000000</td>\n",
              "    </tr>\n",
              "    <tr>\n",
              "      <th>mean</th>\n",
              "      <td>4.777778</td>\n",
              "      <td>4.777778</td>\n",
              "      <td>5.555556</td>\n",
              "      <td>4.888889</td>\n",
              "    </tr>\n",
              "    <tr>\n",
              "      <th>std</th>\n",
              "      <td>3.153481</td>\n",
              "      <td>3.192874</td>\n",
              "      <td>3.045944</td>\n",
              "      <td>2.803767</td>\n",
              "    </tr>\n",
              "    <tr>\n",
              "      <th>min</th>\n",
              "      <td>1.000000</td>\n",
              "      <td>1.000000</td>\n",
              "      <td>1.000000</td>\n",
              "      <td>1.000000</td>\n",
              "    </tr>\n",
              "    <tr>\n",
              "      <th>25%</th>\n",
              "      <td>3.000000</td>\n",
              "      <td>3.000000</td>\n",
              "      <td>3.000000</td>\n",
              "      <td>3.000000</td>\n",
              "    </tr>\n",
              "    <tr>\n",
              "      <th>50%</th>\n",
              "      <td>3.000000</td>\n",
              "      <td>3.000000</td>\n",
              "      <td>7.000000</td>\n",
              "      <td>5.000000</td>\n",
              "    </tr>\n",
              "    <tr>\n",
              "      <th>75%</th>\n",
              "      <td>8.000000</td>\n",
              "      <td>7.000000</td>\n",
              "      <td>8.000000</td>\n",
              "      <td>6.000000</td>\n",
              "    </tr>\n",
              "    <tr>\n",
              "      <th>max</th>\n",
              "      <td>10.000000</td>\n",
              "      <td>10.000000</td>\n",
              "      <td>9.000000</td>\n",
              "      <td>10.000000</td>\n",
              "    </tr>\n",
              "  </tbody>\n",
              "</table>\n",
              "</div>"
            ],
            "text/plain": [
              "           Reach     Impact  Confidence    Efforts\n",
              "count   9.000000   9.000000    9.000000   9.000000\n",
              "mean    4.777778   4.777778    5.555556   4.888889\n",
              "std     3.153481   3.192874    3.045944   2.803767\n",
              "min     1.000000   1.000000    1.000000   1.000000\n",
              "25%     3.000000   3.000000    3.000000   3.000000\n",
              "50%     3.000000   3.000000    7.000000   5.000000\n",
              "75%     8.000000   7.000000    8.000000   6.000000\n",
              "max    10.000000  10.000000    9.000000  10.000000"
            ]
          },
          "metadata": {},
          "output_type": "display_data"
        },
        {
          "name": "stdout",
          "output_type": "stream",
          "text": [
            "Пропуски:\n",
            "\n"
          ]
        },
        {
          "data": {
            "text/plain": [
              "Hypothesis    0\n",
              "Reach         0\n",
              "Impact        0\n",
              "Confidence    0\n",
              "Efforts       0\n",
              "dtype: int64"
            ]
          },
          "metadata": {},
          "output_type": "display_data"
        },
        {
          "name": "stdout",
          "output_type": "stream",
          "text": [
            "\n",
            " Процент пропусков\n"
          ]
        },
        {
          "data": {
            "text/plain": [
              "Hypothesis    0.0\n",
              "Reach         0.0\n",
              "Impact        0.0\n",
              "Confidence    0.0\n",
              "Efforts       0.0\n",
              "dtype: float64"
            ]
          },
          "metadata": {},
          "output_type": "display_data"
        },
        {
          "name": "stdout",
          "output_type": "stream",
          "text": [
            "\n",
            "Дубликаты:\n",
            "\n",
            "Дубликатов НЕТ\n"
          ]
        }
      ],
      "source": [
        "first_look (hypothesis)"
      ]
    },
    {
      "cell_type": "code",
      "execution_count": null,
      "metadata": {
        "id": "ZX8hwfNrxBDN"
      },
      "outputs": [],
      "source": [
        "#перевод в нижний регистр название столбцов\n",
        "hypothesis.columns = [x.lower().replace(' ', '_') for x in hypothesis.columns.values]"
      ]
    },
    {
      "cell_type": "markdown",
      "metadata": {
        "id": "0GvU-fUsxBDO"
      },
      "source": [
        "#### Примените фреймворк ICE для приоритизации гипотез. Отсортируйте их по убыванию приоритета."
      ]
    },
    {
      "cell_type": "code",
      "execution_count": null,
      "metadata": {
        "id": "8rpdoTw5xBDO",
        "outputId": "326f0694-21f4-4f2f-a82e-c4e76e9dce11"
      },
      "outputs": [
        {
          "data": {
            "text/html": [
              "<div>\n",
              "<style scoped>\n",
              "    .dataframe tbody tr th:only-of-type {\n",
              "        vertical-align: middle;\n",
              "    }\n",
              "\n",
              "    .dataframe tbody tr th {\n",
              "        vertical-align: top;\n",
              "    }\n",
              "\n",
              "    .dataframe thead th {\n",
              "        text-align: right;\n",
              "    }\n",
              "</style>\n",
              "<table border=\"1\" class=\"dataframe\">\n",
              "  <thead>\n",
              "    <tr style=\"text-align: right;\">\n",
              "      <th></th>\n",
              "      <th>hypothesis</th>\n",
              "      <th>ICE</th>\n",
              "    </tr>\n",
              "  </thead>\n",
              "  <tbody>\n",
              "    <tr>\n",
              "      <th>8</th>\n",
              "      <td>Запустить акцию, дающую скидку на товар в день...</td>\n",
              "      <td>16.200000</td>\n",
              "    </tr>\n",
              "    <tr>\n",
              "      <th>0</th>\n",
              "      <td>Добавить два новых канала привлечения трафика,...</td>\n",
              "      <td>13.333333</td>\n",
              "    </tr>\n",
              "    <tr>\n",
              "      <th>7</th>\n",
              "      <td>Добавить форму подписки на все основные страни...</td>\n",
              "      <td>11.200000</td>\n",
              "    </tr>\n",
              "    <tr>\n",
              "      <th>6</th>\n",
              "      <td>Показать на главной странице баннеры с актуаль...</td>\n",
              "      <td>8.000000</td>\n",
              "    </tr>\n",
              "    <tr>\n",
              "      <th>2</th>\n",
              "      <td>Добавить блоки рекомендаций товаров на сайт ин...</td>\n",
              "      <td>7.000000</td>\n",
              "    </tr>\n",
              "    <tr>\n",
              "      <th>1</th>\n",
              "      <td>Запустить собственную службу доставки, что сок...</td>\n",
              "      <td>2.000000</td>\n",
              "    </tr>\n",
              "    <tr>\n",
              "      <th>5</th>\n",
              "      <td>Добавить страницу отзывов клиентов о магазине,...</td>\n",
              "      <td>1.333333</td>\n",
              "    </tr>\n",
              "    <tr>\n",
              "      <th>3</th>\n",
              "      <td>Изменить структура категорий, что увеличит кон...</td>\n",
              "      <td>1.125000</td>\n",
              "    </tr>\n",
              "    <tr>\n",
              "      <th>4</th>\n",
              "      <td>Изменить цвет фона главной страницы, чтобы уве...</td>\n",
              "      <td>1.000000</td>\n",
              "    </tr>\n",
              "  </tbody>\n",
              "</table>\n",
              "</div>"
            ],
            "text/plain": [
              "                                          hypothesis        ICE\n",
              "8  Запустить акцию, дающую скидку на товар в день...  16.200000\n",
              "0  Добавить два новых канала привлечения трафика,...  13.333333\n",
              "7  Добавить форму подписки на все основные страни...  11.200000\n",
              "6  Показать на главной странице баннеры с актуаль...   8.000000\n",
              "2  Добавить блоки рекомендаций товаров на сайт ин...   7.000000\n",
              "1  Запустить собственную службу доставки, что сок...   2.000000\n",
              "5  Добавить страницу отзывов клиентов о магазине,...   1.333333\n",
              "3  Изменить структура категорий, что увеличит кон...   1.125000\n",
              "4  Изменить цвет фона главной страницы, чтобы уве...   1.000000"
            ]
          },
          "metadata": {},
          "output_type": "display_data"
        }
      ],
      "source": [
        "hypothesis['ICE'] = (hypothesis['impact']*hypothesis['confidence'])/hypothesis['efforts']\n",
        "display(hypothesis[['hypothesis','ICE']].sort_values(by='ICE', ascending=False))"
      ]
    },
    {
      "cell_type": "markdown",
      "metadata": {
        "id": "ZRjqdsxNxBDO"
      },
      "source": [
        "#### Примените фреймворк RICE для приоритизации гипотез. Отсортируйте их по убыванию приоритета."
      ]
    },
    {
      "cell_type": "code",
      "execution_count": null,
      "metadata": {
        "id": "EwdcjuPfxBDO",
        "outputId": "91ac8c5c-9817-48a8-cb7a-22f0777f7e19"
      },
      "outputs": [
        {
          "data": {
            "text/html": [
              "<div>\n",
              "<style scoped>\n",
              "    .dataframe tbody tr th:only-of-type {\n",
              "        vertical-align: middle;\n",
              "    }\n",
              "\n",
              "    .dataframe tbody tr th {\n",
              "        vertical-align: top;\n",
              "    }\n",
              "\n",
              "    .dataframe thead th {\n",
              "        text-align: right;\n",
              "    }\n",
              "</style>\n",
              "<table border=\"1\" class=\"dataframe\">\n",
              "  <thead>\n",
              "    <tr style=\"text-align: right;\">\n",
              "      <th></th>\n",
              "      <th>hypothesis</th>\n",
              "      <th>RICE</th>\n",
              "    </tr>\n",
              "  </thead>\n",
              "  <tbody>\n",
              "    <tr>\n",
              "      <th>7</th>\n",
              "      <td>Добавить форму подписки на все основные страни...</td>\n",
              "      <td>112.0</td>\n",
              "    </tr>\n",
              "    <tr>\n",
              "      <th>2</th>\n",
              "      <td>Добавить блоки рекомендаций товаров на сайт ин...</td>\n",
              "      <td>56.0</td>\n",
              "    </tr>\n",
              "    <tr>\n",
              "      <th>0</th>\n",
              "      <td>Добавить два новых канала привлечения трафика,...</td>\n",
              "      <td>40.0</td>\n",
              "    </tr>\n",
              "    <tr>\n",
              "      <th>6</th>\n",
              "      <td>Показать на главной странице баннеры с актуаль...</td>\n",
              "      <td>40.0</td>\n",
              "    </tr>\n",
              "    <tr>\n",
              "      <th>8</th>\n",
              "      <td>Запустить акцию, дающую скидку на товар в день...</td>\n",
              "      <td>16.2</td>\n",
              "    </tr>\n",
              "    <tr>\n",
              "      <th>3</th>\n",
              "      <td>Изменить структура категорий, что увеличит кон...</td>\n",
              "      <td>9.0</td>\n",
              "    </tr>\n",
              "    <tr>\n",
              "      <th>1</th>\n",
              "      <td>Запустить собственную службу доставки, что сок...</td>\n",
              "      <td>4.0</td>\n",
              "    </tr>\n",
              "    <tr>\n",
              "      <th>5</th>\n",
              "      <td>Добавить страницу отзывов клиентов о магазине,...</td>\n",
              "      <td>4.0</td>\n",
              "    </tr>\n",
              "    <tr>\n",
              "      <th>4</th>\n",
              "      <td>Изменить цвет фона главной страницы, чтобы уве...</td>\n",
              "      <td>3.0</td>\n",
              "    </tr>\n",
              "  </tbody>\n",
              "</table>\n",
              "</div>"
            ],
            "text/plain": [
              "                                          hypothesis   RICE\n",
              "7  Добавить форму подписки на все основные страни...  112.0\n",
              "2  Добавить блоки рекомендаций товаров на сайт ин...   56.0\n",
              "0  Добавить два новых канала привлечения трафика,...   40.0\n",
              "6  Показать на главной странице баннеры с актуаль...   40.0\n",
              "8  Запустить акцию, дающую скидку на товар в день...   16.2\n",
              "3  Изменить структура категорий, что увеличит кон...    9.0\n",
              "1  Запустить собственную службу доставки, что сок...    4.0\n",
              "5  Добавить страницу отзывов клиентов о магазине,...    4.0\n",
              "4  Изменить цвет фона главной страницы, чтобы уве...    3.0"
            ]
          },
          "metadata": {},
          "output_type": "display_data"
        }
      ],
      "source": [
        "hypothesis['RICE']=((hypothesis['reach']*hypothesis['impact']*hypothesis['confidence']) / hypothesis['efforts'])\n",
        "\n",
        "display(hypothesis[['hypothesis','RICE']].sort_values(by='RICE', ascending=False))"
      ]
    },
    {
      "cell_type": "markdown",
      "metadata": {
        "id": "5sGBKcOBxBDO"
      },
      "source": [
        "#### Укажите, как изменилась приоритизация гипотез при применении RICE вместо ICE. Объясните, почему так произошло."
      ]
    },
    {
      "cell_type": "markdown",
      "metadata": {
        "id": "IHIG8DaExBDO"
      },
      "source": [
        "**Вывод:**  \n",
        "При подсчете приоритетности задач по методу ICE, в ТОП вышли 3 гипотезы: 8,0, 7. При подсчете приоритености по методу RICE в ТОП вышли: 7,2,0. Причиной является множитель reach во второй формуле. У 8 гипотезы этот показатель равен 1, у 0 - 3 (но эта гипотеза единственная имеет самый высокий показатель impact, по этой причине эта гипотеза по обеим формулам находится в числе лидеров) , у 7 - 10. Таким образом в ТОПе, по обеим формулам наиболее приориетными задачами являются 7 и 0."
      ]
    },
    {
      "cell_type": "code",
      "execution_count": null,
      "metadata": {
        "id": "TAJpjOmgxBDO",
        "outputId": "2bf0cbb4-7c97-4863-d984-cf8b95280f82"
      },
      "outputs": [
        {
          "data": {
            "text/html": [
              "<style  type=\"text/css\" >\n",
              "#T_8253b_row0_col5{\n",
              "            width:  10em;\n",
              "             height:  80%;\n",
              "            background:  linear-gradient(90deg,blue 82.3%, transparent 82.3%);\n",
              "        }#T_8253b_row0_col6,#T_8253b_row6_col6{\n",
              "            width:  10em;\n",
              "             height:  80%;\n",
              "            background:  linear-gradient(90deg,red 35.7%, transparent 35.7%);\n",
              "        }#T_8253b_row1_col5{\n",
              "            width:  10em;\n",
              "             height:  80%;\n",
              "            background:  linear-gradient(90deg,blue 12.3%, transparent 12.3%);\n",
              "        }#T_8253b_row1_col6,#T_8253b_row5_col6{\n",
              "            width:  10em;\n",
              "             height:  80%;\n",
              "            background:  linear-gradient(90deg,red 3.6%, transparent 3.6%);\n",
              "        }#T_8253b_row2_col5{\n",
              "            width:  10em;\n",
              "             height:  80%;\n",
              "            background:  linear-gradient(90deg,blue 43.2%, transparent 43.2%);\n",
              "        }#T_8253b_row2_col6{\n",
              "            width:  10em;\n",
              "             height:  80%;\n",
              "            background:  linear-gradient(90deg,red 50.0%, transparent 50.0%);\n",
              "        }#T_8253b_row3_col5{\n",
              "            width:  10em;\n",
              "             height:  80%;\n",
              "            background:  linear-gradient(90deg,blue 6.9%, transparent 6.9%);\n",
              "        }#T_8253b_row3_col6{\n",
              "            width:  10em;\n",
              "             height:  80%;\n",
              "            background:  linear-gradient(90deg,red 8.0%, transparent 8.0%);\n",
              "        }#T_8253b_row4_col5{\n",
              "            width:  10em;\n",
              "             height:  80%;\n",
              "            background:  linear-gradient(90deg,blue 6.2%, transparent 6.2%);\n",
              "        }#T_8253b_row4_col6{\n",
              "            width:  10em;\n",
              "             height:  80%;\n",
              "            background:  linear-gradient(90deg,red 2.7%, transparent 2.7%);\n",
              "        }#T_8253b_row5_col5{\n",
              "            width:  10em;\n",
              "             height:  80%;\n",
              "            background:  linear-gradient(90deg,blue 8.2%, transparent 8.2%);\n",
              "        }#T_8253b_row6_col5{\n",
              "            width:  10em;\n",
              "             height:  80%;\n",
              "            background:  linear-gradient(90deg,blue 49.4%, transparent 49.4%);\n",
              "        }#T_8253b_row7_col5{\n",
              "            width:  10em;\n",
              "             height:  80%;\n",
              "            background:  linear-gradient(90deg,blue 69.1%, transparent 69.1%);\n",
              "        }#T_8253b_row7_col6{\n",
              "            width:  10em;\n",
              "             height:  80%;\n",
              "            background:  linear-gradient(90deg,red 100.0%, transparent 100.0%);\n",
              "        }#T_8253b_row8_col5{\n",
              "            width:  10em;\n",
              "             height:  80%;\n",
              "            background:  linear-gradient(90deg,blue 100.0%, transparent 100.0%);\n",
              "        }#T_8253b_row8_col6{\n",
              "            width:  10em;\n",
              "             height:  80%;\n",
              "            background:  linear-gradient(90deg,red 14.5%, transparent 14.5%);\n",
              "        }</style><table id=\"T_8253b_\" ><thead>    <tr>        <th class=\"blank level0\" ></th>        <th class=\"col_heading level0 col0\" >hypothesis</th>        <th class=\"col_heading level0 col1\" >reach</th>        <th class=\"col_heading level0 col2\" >impact</th>        <th class=\"col_heading level0 col3\" >confidence</th>        <th class=\"col_heading level0 col4\" >efforts</th>        <th class=\"col_heading level0 col5\" >ICE</th>        <th class=\"col_heading level0 col6\" >RICE</th>    </tr></thead><tbody>\n",
              "                <tr>\n",
              "                        <th id=\"T_8253b_level0_row0\" class=\"row_heading level0 row0\" >0</th>\n",
              "                        <td id=\"T_8253b_row0_col0\" class=\"data row0 col0\" >Добавить два новых канала привлечения трафика, что позволит привлекать на 30% больше пользователей</td>\n",
              "                        <td id=\"T_8253b_row0_col1\" class=\"data row0 col1\" >3</td>\n",
              "                        <td id=\"T_8253b_row0_col2\" class=\"data row0 col2\" >10</td>\n",
              "                        <td id=\"T_8253b_row0_col3\" class=\"data row0 col3\" >8</td>\n",
              "                        <td id=\"T_8253b_row0_col4\" class=\"data row0 col4\" >6</td>\n",
              "                        <td id=\"T_8253b_row0_col5\" class=\"data row0 col5\" >13</td>\n",
              "                        <td id=\"T_8253b_row0_col6\" class=\"data row0 col6\" >40</td>\n",
              "            </tr>\n",
              "            <tr>\n",
              "                        <th id=\"T_8253b_level0_row1\" class=\"row_heading level0 row1\" >1</th>\n",
              "                        <td id=\"T_8253b_row1_col0\" class=\"data row1 col0\" >Запустить собственную службу доставки, что сократит срок доставки заказов</td>\n",
              "                        <td id=\"T_8253b_row1_col1\" class=\"data row1 col1\" >2</td>\n",
              "                        <td id=\"T_8253b_row1_col2\" class=\"data row1 col2\" >5</td>\n",
              "                        <td id=\"T_8253b_row1_col3\" class=\"data row1 col3\" >4</td>\n",
              "                        <td id=\"T_8253b_row1_col4\" class=\"data row1 col4\" >10</td>\n",
              "                        <td id=\"T_8253b_row1_col5\" class=\"data row1 col5\" >2</td>\n",
              "                        <td id=\"T_8253b_row1_col6\" class=\"data row1 col6\" >4</td>\n",
              "            </tr>\n",
              "            <tr>\n",
              "                        <th id=\"T_8253b_level0_row2\" class=\"row_heading level0 row2\" >2</th>\n",
              "                        <td id=\"T_8253b_row2_col0\" class=\"data row2 col0\" >Добавить блоки рекомендаций товаров на сайт интернет магазина, чтобы повысить конверсию и средний чек заказа</td>\n",
              "                        <td id=\"T_8253b_row2_col1\" class=\"data row2 col1\" >8</td>\n",
              "                        <td id=\"T_8253b_row2_col2\" class=\"data row2 col2\" >3</td>\n",
              "                        <td id=\"T_8253b_row2_col3\" class=\"data row2 col3\" >7</td>\n",
              "                        <td id=\"T_8253b_row2_col4\" class=\"data row2 col4\" >3</td>\n",
              "                        <td id=\"T_8253b_row2_col5\" class=\"data row2 col5\" >7</td>\n",
              "                        <td id=\"T_8253b_row2_col6\" class=\"data row2 col6\" >56</td>\n",
              "            </tr>\n",
              "            <tr>\n",
              "                        <th id=\"T_8253b_level0_row3\" class=\"row_heading level0 row3\" >3</th>\n",
              "                        <td id=\"T_8253b_row3_col0\" class=\"data row3 col0\" >Изменить структура категорий, что увеличит конверсию, т.к. пользователи быстрее найдут нужный товар</td>\n",
              "                        <td id=\"T_8253b_row3_col1\" class=\"data row3 col1\" >8</td>\n",
              "                        <td id=\"T_8253b_row3_col2\" class=\"data row3 col2\" >3</td>\n",
              "                        <td id=\"T_8253b_row3_col3\" class=\"data row3 col3\" >3</td>\n",
              "                        <td id=\"T_8253b_row3_col4\" class=\"data row3 col4\" >8</td>\n",
              "                        <td id=\"T_8253b_row3_col5\" class=\"data row3 col5\" >1</td>\n",
              "                        <td id=\"T_8253b_row3_col6\" class=\"data row3 col6\" >9</td>\n",
              "            </tr>\n",
              "            <tr>\n",
              "                        <th id=\"T_8253b_level0_row4\" class=\"row_heading level0 row4\" >4</th>\n",
              "                        <td id=\"T_8253b_row4_col0\" class=\"data row4 col0\" >Изменить цвет фона главной страницы, чтобы увеличить вовлеченность пользователей</td>\n",
              "                        <td id=\"T_8253b_row4_col1\" class=\"data row4 col1\" >3</td>\n",
              "                        <td id=\"T_8253b_row4_col2\" class=\"data row4 col2\" >1</td>\n",
              "                        <td id=\"T_8253b_row4_col3\" class=\"data row4 col3\" >1</td>\n",
              "                        <td id=\"T_8253b_row4_col4\" class=\"data row4 col4\" >1</td>\n",
              "                        <td id=\"T_8253b_row4_col5\" class=\"data row4 col5\" >1</td>\n",
              "                        <td id=\"T_8253b_row4_col6\" class=\"data row4 col6\" >3</td>\n",
              "            </tr>\n",
              "            <tr>\n",
              "                        <th id=\"T_8253b_level0_row5\" class=\"row_heading level0 row5\" >5</th>\n",
              "                        <td id=\"T_8253b_row5_col0\" class=\"data row5 col0\" >Добавить страницу отзывов клиентов о магазине, что позволит увеличить количество заказов</td>\n",
              "                        <td id=\"T_8253b_row5_col1\" class=\"data row5 col1\" >3</td>\n",
              "                        <td id=\"T_8253b_row5_col2\" class=\"data row5 col2\" >2</td>\n",
              "                        <td id=\"T_8253b_row5_col3\" class=\"data row5 col3\" >2</td>\n",
              "                        <td id=\"T_8253b_row5_col4\" class=\"data row5 col4\" >3</td>\n",
              "                        <td id=\"T_8253b_row5_col5\" class=\"data row5 col5\" >1</td>\n",
              "                        <td id=\"T_8253b_row5_col6\" class=\"data row5 col6\" >4</td>\n",
              "            </tr>\n",
              "            <tr>\n",
              "                        <th id=\"T_8253b_level0_row6\" class=\"row_heading level0 row6\" >6</th>\n",
              "                        <td id=\"T_8253b_row6_col0\" class=\"data row6 col0\" >Показать на главной странице баннеры с актуальными акциями и распродажами, чтобы увеличить конверсию</td>\n",
              "                        <td id=\"T_8253b_row6_col1\" class=\"data row6 col1\" >5</td>\n",
              "                        <td id=\"T_8253b_row6_col2\" class=\"data row6 col2\" >3</td>\n",
              "                        <td id=\"T_8253b_row6_col3\" class=\"data row6 col3\" >8</td>\n",
              "                        <td id=\"T_8253b_row6_col4\" class=\"data row6 col4\" >3</td>\n",
              "                        <td id=\"T_8253b_row6_col5\" class=\"data row6 col5\" >8</td>\n",
              "                        <td id=\"T_8253b_row6_col6\" class=\"data row6 col6\" >40</td>\n",
              "            </tr>\n",
              "            <tr>\n",
              "                        <th id=\"T_8253b_level0_row7\" class=\"row_heading level0 row7\" >7</th>\n",
              "                        <td id=\"T_8253b_row7_col0\" class=\"data row7 col0\" >Добавить форму подписки на все основные страницы, чтобы собрать базу клиентов для email-рассылок</td>\n",
              "                        <td id=\"T_8253b_row7_col1\" class=\"data row7 col1\" >10</td>\n",
              "                        <td id=\"T_8253b_row7_col2\" class=\"data row7 col2\" >7</td>\n",
              "                        <td id=\"T_8253b_row7_col3\" class=\"data row7 col3\" >8</td>\n",
              "                        <td id=\"T_8253b_row7_col4\" class=\"data row7 col4\" >5</td>\n",
              "                        <td id=\"T_8253b_row7_col5\" class=\"data row7 col5\" >11</td>\n",
              "                        <td id=\"T_8253b_row7_col6\" class=\"data row7 col6\" >112</td>\n",
              "            </tr>\n",
              "            <tr>\n",
              "                        <th id=\"T_8253b_level0_row8\" class=\"row_heading level0 row8\" >8</th>\n",
              "                        <td id=\"T_8253b_row8_col0\" class=\"data row8 col0\" >Запустить акцию, дающую скидку на товар в день рождения</td>\n",
              "                        <td id=\"T_8253b_row8_col1\" class=\"data row8 col1\" >1</td>\n",
              "                        <td id=\"T_8253b_row8_col2\" class=\"data row8 col2\" >9</td>\n",
              "                        <td id=\"T_8253b_row8_col3\" class=\"data row8 col3\" >9</td>\n",
              "                        <td id=\"T_8253b_row8_col4\" class=\"data row8 col4\" >5</td>\n",
              "                        <td id=\"T_8253b_row8_col5\" class=\"data row8 col5\" >16</td>\n",
              "                        <td id=\"T_8253b_row8_col6\" class=\"data row8 col6\" >16</td>\n",
              "            </tr>\n",
              "    </tbody></table>"
            ],
            "text/plain": [
              "<pandas.io.formats.style.Styler at 0x7f079cafaeb0>"
            ]
          },
          "metadata": {},
          "output_type": "display_data"
        }
      ],
      "source": [
        "pd.set_option('display.max_colwidth', None)\n",
        "pd.set_option('display.float_format', '{:,.2f}'.format)\n",
        "\n",
        "format_dict = {'ICE':'{:.0f}', 'RICE': '{:.0f}'}\n",
        "\n",
        "#альтернативный вывод с \"градиентом\" по всей таблице\n",
        "#display(hypothesis.style.background_gradient(cmap='Blues', axis=1))\n",
        "\n",
        "#вывод с подсветкой результатов\n",
        "display(hypothesis.style.format(format_dict)\n",
        " .bar(subset=['ICE'],\n",
        "      align='mid',\n",
        "      color=['coral', 'blue'],\n",
        "      vmin=hypothesis['ICE'].min(),\n",
        "      vmax=hypothesis['ICE'].max()\n",
        "     )\n",
        " .bar(subset=['RICE'],\n",
        "      align='mid',\n",
        "      color=['coral', 'red'],\n",
        "      vmin=hypothesis['RICE'].min(),\n",
        "      vmax=hypothesis['RICE'].max()\n",
        "     ))"
      ]
    },
    {
      "cell_type": "markdown",
      "metadata": {
        "id": "gRpVK3R6xBDP"
      },
      "source": [
        "### Часть 2. Анализ A/B-теста."
      ]
    },
    {
      "cell_type": "markdown",
      "metadata": {
        "id": "hjoO_COexBDP"
      },
      "source": [
        "Изначально было предположено что возможно в данных есть ошибки (один и тот же пользователь в двух группах одновременно). Был собран сет с подсчетом уникальных значений групп по пользователям. Ниже представлены результаты:"
      ]
    },
    {
      "cell_type": "code",
      "execution_count": null,
      "metadata": {
        "id": "n7btRejXxBDP",
        "outputId": "849611e9-3ef8-4dae-f1fe-95a1e6efd029"
      },
      "outputs": [
        {
          "data": {
            "text/html": [
              "<div>\n",
              "<style scoped>\n",
              "    .dataframe tbody tr th:only-of-type {\n",
              "        vertical-align: middle;\n",
              "    }\n",
              "\n",
              "    .dataframe tbody tr th {\n",
              "        vertical-align: top;\n",
              "    }\n",
              "\n",
              "    .dataframe thead th {\n",
              "        text-align: right;\n",
              "    }\n",
              "</style>\n",
              "<table border=\"1\" class=\"dataframe\">\n",
              "  <thead>\n",
              "    <tr style=\"text-align: right;\">\n",
              "      <th></th>\n",
              "      <th>visitorId</th>\n",
              "      <th>group</th>\n",
              "    </tr>\n",
              "  </thead>\n",
              "  <tbody>\n",
              "    <tr>\n",
              "      <th>0</th>\n",
              "      <td>8300375</td>\n",
              "      <td>2</td>\n",
              "    </tr>\n",
              "    <tr>\n",
              "      <th>1</th>\n",
              "      <td>199603092</td>\n",
              "      <td>2</td>\n",
              "    </tr>\n",
              "    <tr>\n",
              "      <th>2</th>\n",
              "      <td>232979603</td>\n",
              "      <td>2</td>\n",
              "    </tr>\n",
              "    <tr>\n",
              "      <th>3</th>\n",
              "      <td>237748145</td>\n",
              "      <td>2</td>\n",
              "    </tr>\n",
              "    <tr>\n",
              "      <th>4</th>\n",
              "      <td>276558944</td>\n",
              "      <td>2</td>\n",
              "    </tr>\n",
              "  </tbody>\n",
              "</table>\n",
              "</div>"
            ],
            "text/plain": [
              "   visitorId  group\n",
              "0    8300375      2\n",
              "1  199603092      2\n",
              "2  232979603      2\n",
              "3  237748145      2\n",
              "4  276558944      2"
            ]
          },
          "metadata": {},
          "output_type": "display_data"
        }
      ],
      "source": [
        "test=orders.groupby('visitorId').agg({'group':'nunique'})\n",
        "test=test.query('group==2').reset_index(drop=False)\n",
        "display(test.head())"
      ]
    },
    {
      "cell_type": "code",
      "execution_count": null,
      "metadata": {
        "id": "vFviARLnxBDP",
        "outputId": "3ae8d1a8-ff1a-4108-a361-ce6e93ea11dc"
      },
      "outputs": [
        {
          "name": "stdout",
          "output_type": "stream",
          "text": [
            "1197 58 95.15\n"
          ]
        }
      ],
      "source": [
        "# сравнение объемов данных orders и сета с \"дублирующими\" группы пользователями\n",
        "a, b = len(orders), len(test)\n",
        "print(len(orders), len(test), round((a-b)/a*100, 2))"
      ]
    },
    {
      "cell_type": "markdown",
      "metadata": {
        "id": "AQXJAuYgxBDP"
      },
      "source": [
        "Получается, что около 5% сета (58 пользователей) с данными о пользователях содержат информацию о \"сдвоенных\" группах. Можно исключить таких пользователей, при этом необходимо подчеркнуть, что таким образом дальнейшие выводы будут обязательно содержать погрешность (ведь из сета visitors удалить такие данные не получится, т.к. нет ни id пользователей ни id заказов."
      ]
    },
    {
      "cell_type": "code",
      "execution_count": null,
      "metadata": {
        "id": "eIvtIgVhxBDR",
        "outputId": "a7809312-617a-4a68-9ad9-584f02ebec2e"
      },
      "outputs": [
        {
          "data": {
            "text/plain": [
              "array([   8300375,  199603092,  232979603,  237748145,  276558944,\n",
              "        351125977,  393266494,  457167155,  471551937,  477780734,\n",
              "        818047933,  963407295, 1230306981, 1294878855, 1316129916,\n",
              "       1333886533, 1404934699, 1602967004, 1614305549, 1648269707,\n",
              "       1668030113, 1738359350, 1801183820, 1959144690, 2038680547,\n",
              "       2044997962, 2378935119, 2458001652, 2579882178, 2587333274,\n",
              "       2600415354, 2654030115, 2686716486, 2712142231, 2716752286,\n",
              "       2780786433, 2927087541, 2949041841, 2954449915, 3062433592,\n",
              "       3202540741, 3234906277, 3656415546, 3717692402, 3766097110,\n",
              "       3803269165, 3891541246, 3941795274, 3951559397, 3957174400,\n",
              "       3963646447, 3972127743, 3984495233, 4069496402, 4120364173,\n",
              "       4186807279, 4256040402, 4266935830])"
            ]
          },
          "metadata": {},
          "output_type": "display_data"
        }
      ],
      "source": [
        "#вывод пересечение id пользователей, которые попали в оба сета (orders и сет с \"дублирующими группами\")\n",
        "set_exclude=np.intersect1d(orders['visitorId'],test['visitorId'])\n",
        "display(set_exclude)"
      ]
    },
    {
      "cell_type": "code",
      "execution_count": null,
      "metadata": {
        "id": "6odMxgyzxBDR",
        "outputId": "5bb4ed71-1bde-445e-a2e4-c82c39773e29"
      },
      "outputs": [
        {
          "data": {
            "text/html": [
              "<div>\n",
              "<style scoped>\n",
              "    .dataframe tbody tr th:only-of-type {\n",
              "        vertical-align: middle;\n",
              "    }\n",
              "\n",
              "    .dataframe tbody tr th {\n",
              "        vertical-align: top;\n",
              "    }\n",
              "\n",
              "    .dataframe thead th {\n",
              "        text-align: right;\n",
              "    }\n",
              "</style>\n",
              "<table border=\"1\" class=\"dataframe\">\n",
              "  <thead>\n",
              "    <tr style=\"text-align: right;\">\n",
              "      <th></th>\n",
              "      <th>transactionId</th>\n",
              "      <th>visitorId</th>\n",
              "      <th>date</th>\n",
              "      <th>revenue</th>\n",
              "      <th>group</th>\n",
              "    </tr>\n",
              "  </thead>\n",
              "  <tbody>\n",
              "    <tr>\n",
              "      <th>0</th>\n",
              "      <td>3667963787</td>\n",
              "      <td>3312258926</td>\n",
              "      <td>2019-08-15</td>\n",
              "      <td>1650</td>\n",
              "      <td>B</td>\n",
              "    </tr>\n",
              "    <tr>\n",
              "      <th>1</th>\n",
              "      <td>2804400009</td>\n",
              "      <td>3642806036</td>\n",
              "      <td>2019-08-15</td>\n",
              "      <td>730</td>\n",
              "      <td>B</td>\n",
              "    </tr>\n",
              "    <tr>\n",
              "      <th>3</th>\n",
              "      <td>3797467345</td>\n",
              "      <td>1196621759</td>\n",
              "      <td>2019-08-15</td>\n",
              "      <td>9759</td>\n",
              "      <td>B</td>\n",
              "    </tr>\n",
              "    <tr>\n",
              "      <th>4</th>\n",
              "      <td>2282983706</td>\n",
              "      <td>2322279887</td>\n",
              "      <td>2019-08-15</td>\n",
              "      <td>2308</td>\n",
              "      <td>B</td>\n",
              "    </tr>\n",
              "    <tr>\n",
              "      <th>5</th>\n",
              "      <td>182168103</td>\n",
              "      <td>935554773</td>\n",
              "      <td>2019-08-15</td>\n",
              "      <td>2210</td>\n",
              "      <td>B</td>\n",
              "    </tr>\n",
              "    <tr>\n",
              "      <th>...</th>\n",
              "      <td>...</td>\n",
              "      <td>...</td>\n",
              "      <td>...</td>\n",
              "      <td>...</td>\n",
              "      <td>...</td>\n",
              "    </tr>\n",
              "    <tr>\n",
              "      <th>1191</th>\n",
              "      <td>3592955527</td>\n",
              "      <td>608641596</td>\n",
              "      <td>2019-08-14</td>\n",
              "      <td>16490</td>\n",
              "      <td>B</td>\n",
              "    </tr>\n",
              "    <tr>\n",
              "      <th>1192</th>\n",
              "      <td>2662137336</td>\n",
              "      <td>3733762160</td>\n",
              "      <td>2019-08-14</td>\n",
              "      <td>6490</td>\n",
              "      <td>B</td>\n",
              "    </tr>\n",
              "    <tr>\n",
              "      <th>1193</th>\n",
              "      <td>2203539145</td>\n",
              "      <td>370388673</td>\n",
              "      <td>2019-08-14</td>\n",
              "      <td>3190</td>\n",
              "      <td>A</td>\n",
              "    </tr>\n",
              "    <tr>\n",
              "      <th>1194</th>\n",
              "      <td>1807773912</td>\n",
              "      <td>573423106</td>\n",
              "      <td>2019-08-14</td>\n",
              "      <td>10550</td>\n",
              "      <td>A</td>\n",
              "    </tr>\n",
              "    <tr>\n",
              "      <th>1196</th>\n",
              "      <td>3936777065</td>\n",
              "      <td>2108080724</td>\n",
              "      <td>2019-08-15</td>\n",
              "      <td>202740</td>\n",
              "      <td>B</td>\n",
              "    </tr>\n",
              "  </tbody>\n",
              "</table>\n",
              "<p>1016 rows × 5 columns</p>\n",
              "</div>"
            ],
            "text/plain": [
              "      transactionId   visitorId       date  revenue group\n",
              "0        3667963787  3312258926 2019-08-15     1650     B\n",
              "1        2804400009  3642806036 2019-08-15      730     B\n",
              "3        3797467345  1196621759 2019-08-15     9759     B\n",
              "4        2282983706  2322279887 2019-08-15     2308     B\n",
              "5         182168103   935554773 2019-08-15     2210     B\n",
              "...             ...         ...        ...      ...   ...\n",
              "1191     3592955527   608641596 2019-08-14    16490     B\n",
              "1192     2662137336  3733762160 2019-08-14     6490     B\n",
              "1193     2203539145   370388673 2019-08-14     3190     A\n",
              "1194     1807773912   573423106 2019-08-14    10550     A\n",
              "1196     3936777065  2108080724 2019-08-15   202740     B\n",
              "\n",
              "[1016 rows x 5 columns]"
            ]
          },
          "metadata": {},
          "output_type": "display_data"
        }
      ],
      "source": [
        "new_orders=orders.query('visitorId not in [8300375,  199603092,  232979603,  237748145,  276558944,351125977,  393266494,  457167155,  471551937,  477780734,818047933,  963407295, 1230306981, 1294878855, 1316129916,1333886533, 1404934699, 1602967004, 1614305549, 1648269707,1668030113, 1738359350, 1801183820, 1959144690, 2038680547,2044997962, 2378935119, 2458001652, 2579882178, 2587333274,2600415354, 2654030115, 2686716486, 2712142231, 2716752286,2780786433, 2927087541, 2949041841, 2954449915, 3062433592,3202540741, 3234906277, 3656415546, 3717692402, 3766097110,3803269165, 3891541246, 3941795274, 3951559397, 3957174400,3963646447, 3972127743, 3984495233, 4069496402, 4120364173,4186807279, 4256040402, 4266935830]')\n",
        "display(new_orders)"
      ]
    },
    {
      "cell_type": "code",
      "execution_count": null,
      "metadata": {
        "id": "zXyXMpC8xBDR",
        "outputId": "6927d3d6-3f4a-4acd-9abd-c58672b5f9a6"
      },
      "outputs": [
        {
          "name": "stdout",
          "output_type": "stream",
          "text": [
            "1031 973 5.63\n"
          ]
        }
      ],
      "source": [
        "# сравнение объемов данных до и после преобразования\n",
        "a, b = len(orders['visitorId'].unique()), len(new_orders['visitorId'].unique())\n",
        "print(len(orders['visitorId'].unique()), len(new_orders['visitorId'].unique()), round((a-b)/a*100, 2))"
      ]
    },
    {
      "cell_type": "markdown",
      "metadata": {
        "id": "9juVfs8fxBDR"
      },
      "source": [
        "При сравнении количества уникальных id пользователей, выявлено что исключение пользователей \"дублирующих\" группы пользователей произведена корректно."
      ]
    },
    {
      "cell_type": "markdown",
      "metadata": {
        "id": "Yvqh3eLExBDS"
      },
      "source": [
        "Дополнительно, перед проведением тестов, предлагаются следующие гипотезы:  \n",
        "    Нулевая гипотеза: **Статистически значимых различий между группами нет**  \n",
        "    Альтернативная гипотеза: **Статистически значимые различия между группами есть**  \n",
        "Данные гипотезы следует применить при анализе средних чеков и кол-вом заказов."
      ]
    },
    {
      "cell_type": "markdown",
      "metadata": {
        "id": "bXWBZ-2XxBDY"
      },
      "source": [
        "#### Постройте график кумулятивной выручки по группам. Сделайте выводы и предположения."
      ]
    },
    {
      "cell_type": "code",
      "execution_count": null,
      "metadata": {
        "id": "c29gwOO7xBDY",
        "outputId": "a23a9696-8653-4da3-b27f-ff039a48adbb"
      },
      "outputs": [
        {
          "name": "stdout",
          "output_type": "stream",
          "text": [
            "Первые 10 строк\n"
          ]
        },
        {
          "data": {
            "text/html": [
              "<div>\n",
              "<style scoped>\n",
              "    .dataframe tbody tr th:only-of-type {\n",
              "        vertical-align: middle;\n",
              "    }\n",
              "\n",
              "    .dataframe tbody tr th {\n",
              "        vertical-align: top;\n",
              "    }\n",
              "\n",
              "    .dataframe thead th {\n",
              "        text-align: right;\n",
              "    }\n",
              "</style>\n",
              "<table border=\"1\" class=\"dataframe\">\n",
              "  <thead>\n",
              "    <tr style=\"text-align: right;\">\n",
              "      <th></th>\n",
              "      <th>transactionId</th>\n",
              "      <th>visitorId</th>\n",
              "      <th>date</th>\n",
              "      <th>revenue</th>\n",
              "      <th>group</th>\n",
              "    </tr>\n",
              "  </thead>\n",
              "  <tbody>\n",
              "    <tr>\n",
              "      <th>0</th>\n",
              "      <td>3667963787</td>\n",
              "      <td>3312258926</td>\n",
              "      <td>2019-08-15</td>\n",
              "      <td>1650</td>\n",
              "      <td>B</td>\n",
              "    </tr>\n",
              "    <tr>\n",
              "      <th>1</th>\n",
              "      <td>2804400009</td>\n",
              "      <td>3642806036</td>\n",
              "      <td>2019-08-15</td>\n",
              "      <td>730</td>\n",
              "      <td>B</td>\n",
              "    </tr>\n",
              "    <tr>\n",
              "      <th>3</th>\n",
              "      <td>3797467345</td>\n",
              "      <td>1196621759</td>\n",
              "      <td>2019-08-15</td>\n",
              "      <td>9759</td>\n",
              "      <td>B</td>\n",
              "    </tr>\n",
              "    <tr>\n",
              "      <th>4</th>\n",
              "      <td>2282983706</td>\n",
              "      <td>2322279887</td>\n",
              "      <td>2019-08-15</td>\n",
              "      <td>2308</td>\n",
              "      <td>B</td>\n",
              "    </tr>\n",
              "    <tr>\n",
              "      <th>5</th>\n",
              "      <td>182168103</td>\n",
              "      <td>935554773</td>\n",
              "      <td>2019-08-15</td>\n",
              "      <td>2210</td>\n",
              "      <td>B</td>\n",
              "    </tr>\n",
              "    <tr>\n",
              "      <th>6</th>\n",
              "      <td>398296753</td>\n",
              "      <td>2900797465</td>\n",
              "      <td>2019-08-15</td>\n",
              "      <td>1860</td>\n",
              "      <td>B</td>\n",
              "    </tr>\n",
              "    <tr>\n",
              "      <th>7</th>\n",
              "      <td>2626614568</td>\n",
              "      <td>78758296</td>\n",
              "      <td>2019-08-15</td>\n",
              "      <td>1044</td>\n",
              "      <td>A</td>\n",
              "    </tr>\n",
              "    <tr>\n",
              "      <th>8</th>\n",
              "      <td>1576988021</td>\n",
              "      <td>295230930</td>\n",
              "      <td>2019-08-15</td>\n",
              "      <td>13710</td>\n",
              "      <td>A</td>\n",
              "    </tr>\n",
              "    <tr>\n",
              "      <th>9</th>\n",
              "      <td>1506739906</td>\n",
              "      <td>1882260405</td>\n",
              "      <td>2019-08-15</td>\n",
              "      <td>1855</td>\n",
              "      <td>B</td>\n",
              "    </tr>\n",
              "    <tr>\n",
              "      <th>10</th>\n",
              "      <td>3649131742</td>\n",
              "      <td>879864040</td>\n",
              "      <td>2019-08-15</td>\n",
              "      <td>4008</td>\n",
              "      <td>A</td>\n",
              "    </tr>\n",
              "  </tbody>\n",
              "</table>\n",
              "</div>"
            ],
            "text/plain": [
              "    transactionId   visitorId       date  revenue group\n",
              "0      3667963787  3312258926 2019-08-15     1650     B\n",
              "1      2804400009  3642806036 2019-08-15      730     B\n",
              "3      3797467345  1196621759 2019-08-15     9759     B\n",
              "4      2282983706  2322279887 2019-08-15     2308     B\n",
              "5       182168103   935554773 2019-08-15     2210     B\n",
              "6       398296753  2900797465 2019-08-15     1860     B\n",
              "7      2626614568    78758296 2019-08-15     1044     A\n",
              "8      1576988021   295230930 2019-08-15    13710     A\n",
              "9      1506739906  1882260405 2019-08-15     1855     B\n",
              "10     3649131742   879864040 2019-08-15     4008     A"
            ]
          },
          "metadata": {},
          "output_type": "display_data"
        },
        {
          "name": "stdout",
          "output_type": "stream",
          "text": [
            "Типы данных\n",
            "\n",
            "<class 'pandas.core.frame.DataFrame'>\n",
            "Int64Index: 1016 entries, 0 to 1196\n",
            "Data columns (total 5 columns):\n",
            " #   Column         Non-Null Count  Dtype         \n",
            "---  ------         --------------  -----         \n",
            " 0   transactionId  1016 non-null   int64         \n",
            " 1   visitorId      1016 non-null   int64         \n",
            " 2   date           1016 non-null   datetime64[ns]\n",
            " 3   revenue        1016 non-null   int64         \n",
            " 4   group          1016 non-null   object        \n",
            "dtypes: datetime64[ns](1), int64(3), object(1)\n",
            "memory usage: 47.6+ KB\n"
          ]
        },
        {
          "data": {
            "text/plain": [
              "None"
            ]
          },
          "metadata": {},
          "output_type": "display_data"
        },
        {
          "name": "stdout",
          "output_type": "stream",
          "text": [
            "Статистика.Сводка\n"
          ]
        },
        {
          "data": {
            "text/html": [
              "<div>\n",
              "<style scoped>\n",
              "    .dataframe tbody tr th:only-of-type {\n",
              "        vertical-align: middle;\n",
              "    }\n",
              "\n",
              "    .dataframe tbody tr th {\n",
              "        vertical-align: top;\n",
              "    }\n",
              "\n",
              "    .dataframe thead th {\n",
              "        text-align: right;\n",
              "    }\n",
              "</style>\n",
              "<table border=\"1\" class=\"dataframe\">\n",
              "  <thead>\n",
              "    <tr style=\"text-align: right;\">\n",
              "      <th></th>\n",
              "      <th>transactionId</th>\n",
              "      <th>visitorId</th>\n",
              "      <th>revenue</th>\n",
              "    </tr>\n",
              "  </thead>\n",
              "  <tbody>\n",
              "    <tr>\n",
              "      <th>count</th>\n",
              "      <td>1,016.00</td>\n",
              "      <td>1,016.00</td>\n",
              "      <td>1,016.00</td>\n",
              "    </tr>\n",
              "    <tr>\n",
              "      <th>mean</th>\n",
              "      <td>2,155,084,621.11</td>\n",
              "      <td>2,128,676,536.37</td>\n",
              "      <td>8,300.81</td>\n",
              "    </tr>\n",
              "    <tr>\n",
              "      <th>std</th>\n",
              "      <td>1,234,371,920.23</td>\n",
              "      <td>1,221,578,489.67</td>\n",
              "      <td>42,121.99</td>\n",
              "    </tr>\n",
              "    <tr>\n",
              "      <th>min</th>\n",
              "      <td>1,062,393.00</td>\n",
              "      <td>5,114,589.00</td>\n",
              "      <td>50.00</td>\n",
              "    </tr>\n",
              "    <tr>\n",
              "      <th>25%</th>\n",
              "      <td>1,143,481,362.50</td>\n",
              "      <td>1,043,654,735.75</td>\n",
              "      <td>1,190.00</td>\n",
              "    </tr>\n",
              "    <tr>\n",
              "      <th>50%</th>\n",
              "      <td>2,144,498,593.00</td>\n",
              "      <td>2,150,274,199.50</td>\n",
              "      <td>2,955.00</td>\n",
              "    </tr>\n",
              "    <tr>\n",
              "      <th>75%</th>\n",
              "      <td>3,256,513,229.00</td>\n",
              "      <td>3,146,990,608.50</td>\n",
              "      <td>8,134.25</td>\n",
              "    </tr>\n",
              "    <tr>\n",
              "      <th>max</th>\n",
              "      <td>4,288,552,432.00</td>\n",
              "      <td>4,283,872,382.00</td>\n",
              "      <td>1,294,500.00</td>\n",
              "    </tr>\n",
              "  </tbody>\n",
              "</table>\n",
              "</div>"
            ],
            "text/plain": [
              "         transactionId        visitorId      revenue\n",
              "count         1,016.00         1,016.00     1,016.00\n",
              "mean  2,155,084,621.11 2,128,676,536.37     8,300.81\n",
              "std   1,234,371,920.23 1,221,578,489.67    42,121.99\n",
              "min       1,062,393.00     5,114,589.00        50.00\n",
              "25%   1,143,481,362.50 1,043,654,735.75     1,190.00\n",
              "50%   2,144,498,593.00 2,150,274,199.50     2,955.00\n",
              "75%   3,256,513,229.00 3,146,990,608.50     8,134.25\n",
              "max   4,288,552,432.00 4,283,872,382.00 1,294,500.00"
            ]
          },
          "metadata": {},
          "output_type": "display_data"
        },
        {
          "name": "stdout",
          "output_type": "stream",
          "text": [
            "Пропуски:\n",
            "\n"
          ]
        },
        {
          "data": {
            "text/plain": [
              "transactionId    0\n",
              "visitorId        0\n",
              "date             0\n",
              "revenue          0\n",
              "group            0\n",
              "dtype: int64"
            ]
          },
          "metadata": {},
          "output_type": "display_data"
        },
        {
          "name": "stdout",
          "output_type": "stream",
          "text": [
            "\n",
            " Процент пропусков\n"
          ]
        },
        {
          "data": {
            "text/plain": [
              "transactionId   0.00\n",
              "visitorId       0.00\n",
              "date            0.00\n",
              "revenue         0.00\n",
              "group           0.00\n",
              "dtype: float64"
            ]
          },
          "metadata": {},
          "output_type": "display_data"
        },
        {
          "name": "stdout",
          "output_type": "stream",
          "text": [
            "\n",
            "Дубликаты:\n",
            "\n",
            "Дубликатов НЕТ\n"
          ]
        }
      ],
      "source": [
        "first_look (new_orders)"
      ]
    },
    {
      "cell_type": "code",
      "execution_count": null,
      "metadata": {
        "id": "i_hD_dBLxBDY",
        "outputId": "caad604e-dbe4-488a-acc9-6217b13279ae"
      },
      "outputs": [
        {
          "name": "stdout",
          "output_type": "stream",
          "text": [
            "Первые 10 строк\n"
          ]
        },
        {
          "data": {
            "text/html": [
              "<div>\n",
              "<style scoped>\n",
              "    .dataframe tbody tr th:only-of-type {\n",
              "        vertical-align: middle;\n",
              "    }\n",
              "\n",
              "    .dataframe tbody tr th {\n",
              "        vertical-align: top;\n",
              "    }\n",
              "\n",
              "    .dataframe thead th {\n",
              "        text-align: right;\n",
              "    }\n",
              "</style>\n",
              "<table border=\"1\" class=\"dataframe\">\n",
              "  <thead>\n",
              "    <tr style=\"text-align: right;\">\n",
              "      <th></th>\n",
              "      <th>date</th>\n",
              "      <th>group</th>\n",
              "      <th>visitors</th>\n",
              "    </tr>\n",
              "  </thead>\n",
              "  <tbody>\n",
              "    <tr>\n",
              "      <th>0</th>\n",
              "      <td>2019-08-01</td>\n",
              "      <td>A</td>\n",
              "      <td>719</td>\n",
              "    </tr>\n",
              "    <tr>\n",
              "      <th>1</th>\n",
              "      <td>2019-08-02</td>\n",
              "      <td>A</td>\n",
              "      <td>619</td>\n",
              "    </tr>\n",
              "    <tr>\n",
              "      <th>2</th>\n",
              "      <td>2019-08-03</td>\n",
              "      <td>A</td>\n",
              "      <td>507</td>\n",
              "    </tr>\n",
              "    <tr>\n",
              "      <th>3</th>\n",
              "      <td>2019-08-04</td>\n",
              "      <td>A</td>\n",
              "      <td>717</td>\n",
              "    </tr>\n",
              "    <tr>\n",
              "      <th>4</th>\n",
              "      <td>2019-08-05</td>\n",
              "      <td>A</td>\n",
              "      <td>756</td>\n",
              "    </tr>\n",
              "    <tr>\n",
              "      <th>5</th>\n",
              "      <td>2019-08-06</td>\n",
              "      <td>A</td>\n",
              "      <td>667</td>\n",
              "    </tr>\n",
              "    <tr>\n",
              "      <th>6</th>\n",
              "      <td>2019-08-07</td>\n",
              "      <td>A</td>\n",
              "      <td>644</td>\n",
              "    </tr>\n",
              "    <tr>\n",
              "      <th>7</th>\n",
              "      <td>2019-08-08</td>\n",
              "      <td>A</td>\n",
              "      <td>610</td>\n",
              "    </tr>\n",
              "    <tr>\n",
              "      <th>8</th>\n",
              "      <td>2019-08-09</td>\n",
              "      <td>A</td>\n",
              "      <td>617</td>\n",
              "    </tr>\n",
              "    <tr>\n",
              "      <th>9</th>\n",
              "      <td>2019-08-10</td>\n",
              "      <td>A</td>\n",
              "      <td>406</td>\n",
              "    </tr>\n",
              "  </tbody>\n",
              "</table>\n",
              "</div>"
            ],
            "text/plain": [
              "        date group  visitors\n",
              "0 2019-08-01     A       719\n",
              "1 2019-08-02     A       619\n",
              "2 2019-08-03     A       507\n",
              "3 2019-08-04     A       717\n",
              "4 2019-08-05     A       756\n",
              "5 2019-08-06     A       667\n",
              "6 2019-08-07     A       644\n",
              "7 2019-08-08     A       610\n",
              "8 2019-08-09     A       617\n",
              "9 2019-08-10     A       406"
            ]
          },
          "metadata": {},
          "output_type": "display_data"
        },
        {
          "name": "stdout",
          "output_type": "stream",
          "text": [
            "Типы данных\n",
            "\n",
            "<class 'pandas.core.frame.DataFrame'>\n",
            "RangeIndex: 62 entries, 0 to 61\n",
            "Data columns (total 3 columns):\n",
            " #   Column    Non-Null Count  Dtype         \n",
            "---  ------    --------------  -----         \n",
            " 0   date      62 non-null     datetime64[ns]\n",
            " 1   group     62 non-null     object        \n",
            " 2   visitors  62 non-null     int64         \n",
            "dtypes: datetime64[ns](1), int64(1), object(1)\n",
            "memory usage: 1.6+ KB\n"
          ]
        },
        {
          "data": {
            "text/plain": [
              "None"
            ]
          },
          "metadata": {},
          "output_type": "display_data"
        },
        {
          "name": "stdout",
          "output_type": "stream",
          "text": [
            "Статистика.Сводка\n"
          ]
        },
        {
          "data": {
            "text/html": [
              "<div>\n",
              "<style scoped>\n",
              "    .dataframe tbody tr th:only-of-type {\n",
              "        vertical-align: middle;\n",
              "    }\n",
              "\n",
              "    .dataframe tbody tr th {\n",
              "        vertical-align: top;\n",
              "    }\n",
              "\n",
              "    .dataframe thead th {\n",
              "        text-align: right;\n",
              "    }\n",
              "</style>\n",
              "<table border=\"1\" class=\"dataframe\">\n",
              "  <thead>\n",
              "    <tr style=\"text-align: right;\">\n",
              "      <th></th>\n",
              "      <th>visitors</th>\n",
              "    </tr>\n",
              "  </thead>\n",
              "  <tbody>\n",
              "    <tr>\n",
              "      <th>count</th>\n",
              "      <td>62.00</td>\n",
              "    </tr>\n",
              "    <tr>\n",
              "      <th>mean</th>\n",
              "      <td>607.29</td>\n",
              "    </tr>\n",
              "    <tr>\n",
              "      <th>std</th>\n",
              "      <td>114.40</td>\n",
              "    </tr>\n",
              "    <tr>\n",
              "      <th>min</th>\n",
              "      <td>361.00</td>\n",
              "    </tr>\n",
              "    <tr>\n",
              "      <th>25%</th>\n",
              "      <td>534.00</td>\n",
              "    </tr>\n",
              "    <tr>\n",
              "      <th>50%</th>\n",
              "      <td>624.50</td>\n",
              "    </tr>\n",
              "    <tr>\n",
              "      <th>75%</th>\n",
              "      <td>710.50</td>\n",
              "    </tr>\n",
              "    <tr>\n",
              "      <th>max</th>\n",
              "      <td>770.00</td>\n",
              "    </tr>\n",
              "  </tbody>\n",
              "</table>\n",
              "</div>"
            ],
            "text/plain": [
              "       visitors\n",
              "count     62.00\n",
              "mean     607.29\n",
              "std      114.40\n",
              "min      361.00\n",
              "25%      534.00\n",
              "50%      624.50\n",
              "75%      710.50\n",
              "max      770.00"
            ]
          },
          "metadata": {},
          "output_type": "display_data"
        },
        {
          "name": "stdout",
          "output_type": "stream",
          "text": [
            "Пропуски:\n",
            "\n"
          ]
        },
        {
          "data": {
            "text/plain": [
              "date        0\n",
              "group       0\n",
              "visitors    0\n",
              "dtype: int64"
            ]
          },
          "metadata": {},
          "output_type": "display_data"
        },
        {
          "name": "stdout",
          "output_type": "stream",
          "text": [
            "\n",
            " Процент пропусков\n"
          ]
        },
        {
          "data": {
            "text/plain": [
              "date       0.00\n",
              "group      0.00\n",
              "visitors   0.00\n",
              "dtype: float64"
            ]
          },
          "metadata": {},
          "output_type": "display_data"
        },
        {
          "name": "stdout",
          "output_type": "stream",
          "text": [
            "\n",
            "Дубликаты:\n",
            "\n",
            "Дубликатов НЕТ\n"
          ]
        }
      ],
      "source": [
        "first_look (visitors)"
      ]
    },
    {
      "cell_type": "markdown",
      "metadata": {
        "id": "GzTJ6u64xBDY"
      },
      "source": [
        "Прямых дубликатов в сетах нет. Пропусков также не обнаружено. По условиям задания, исключение аномалий на данном этапе не производится."
      ]
    },
    {
      "cell_type": "code",
      "execution_count": null,
      "metadata": {
        "id": "jAhkiNzTxBDY",
        "outputId": "e2df450b-c6e3-440f-cb89-a89e000a3e58"
      },
      "outputs": [
        {
          "data": {
            "text/html": [
              "<div>\n",
              "<style scoped>\n",
              "    .dataframe tbody tr th:only-of-type {\n",
              "        vertical-align: middle;\n",
              "    }\n",
              "\n",
              "    .dataframe tbody tr th {\n",
              "        vertical-align: top;\n",
              "    }\n",
              "\n",
              "    .dataframe thead th {\n",
              "        text-align: right;\n",
              "    }\n",
              "</style>\n",
              "<table border=\"1\" class=\"dataframe\">\n",
              "  <thead>\n",
              "    <tr style=\"text-align: right;\">\n",
              "      <th></th>\n",
              "      <th>date</th>\n",
              "      <th>group</th>\n",
              "    </tr>\n",
              "  </thead>\n",
              "  <tbody>\n",
              "    <tr>\n",
              "      <th>0</th>\n",
              "      <td>2019-08-15</td>\n",
              "      <td>B</td>\n",
              "    </tr>\n",
              "    <tr>\n",
              "      <th>7</th>\n",
              "      <td>2019-08-15</td>\n",
              "      <td>A</td>\n",
              "    </tr>\n",
              "    <tr>\n",
              "      <th>45</th>\n",
              "      <td>2019-08-16</td>\n",
              "      <td>A</td>\n",
              "    </tr>\n",
              "    <tr>\n",
              "      <th>47</th>\n",
              "      <td>2019-08-16</td>\n",
              "      <td>B</td>\n",
              "    </tr>\n",
              "    <tr>\n",
              "      <th>55</th>\n",
              "      <td>2019-08-01</td>\n",
              "      <td>A</td>\n",
              "    </tr>\n",
              "  </tbody>\n",
              "</table>\n",
              "</div>"
            ],
            "text/plain": [
              "         date group\n",
              "0  2019-08-15     B\n",
              "7  2019-08-15     A\n",
              "45 2019-08-16     A\n",
              "47 2019-08-16     B\n",
              "55 2019-08-01     A"
            ]
          },
          "metadata": {},
          "output_type": "display_data"
        }
      ],
      "source": [
        "# создаем массив уникальных пар значений дат и групп теста\n",
        "datesGroups = new_orders[['date','group']].drop_duplicates()\n",
        "display(datesGroups.head())"
      ]
    },
    {
      "cell_type": "code",
      "execution_count": null,
      "metadata": {
        "id": "fBdw-ijgxBDZ",
        "outputId": "ff4c2840-28c1-4084-fa22-fb6357846fa0"
      },
      "outputs": [
        {
          "data": {
            "text/html": [
              "<div>\n",
              "<style scoped>\n",
              "    .dataframe tbody tr th:only-of-type {\n",
              "        vertical-align: middle;\n",
              "    }\n",
              "\n",
              "    .dataframe tbody tr th {\n",
              "        vertical-align: top;\n",
              "    }\n",
              "\n",
              "    .dataframe thead th {\n",
              "        text-align: right;\n",
              "    }\n",
              "</style>\n",
              "<table border=\"1\" class=\"dataframe\">\n",
              "  <thead>\n",
              "    <tr style=\"text-align: right;\">\n",
              "      <th></th>\n",
              "      <th>transactionId</th>\n",
              "      <th>visitorId</th>\n",
              "      <th>date</th>\n",
              "      <th>revenue</th>\n",
              "      <th>group</th>\n",
              "    </tr>\n",
              "  </thead>\n",
              "  <tbody>\n",
              "    <tr>\n",
              "      <th>0</th>\n",
              "      <td>3667963787</td>\n",
              "      <td>3312258926</td>\n",
              "      <td>2019-08-15</td>\n",
              "      <td>1650</td>\n",
              "      <td>B</td>\n",
              "    </tr>\n",
              "    <tr>\n",
              "      <th>1</th>\n",
              "      <td>2804400009</td>\n",
              "      <td>3642806036</td>\n",
              "      <td>2019-08-15</td>\n",
              "      <td>730</td>\n",
              "      <td>B</td>\n",
              "    </tr>\n",
              "    <tr>\n",
              "      <th>3</th>\n",
              "      <td>3797467345</td>\n",
              "      <td>1196621759</td>\n",
              "      <td>2019-08-15</td>\n",
              "      <td>9759</td>\n",
              "      <td>B</td>\n",
              "    </tr>\n",
              "    <tr>\n",
              "      <th>4</th>\n",
              "      <td>2282983706</td>\n",
              "      <td>2322279887</td>\n",
              "      <td>2019-08-15</td>\n",
              "      <td>2308</td>\n",
              "      <td>B</td>\n",
              "    </tr>\n",
              "    <tr>\n",
              "      <th>5</th>\n",
              "      <td>182168103</td>\n",
              "      <td>935554773</td>\n",
              "      <td>2019-08-15</td>\n",
              "      <td>2210</td>\n",
              "      <td>B</td>\n",
              "    </tr>\n",
              "  </tbody>\n",
              "</table>\n",
              "</div>"
            ],
            "text/plain": [
              "   transactionId   visitorId       date  revenue group\n",
              "0     3667963787  3312258926 2019-08-15     1650     B\n",
              "1     2804400009  3642806036 2019-08-15      730     B\n",
              "3     3797467345  1196621759 2019-08-15     9759     B\n",
              "4     2282983706  2322279887 2019-08-15     2308     B\n",
              "5      182168103   935554773 2019-08-15     2210     B"
            ]
          },
          "execution_count": 17,
          "metadata": {},
          "output_type": "execute_result"
        }
      ],
      "source": [
        "new_orders.head()"
      ]
    },
    {
      "cell_type": "markdown",
      "metadata": {
        "id": "NrkQgmF_xBDZ"
      },
      "source": [
        "Получим строки таблицы orders, дата которых меньше или равна дате элемента из datesGroups, а группа теста равна группе из datesGroups.  \n",
        "Агрегируем значения. Вычислим максимальную дату. Для группы тоже рассчитаем максимум, и хотя она будет определённой, сделаем это, чтобы столбец 'group' не пропал из итогового вывода. Найдём число уникальных ID заказов и пользователей. Подсчитаем сумму средних чеков"
      ]
    },
    {
      "cell_type": "code",
      "execution_count": null,
      "metadata": {
        "id": "6DvdAOG_xBDZ",
        "outputId": "b58826b9-16a3-4d81-cff1-3ca1d8663df2"
      },
      "outputs": [
        {
          "data": {
            "text/html": [
              "<div>\n",
              "<style scoped>\n",
              "    .dataframe tbody tr th:only-of-type {\n",
              "        vertical-align: middle;\n",
              "    }\n",
              "\n",
              "    .dataframe tbody tr th {\n",
              "        vertical-align: top;\n",
              "    }\n",
              "\n",
              "    .dataframe thead th {\n",
              "        text-align: right;\n",
              "    }\n",
              "</style>\n",
              "<table border=\"1\" class=\"dataframe\">\n",
              "  <thead>\n",
              "    <tr style=\"text-align: right;\">\n",
              "      <th></th>\n",
              "      <th>date</th>\n",
              "      <th>group</th>\n",
              "      <th>transactionId</th>\n",
              "      <th>visitorId</th>\n",
              "      <th>revenue</th>\n",
              "    </tr>\n",
              "  </thead>\n",
              "  <tbody>\n",
              "    <tr>\n",
              "      <th>55</th>\n",
              "      <td>2019-08-01</td>\n",
              "      <td>A</td>\n",
              "      <td>23</td>\n",
              "      <td>19</td>\n",
              "      <td>142779</td>\n",
              "    </tr>\n",
              "    <tr>\n",
              "      <th>66</th>\n",
              "      <td>2019-08-01</td>\n",
              "      <td>B</td>\n",
              "      <td>17</td>\n",
              "      <td>17</td>\n",
              "      <td>59758</td>\n",
              "    </tr>\n",
              "    <tr>\n",
              "      <th>175</th>\n",
              "      <td>2019-08-02</td>\n",
              "      <td>A</td>\n",
              "      <td>42</td>\n",
              "      <td>36</td>\n",
              "      <td>234381</td>\n",
              "    </tr>\n",
              "    <tr>\n",
              "      <th>173</th>\n",
              "      <td>2019-08-02</td>\n",
              "      <td>B</td>\n",
              "      <td>40</td>\n",
              "      <td>39</td>\n",
              "      <td>221801</td>\n",
              "    </tr>\n",
              "    <tr>\n",
              "      <th>291</th>\n",
              "      <td>2019-08-03</td>\n",
              "      <td>A</td>\n",
              "      <td>66</td>\n",
              "      <td>60</td>\n",
              "      <td>346854</td>\n",
              "    </tr>\n",
              "  </tbody>\n",
              "</table>\n",
              "</div>"
            ],
            "text/plain": [
              "          date group  transactionId  visitorId  revenue\n",
              "55  2019-08-01     A             23         19   142779\n",
              "66  2019-08-01     B             17         17    59758\n",
              "175 2019-08-02     A             42         36   234381\n",
              "173 2019-08-02     B             40         39   221801\n",
              "291 2019-08-03     A             66         60   346854"
            ]
          },
          "metadata": {},
          "output_type": "display_data"
        }
      ],
      "source": [
        "ordersAggregated=datesGroups.apply(\n",
        "    lambda x: new_orders[np.logical_and(new_orders['date'] <= x['date'], new_orders['group'] == x['group'])].agg({\n",
        "'date' : 'max',\n",
        "'group' : 'max',\n",
        "'transactionId' : pd.Series.nunique,\n",
        "'visitorId' : pd.Series.nunique,\n",
        "'revenue' : 'sum'}), axis=1).sort_values(by=['date','group'])\n",
        "display(ordersAggregated.head())"
      ]
    },
    {
      "cell_type": "markdown",
      "metadata": {
        "id": "TE5nofjMxBDZ"
      },
      "source": [
        "Аналогично с данными visitors"
      ]
    },
    {
      "cell_type": "code",
      "execution_count": null,
      "metadata": {
        "id": "XPIAwXlexBDZ",
        "outputId": "b18c72c4-76e9-49fe-bb36-4f79ee8bec45"
      },
      "outputs": [
        {
          "data": {
            "text/html": [
              "<div>\n",
              "<style scoped>\n",
              "    .dataframe tbody tr th:only-of-type {\n",
              "        vertical-align: middle;\n",
              "    }\n",
              "\n",
              "    .dataframe tbody tr th {\n",
              "        vertical-align: top;\n",
              "    }\n",
              "\n",
              "    .dataframe thead th {\n",
              "        text-align: right;\n",
              "    }\n",
              "</style>\n",
              "<table border=\"1\" class=\"dataframe\">\n",
              "  <thead>\n",
              "    <tr style=\"text-align: right;\">\n",
              "      <th></th>\n",
              "      <th>date</th>\n",
              "      <th>group</th>\n",
              "      <th>visitors</th>\n",
              "    </tr>\n",
              "  </thead>\n",
              "  <tbody>\n",
              "    <tr>\n",
              "      <th>55</th>\n",
              "      <td>2019-08-01</td>\n",
              "      <td>A</td>\n",
              "      <td>719</td>\n",
              "    </tr>\n",
              "    <tr>\n",
              "      <th>66</th>\n",
              "      <td>2019-08-01</td>\n",
              "      <td>B</td>\n",
              "      <td>713</td>\n",
              "    </tr>\n",
              "    <tr>\n",
              "      <th>175</th>\n",
              "      <td>2019-08-02</td>\n",
              "      <td>A</td>\n",
              "      <td>1338</td>\n",
              "    </tr>\n",
              "    <tr>\n",
              "      <th>173</th>\n",
              "      <td>2019-08-02</td>\n",
              "      <td>B</td>\n",
              "      <td>1294</td>\n",
              "    </tr>\n",
              "    <tr>\n",
              "      <th>291</th>\n",
              "      <td>2019-08-03</td>\n",
              "      <td>A</td>\n",
              "      <td>1845</td>\n",
              "    </tr>\n",
              "  </tbody>\n",
              "</table>\n",
              "</div>"
            ],
            "text/plain": [
              "          date group  visitors\n",
              "55  2019-08-01     A       719\n",
              "66  2019-08-01     B       713\n",
              "175 2019-08-02     A      1338\n",
              "173 2019-08-02     B      1294\n",
              "291 2019-08-03     A      1845"
            ]
          },
          "metadata": {},
          "output_type": "display_data"
        }
      ],
      "source": [
        "visitorsAggregated=datesGroups.apply(\n",
        "    lambda x: visitors[np.logical_and(visitors['date'] <= x['date'], visitors['group'] == x['group'])].agg({\n",
        "'date' : 'max',\n",
        "'group' : 'max',\n",
        "'visitors' : 'sum'}), axis=1).sort_values(by=['date','group'])\n",
        "display(visitorsAggregated.head())"
      ]
    },
    {
      "cell_type": "code",
      "execution_count": null,
      "metadata": {
        "id": "StWdFhg9xBDZ",
        "outputId": "96b9ef31-471e-4775-84fc-c8eade3f1241"
      },
      "outputs": [
        {
          "data": {
            "text/html": [
              "<div>\n",
              "<style scoped>\n",
              "    .dataframe tbody tr th:only-of-type {\n",
              "        vertical-align: middle;\n",
              "    }\n",
              "\n",
              "    .dataframe tbody tr th {\n",
              "        vertical-align: top;\n",
              "    }\n",
              "\n",
              "    .dataframe thead th {\n",
              "        text-align: right;\n",
              "    }\n",
              "</style>\n",
              "<table border=\"1\" class=\"dataframe\">\n",
              "  <thead>\n",
              "    <tr style=\"text-align: right;\">\n",
              "      <th></th>\n",
              "      <th>date</th>\n",
              "      <th>group</th>\n",
              "      <th>orders</th>\n",
              "      <th>buyers</th>\n",
              "      <th>revenue</th>\n",
              "      <th>visitors</th>\n",
              "    </tr>\n",
              "  </thead>\n",
              "  <tbody>\n",
              "    <tr>\n",
              "      <th>0</th>\n",
              "      <td>2019-08-01</td>\n",
              "      <td>A</td>\n",
              "      <td>23</td>\n",
              "      <td>19</td>\n",
              "      <td>142779</td>\n",
              "      <td>719</td>\n",
              "    </tr>\n",
              "    <tr>\n",
              "      <th>1</th>\n",
              "      <td>2019-08-01</td>\n",
              "      <td>B</td>\n",
              "      <td>17</td>\n",
              "      <td>17</td>\n",
              "      <td>59758</td>\n",
              "      <td>713</td>\n",
              "    </tr>\n",
              "    <tr>\n",
              "      <th>2</th>\n",
              "      <td>2019-08-02</td>\n",
              "      <td>A</td>\n",
              "      <td>42</td>\n",
              "      <td>36</td>\n",
              "      <td>234381</td>\n",
              "      <td>1338</td>\n",
              "    </tr>\n",
              "    <tr>\n",
              "      <th>3</th>\n",
              "      <td>2019-08-02</td>\n",
              "      <td>B</td>\n",
              "      <td>40</td>\n",
              "      <td>39</td>\n",
              "      <td>221801</td>\n",
              "      <td>1294</td>\n",
              "    </tr>\n",
              "    <tr>\n",
              "      <th>4</th>\n",
              "      <td>2019-08-03</td>\n",
              "      <td>A</td>\n",
              "      <td>66</td>\n",
              "      <td>60</td>\n",
              "      <td>346854</td>\n",
              "      <td>1845</td>\n",
              "    </tr>\n",
              "  </tbody>\n",
              "</table>\n",
              "</div>"
            ],
            "text/plain": [
              "        date group  orders  buyers  revenue  visitors\n",
              "0 2019-08-01     A      23      19   142779       719\n",
              "1 2019-08-01     B      17      17    59758       713\n",
              "2 2019-08-02     A      42      36   234381      1338\n",
              "3 2019-08-02     B      40      39   221801      1294\n",
              "4 2019-08-03     A      66      60   346854      1845"
            ]
          },
          "metadata": {},
          "output_type": "display_data"
        }
      ],
      "source": [
        "# объединяем кумулятивные данные в одной таблице и присваиваем ее столбцам понятные названия\n",
        "cumulativeData = ordersAggregated.merge(visitorsAggregated, left_on=['date', 'group'], right_on=['date', 'group'])\n",
        "cumulativeData.columns = ['date', 'group', 'orders', 'buyers', 'revenue', 'visitors']\n",
        "\n",
        "display(cumulativeData.head(5))"
      ]
    },
    {
      "cell_type": "code",
      "execution_count": null,
      "metadata": {
        "id": "hsX3fKqGxBDZ",
        "outputId": "ee9e20cd-7765-4f9b-97fe-a21475581725"
      },
      "outputs": [
        {
          "data": {
            "image/png": "[encoded data removed]",
            "text/plain": [
              "<Figure size 1080x360 with 1 Axes>"
            ]
          },
          "metadata": {
            "needs_background": "light"
          },
          "output_type": "display_data"
        }
      ],
      "source": [
        "# датафрейм с кумулятивным количеством заказов и кумулятивной выручкой по дням в группе А\n",
        "cumulativeRevenueA = cumulativeData[cumulativeData['group']=='A'][['date','revenue', 'orders']]\n",
        "\n",
        "# датафрейм с кумулятивным количеством заказов и кумулятивной выручкой по дням в группе B\n",
        "cumulativeRevenueB = cumulativeData[cumulativeData['group']=='B'][['date','revenue', 'orders']]\n",
        "\n",
        "# Строим график выручки группы А\n",
        "plt.figure(figsize=(15,5))\n",
        "plt.plot(cumulativeRevenueA['date'], cumulativeRevenueA['revenue'], label='A')\n",
        "# Строим график выручки группы B\n",
        "plt.plot(cumulativeRevenueB['date'], cumulativeRevenueB['revenue'], label='B')\n",
        "\n",
        "plt.xlabel(\"Дата\",fontsize=12)\n",
        "plt.ylabel(\"Выручка\",fontsize=12)\n",
        "plt.title(r'График кумулятивной выручки по группам')\n",
        "plt.legend()\n",
        "plt.show()"
      ]
    },
    {
      "cell_type": "markdown",
      "metadata": {
        "id": "6Z1xK6FCxBDZ"
      },
      "source": [
        "Выявлено, что выручка группы В с 17 числа резко увеличилась относительно выручки группы А и далее этот \"разрыв\" сохраняется на протяжении рассматриваемого периода."
      ]
    },
    {
      "cell_type": "markdown",
      "metadata": {
        "id": "QVX-KNoWxBDa"
      },
      "source": [
        "#### Постройте график кумулятивного среднего чека по группам. Сделайте выводы и предположения."
      ]
    },
    {
      "cell_type": "code",
      "execution_count": null,
      "metadata": {
        "id": "0ywHqb-lxBDa",
        "outputId": "5b013da9-d523-49c7-e420-653b8603115f"
      },
      "outputs": [
        {
          "data": {
            "image/png": "[encoded data removed]",
            "text/plain": [
              "<Figure size 1080x360 with 1 Axes>"
            ]
          },
          "metadata": {
            "needs_background": "light"
          },
          "output_type": "display_data"
        }
      ],
      "source": [
        "plt.figure(figsize=(15,5))\n",
        "plt.plot(cumulativeRevenueA['date'], cumulativeRevenueA['revenue']/cumulativeRevenueA['orders'], label='A')\n",
        "plt.plot(cumulativeRevenueB['date'], cumulativeRevenueB['revenue']/cumulativeRevenueB['orders'], label='B')\n",
        "\n",
        "plt.xlabel(\"Дата\",fontsize=12)\n",
        "plt.ylabel(\"Выручка\",fontsize=12)\n",
        "plt.title(r'График кумулятивного среднего чека по группам')\n",
        "plt.legend()\n",
        "plt.show()"
      ]
    },
    {
      "cell_type": "markdown",
      "metadata": {
        "id": "igPtQR9FxBDa"
      },
      "source": [
        "Аналогичная ситуация со средним чеком. Однако при этом средний чек с начала рассматриваемого периода сильно колебался.  \n",
        "Вероятно при проведении выборки, в продукт для группы В было внедрено улучшение, которое обладало \"полезностью\" для потребителя.  С учетом данных о приоритизации гипотез, возможно была добавлена подписка на продукт, которая поспособствовала дальнейшим покупкам (допокупкам к основному продукту и т.д.).  \n",
        "Однако наиболее вероятно, такие подъемы обусловлены всплесками числа заказов, либо о появлении очень дорогих заказов в выборке."
      ]
    },
    {
      "cell_type": "markdown",
      "metadata": {
        "id": "fQY1l3mixBDa"
      },
      "source": [
        "#### Постройте график относительного изменения кумулятивного среднего чека группы B к группе A. Сделайте выводы и предположения."
      ]
    },
    {
      "cell_type": "code",
      "execution_count": null,
      "metadata": {
        "id": "J8cl2bGjxBDa",
        "outputId": "06cb85d2-1c7a-4987-effd-fe19994473b9"
      },
      "outputs": [
        {
          "data": {
            "image/png": "[encoded data removed]",
            "text/plain": [
              "<Figure size 1080x360 with 1 Axes>"
            ]
          },
          "metadata": {
            "needs_background": "light"
          },
          "output_type": "display_data"
        }
      ],
      "source": [
        "# собираем данные в одном датафрейме\n",
        "mergedCumulativeRevenue = cumulativeRevenueA.merge(cumulativeRevenueB, left_on='date', right_on='date', how='left', suffixes=['A', 'B'])\n",
        "\n",
        "# cтроим отношение средних чеков\n",
        "plt.figure(figsize=(15,5))\n",
        "plt.plot(mergedCumulativeRevenue['date'], (mergedCumulativeRevenue['revenueB']/mergedCumulativeRevenue['ordersB'])/(mergedCumulativeRevenue['revenueA']/mergedCumulativeRevenue['ordersA'])-1)\n",
        "\n",
        "# добавляем ось X\n",
        "plt.axhline(y=0, color='black', linestyle='--')\n",
        "\n",
        "plt.xlabel(\"Дата\",fontsize=12)\n",
        "plt.ylabel(\"Выручка\",fontsize=12)\n",
        "plt.title(r'График относительного изменения кумулятивного среднего чека группы B к группе A')\n",
        "\n",
        "plt.show()"
      ]
    },
    {
      "cell_type": "markdown",
      "metadata": {
        "id": "4UIDot8mxBDa"
      },
      "source": [
        "Группа B с начала рассматриваемого периода показала резкий скачок относительно показателя группы А, однако почти сразу же подъем сменился резким спадом, и далее снова резкий подъем. При этом далее показатель стабильно положительный (хотя тенденция к снижению небольшая есть). С учетом наличия подобных \"горок\", судить о том, что группа В \"лучше\" группы А нецелесообразно."
      ]
    },
    {
      "cell_type": "markdown",
      "metadata": {
        "id": "FheUNOtfxBDa"
      },
      "source": [
        "#### Постройте график кумулятивного среднего количества заказов на посетителя по группам. Сделайте выводы и предположения."
      ]
    },
    {
      "cell_type": "code",
      "execution_count": null,
      "metadata": {
        "id": "M_0eam2yxBDa",
        "outputId": "5c88b743-a9fc-44a2-c276-1e60da68e849"
      },
      "outputs": [
        {
          "data": {
            "image/png": "[encoded data removed]",
            "text/plain": [
              "<Figure size 1080x360 with 1 Axes>"
            ]
          },
          "metadata": {
            "needs_background": "light"
          },
          "output_type": "display_data"
        }
      ],
      "source": [
        "# считаем кумулятивную конверсию\n",
        "cumulativeData['conversion'] = cumulativeData['orders']/cumulativeData['visitors']\n",
        "\n",
        "# отделяем данные по группе A\n",
        "cumulativeDataA = cumulativeData[cumulativeData['group']=='A']\n",
        "\n",
        "# отделяем данные по группе B\n",
        "cumulativeDataB = cumulativeData[cumulativeData['group']=='B']\n",
        "\n",
        "# строим графики\n",
        "plt.figure(figsize=(15,5))\n",
        "plt.plot(cumulativeDataA['date'], cumulativeDataA['conversion'], label='A')\n",
        "plt.plot(cumulativeDataB['date'], cumulativeDataB['conversion'], label='B')\n",
        "\n",
        "# задаем масштаб осей\n",
        "plt.axis([datetime(2019, 8, 1).date(), datetime(2019, 8, 31).date(),0.025, 0.04])\n",
        "plt.xlabel(\"Дата\",fontsize=12)\n",
        "plt.ylabel(\"Кол-во заказов\",fontsize=12)\n",
        "plt.title(r'График кумулятивного среднего количества заказов на посетителя по группам')\n",
        "plt.legend()\n",
        "plt.show()"
      ]
    },
    {
      "cell_type": "markdown",
      "metadata": {
        "id": "5-CJXBKsxBDa"
      },
      "source": [
        "В начале периода графики групп находились на одном уровне, однако с 5 числа число заказов группы В увеличилось относительно группы А и держалось на одном уровне (т.е. разрыв по кол-ву заказов между 2 группами был стабилен и не изменялася)."
      ]
    },
    {
      "cell_type": "markdown",
      "metadata": {
        "id": "L6jFjjhQxBDb"
      },
      "source": [
        "####  Постройте график относительного изменения кумулятивного среднего количества заказов на посетителя группы B к группе A. Сделайте выводы и предположения."
      ]
    },
    {
      "cell_type": "code",
      "execution_count": null,
      "metadata": {
        "id": "tsR-Dh58xBDb",
        "outputId": "cbd2ed35-9d5b-4d6d-9da2-941dbddaf1a1"
      },
      "outputs": [
        {
          "data": {
            "image/png": "[encoded data removed]",
            "text/plain": [
              "<Figure size 1080x360 with 1 Axes>"
            ]
          },
          "metadata": {
            "needs_background": "light"
          },
          "output_type": "display_data"
        }
      ],
      "source": [
        "mergedCumulativeConversions = cumulativeDataA[['date','conversion']].merge(cumulativeDataB[['date','conversion']], left_on='date', right_on='date', how='left', suffixes=['A', 'B'])\n",
        "\n",
        "plt.figure(figsize=(15,5))\n",
        "plt.plot(mergedCumulativeConversions['date'], mergedCumulativeConversions['conversionB']/mergedCumulativeConversions['conversionA']-1, label=\"Относительный прирост конверсии группы B относительно группы A\")\n",
        "plt.legend()\n",
        "\n",
        "plt.axhline(y=0, color='black', linestyle='--')\n",
        "plt.axhline(y=-0.1, color='grey', linestyle='--')\n",
        "plt.axis([datetime(2019, 8, 1).date(), datetime(2019, 8, 31).date(), -0.2, 0.4])\n",
        "\n",
        "plt.xlabel(\"Дата\",fontsize=12)\n",
        "plt.ylabel(\"Кол-во заказов\",fontsize=12)\n",
        "plt.title(r'График относительного изменения кумулятивного среднего количества заказов на посетителя группы B к группе A')\n",
        "plt.legend()\n",
        "plt.show()"
      ]
    },
    {
      "cell_type": "markdown",
      "metadata": {
        "id": "lThgbYi5xBDb"
      },
      "source": [
        "График относительно стабилен. Возможно заказов в группе В действительно больше и наличие аномалий не при чем."
      ]
    },
    {
      "cell_type": "markdown",
      "metadata": {
        "id": "VgfisMxXxBDb"
      },
      "source": [
        "####  Постройте точечный график количества заказов по пользователям. Сделайте выводы и предположения."
      ]
    },
    {
      "cell_type": "code",
      "execution_count": null,
      "metadata": {
        "id": "W7-yun2axBDb",
        "outputId": "54ac0544-7b18-4d79-f04a-8427c3a80369"
      },
      "outputs": [
        {
          "data": {
            "image/png": "[encoded data removed]",
            "text/plain": [
              "<Figure size 1080x360 with 1 Axes>"
            ]
          },
          "metadata": {
            "needs_background": "light"
          },
          "output_type": "display_data"
        }
      ],
      "source": [
        "#подсчет кол-ва заказов по пользователям\n",
        "test=new_orders.groupby('visitorId', as_index=False).agg({'transactionId':'nunique'})\n",
        "\n",
        "x_values = pd.Series(range(0,len(test['transactionId'])))\n",
        "plt.figure(figsize=(15,5))\n",
        "plt.scatter(x_values, test['transactionId'])\n",
        "\n",
        "plt.xlabel(\"Дата\",fontsize=12)\n",
        "plt.ylabel(\"Кол-во заказов\",fontsize=12)\n",
        "plt.title(r'График количества заказов по пользователям')\n",
        "\n",
        "plt.show()"
      ]
    },
    {
      "cell_type": "markdown",
      "metadata": {
        "id": "t_xYTIY9xBDb"
      },
      "source": [
        "В среднем пользователи делали 1 заказ, реже от 2 до 5. Единичные случаи заказов более 8."
      ]
    },
    {
      "cell_type": "markdown",
      "metadata": {
        "id": "pEgwKWkCxBDb"
      },
      "source": [
        "####  Посчитайте 95-й и 99-й перцентили количества заказов на пользователя. Выберите границу для определения аномальных пользователей."
      ]
    },
    {
      "cell_type": "code",
      "execution_count": null,
      "metadata": {
        "id": "NULD8toIxBDb",
        "outputId": "87e7c69b-65f9-458e-be06-e6be5b5ef002"
      },
      "outputs": [
        {
          "name": "stdout",
          "output_type": "stream",
          "text": [
            "[1. 2.]\n"
          ]
        }
      ],
      "source": [
        "print(np.percentile(test['transactionId'], [95, 99]))"
      ]
    },
    {
      "cell_type": "markdown",
      "metadata": {
        "id": "8kkHK5-cxBDb"
      },
      "source": [
        "Не более 5% заказов больше 1 и не более 1% больше 2. Такие значения предлагается использовать для \"отсечения\" аномалий"
      ]
    },
    {
      "cell_type": "markdown",
      "metadata": {
        "id": "fk8M18A3xBDb"
      },
      "source": [
        "####  Постройте точечный график стоимостей заказов. Сделайте выводы и предположения."
      ]
    },
    {
      "cell_type": "code",
      "execution_count": null,
      "metadata": {
        "id": "ybdBYuicxBDc",
        "outputId": "23e73edd-f61e-4e1e-f3f5-8e938bf462f6"
      },
      "outputs": [
        {
          "data": {
            "image/png": "[encoded data removed]",
            "text/plain": [
              "<Figure size 1080x360 with 1 Axes>"
            ]
          },
          "metadata": {
            "needs_background": "light"
          },
          "output_type": "display_data"
        }
      ],
      "source": [
        "x_values = pd.Series(range(0,len(new_orders['revenue'])))\n",
        "plt.figure(figsize=(15,5))\n",
        "plt.scatter(x_values, new_orders['revenue'])\n",
        "\n",
        "plt.xlabel(\"Дата\",fontsize=12)\n",
        "plt.ylabel(\"Кол-во заказов\",fontsize=12)\n",
        "plt.title(r'График стоимостей заказов')\n",
        "plt.show()"
      ]
    },
    {
      "cell_type": "code",
      "execution_count": null,
      "metadata": {
        "id": "7TUoycdQxBDc",
        "outputId": "d10fb1d0-9e8f-4132-ad54-692f6d7ce685"
      },
      "outputs": [
        {
          "data": {
            "image/png": "[encoded data removed]",
            "text/plain": [
              "<Figure size 1080x360 with 1 Axes>"
            ]
          },
          "metadata": {
            "needs_background": "light"
          },
          "output_type": "display_data"
        }
      ],
      "source": [
        "plt.figure(figsize=(15,5))\n",
        "plt.scatter(x_values, new_orders['revenue'])\n",
        "\n",
        "plt.xlabel(\"Дата\",fontsize=12)\n",
        "plt.ylabel(\"Кол-во заказов\",fontsize=12)\n",
        "plt.title(r'График стоимостей заказов (ув.масштаб)')\n",
        "plt.axis([0, 1200, 0,100000])\n",
        "plt.show()"
      ]
    },
    {
      "cell_type": "markdown",
      "metadata": {
        "id": "KYe2g0KkxBDc"
      },
      "source": [
        "Очевидны 2 всплеска (предположительно аномалии) в стоимости заказов. При увеличенном графике, предполодительно обнаружены ещё несколько \"крупных\" заказов, которые также могут быть аномалиями. С учетом графиков выше, вероятно эти аномалии принадлежат группе В."
      ]
    },
    {
      "cell_type": "markdown",
      "metadata": {
        "id": "TmdSXXArxBDc"
      },
      "source": [
        "####  Посчитайте 95-й и 99-й перцентили стоимости заказов. Выберите границу для определения аномальных заказов."
      ]
    },
    {
      "cell_type": "code",
      "execution_count": null,
      "metadata": {
        "id": "vqrsgJ2TxBDc",
        "outputId": "b10b0ea1-46ab-408e-9376-04be897c6c91"
      },
      "outputs": [
        {
          "name": "stdout",
          "output_type": "stream",
          "text": [
            "[26785. 53904.]\n"
          ]
        }
      ],
      "source": [
        "print(np.percentile(new_orders['revenue'], [95, 99]))"
      ]
    },
    {
      "cell_type": "markdown",
      "metadata": {
        "id": "JTt1jNXIxBDc"
      },
      "source": [
        "Не более 5% заказов дороже 26785 руб. и не более 1% дороже 53904 руб. Предлагается эти данные далее использовать для \"отсечения\" границ выбросов"
      ]
    },
    {
      "cell_type": "markdown",
      "metadata": {
        "id": "ANr0x1R8xBDc"
      },
      "source": [
        "####  Посчитайте статистическую значимость различий в среднем количестве заказов на посетителя между группами по «сырым» данным. Сделайте выводы и предположения."
      ]
    },
    {
      "cell_type": "code",
      "execution_count": null,
      "metadata": {
        "id": "dynkUSGvxBDc",
        "outputId": "111cf3f0-83a2-4843-e8d5-8b430a2aeb1e"
      },
      "outputs": [
        {
          "name": "stdout",
          "output_type": "stream",
          "text": [
            "        date  ordersPerDateA  revenuePerDateA  ordersPerDateB  \\\n",
            "0 2019-08-01              23           142779              17   \n",
            "1 2019-08-02              19            91602              23   \n",
            "2 2019-08-03              24           112473              14   \n",
            "3 2019-08-04              11            41176              14   \n",
            "4 2019-08-05              22            86383              21   \n",
            "\n",
            "   revenuePerDateB  ordersCummulativeA  revenueCummulativeA  \\\n",
            "0            59758                  23               142779   \n",
            "1           162043                  42               234381   \n",
            "2            67049                  66               346854   \n",
            "3            96890                  77               388030   \n",
            "4            89908                  99               474413   \n",
            "\n",
            "   ordersCummulativeB  revenueCummulativeB  visitorsPerDateA  \\\n",
            "0                  17                59758               719   \n",
            "1                  40               221801               619   \n",
            "2                  54               288850               507   \n",
            "3                  68               385740               717   \n",
            "4                  89               475648               756   \n",
            "\n",
            "   visitorsPerDateB  visitorsCummulativeA  visitorsCummulativeB  \n",
            "0               713                   719                   713  \n",
            "1               581                  1338                  1294  \n",
            "2               509                  1845                  1803  \n",
            "3               770                  2562                  2573  \n",
            "4               707                  3318                  3280  \n"
          ]
        }
      ],
      "source": [
        "#подготовка данных\n",
        "visitorsADaily = visitors[visitors['group'] == 'A'][['date', 'visitors']]\n",
        "visitorsADaily.columns = ['date', 'visitorsPerDateA']\n",
        "\n",
        "visitorsACummulative = visitorsADaily.apply(\n",
        "    lambda x: visitorsADaily[visitorsADaily['date'] <= x['date']].agg(\n",
        "        {'date': 'max', 'visitorsPerDateA': 'sum'}\n",
        "    ),\n",
        "    axis=1,\n",
        ")\n",
        "visitorsACummulative.columns = ['date', 'visitorsCummulativeA']\n",
        "\n",
        "visitorsBDaily = visitors[visitors['group'] == 'B'][['date', 'visitors']]\n",
        "visitorsBDaily.columns = ['date', 'visitorsPerDateB']\n",
        "\n",
        "visitorsBCummulative = visitorsBDaily.apply(\n",
        "    lambda x: visitorsBDaily[visitorsBDaily['date'] <= x['date']].agg(\n",
        "        {'date': 'max', 'visitorsPerDateB': 'sum'}\n",
        "    ),\n",
        "    axis=1,\n",
        ")\n",
        "visitorsBCummulative.columns = ['date', 'visitorsCummulativeB']\n",
        "\n",
        "ordersADaily = (\n",
        "    new_orders[new_orders['group'] == 'A'][['date', 'transactionId', 'visitorId', 'revenue']]\n",
        "    .groupby('date', as_index=False)\n",
        "    .agg({'transactionId': pd.Series.nunique, 'revenue': 'sum'})\n",
        ")\n",
        "ordersADaily.columns = ['date', 'ordersPerDateA', 'revenuePerDateA']\n",
        "\n",
        "ordersACummulative = ordersADaily.apply(\n",
        "    lambda x: ordersADaily[ordersADaily['date'] <= x['date']].agg(\n",
        "        {'date': 'max', 'ordersPerDateA': 'sum', 'revenuePerDateA': 'sum'}\n",
        "    ),\n",
        "    axis=1,\n",
        ").sort_values(by=['date'])\n",
        "ordersACummulative.columns = [\n",
        "    'date',\n",
        "    'ordersCummulativeA',\n",
        "    'revenueCummulativeA',\n",
        "]\n",
        "\n",
        "ordersBDaily = (\n",
        "    new_orders[new_orders['group'] == 'B'][['date', 'transactionId', 'visitorId', 'revenue']]\n",
        "    .groupby('date', as_index=False)\n",
        "    .agg({'transactionId': pd.Series.nunique, 'revenue': 'sum'})\n",
        ")\n",
        "ordersBDaily.columns = ['date', 'ordersPerDateB', 'revenuePerDateB']\n",
        "\n",
        "ordersBCummulative = ordersBDaily.apply(\n",
        "    lambda x: ordersBDaily[ordersBDaily['date'] <= x['date']].agg(\n",
        "        {'date': 'max', 'ordersPerDateB': 'sum', 'revenuePerDateB': 'sum'}\n",
        "    ),\n",
        "    axis=1,\n",
        ").sort_values(by=['date'])\n",
        "ordersBCummulative.columns = [\n",
        "    'date',\n",
        "    'ordersCummulativeB',\n",
        "    'revenueCummulativeB',\n",
        "]\n",
        "\n",
        "data = (\n",
        "    ordersADaily.merge(\n",
        "        ordersBDaily, left_on='date', right_on='date', how='left'\n",
        "    )\n",
        "    .merge(ordersACummulative, left_on='date', right_on='date', how='left')\n",
        "    .merge(ordersBCummulative, left_on='date', right_on='date', how='left')\n",
        "    .merge(visitorsADaily, left_on='date', right_on='date', how='left')\n",
        "    .merge(visitorsBDaily, left_on='date', right_on='date', how='left')\n",
        "    .merge(visitorsACummulative, left_on='date', right_on='date', how='left')\n",
        "    .merge(visitorsBCummulative, left_on='date', right_on='date', how='left')\n",
        ")\n",
        "\n",
        "print(data.head(5))"
      ]
    },
    {
      "cell_type": "markdown",
      "metadata": {
        "id": "bcf1O8agxBDd"
      },
      "source": [
        "date — дата;  \n",
        "ordersPerDateA — количество заказов в выбранную дату в группе A;  \n",
        "revenuePerDateA — суммарная выручка в выбранную дату в группе A;  \n",
        "ordersPerDateB — количество заказов в выбранную дату в группе B;  \n",
        "revenuePerDateB — суммарная выручка в выбранную дату в группе B;  \n",
        "ordersCummulativeA — суммарное число заказов до выбранной даты включительно в группе A;  \n",
        "revenueCummulativeA — суммарная выручка до выбранной даты включительно в группе A;  \n",
        "ordersCummulativeB — суммарное количество заказов до выбранной даты включительно в группе B;  \n",
        "revenueCummulativeB — суммарная выручка до выбранной даты включительно в группе B;  \n",
        "visitorsPerDateA — количество пользователей в выбранную дату в группе A;  \n",
        "visitorsPerDateB — количество пользователей в выбранную дату в группе B;  \n",
        "visitorsCummulativeA — количество пользователей до выбранной даты включительно в группе A;  \n",
        "visitorsCummulativeB — количество пользователей до выбранной даты включительно в группе B.  "
      ]
    },
    {
      "cell_type": "markdown",
      "metadata": {
        "id": "gqXUxPTHxBDd"
      },
      "source": [
        "Создадим переменные ordersByUsersA и ordersByUsersB со столбцами ['userId', 'orders']. В них для пользователей, которые заказывали хотя бы 1 раз, укажем число совершённых заказов."
      ]
    },
    {
      "cell_type": "code",
      "execution_count": null,
      "metadata": {
        "id": "Pt54xbprxBDd"
      },
      "outputs": [],
      "source": [
        "temp_test_data=data"
      ]
    },
    {
      "cell_type": "code",
      "execution_count": null,
      "metadata": {
        "id": "FntZZlKKxBDd"
      },
      "outputs": [],
      "source": [
        "ordersByUsersA = (\n",
        "    new_orders[new_orders['group'] == 'A']\n",
        "    .groupby('visitorId', as_index=False)\n",
        "    .agg({'transactionId': pd.Series.nunique})\n",
        ")\n",
        "ordersByUsersA.columns = ['userId', 'orders']\n",
        "\n",
        "ordersByUsersB = (\n",
        "    new_orders[new_orders['group'] == 'B']\n",
        "    .groupby('visitorId', as_index=False)\n",
        "    .agg({'transactionId': pd.Series.nunique})\n",
        ")\n",
        "ordersByUsersB.columns = ['userId', 'orders']"
      ]
    },
    {
      "cell_type": "code",
      "execution_count": null,
      "metadata": {
        "id": "S7QEBi9dxBDd"
      },
      "outputs": [],
      "source": [
        "temp_ordersA=ordersByUsersA"
      ]
    },
    {
      "cell_type": "code",
      "execution_count": null,
      "metadata": {
        "id": "P7xB6JyXxBDd"
      },
      "outputs": [],
      "source": [
        "temp_ordersB=ordersByUsersB"
      ]
    },
    {
      "cell_type": "markdown",
      "metadata": {
        "id": "TuBdwhs5xBDd"
      },
      "source": [
        "Объявим переменные sampleA и sampleB, в которых пользователям из разных групп будет соответствовать количество заказов. Тем, кто ничего не заказал, будут соответствовать нули. Это нужно, чтобы подготовить выборки к проверке критерием Манна-Уитни."
      ]
    },
    {
      "cell_type": "code",
      "execution_count": null,
      "metadata": {
        "id": "Cj39ohvZxBDd"
      },
      "outputs": [],
      "source": [
        "#Список с количеством заказов для каждого из пользователей: ordersByUsersA['orders'].\n",
        "pd.Series(0, index=np.arange(data['visitorsPerDateA'].sum() - len(ordersByUsersA['orders'])), name='orders')\n",
        "\n",
        "#Нули для пользователей, которые ничего не заказывали. Их количество равно разнице между суммой посетителей и количеством записей о заказах:\n",
        "#data['visitorsPerDateA'].sum() - len(ordersByUsersA['orders'])\n",
        "[ordersByUsersA['orders'],pd.Series(0, index=np.arange(data['visitorsPerDateA'].sum() - len(ordersByUsersA['orders'])), name='orders')]\n",
        "\n",
        "\n",
        "sampleA = pd.concat([ordersByUsersA['orders'],pd.Series(0, index=np.arange(data['visitorsPerDateA'].sum() - len(ordersByUsersA['orders'])), name='orders')],axis=0)\n",
        "\n",
        "sampleB = pd.concat([ordersByUsersB['orders'],pd.Series(0, index=np.arange(data['visitorsPerDateB'].sum() - len(ordersByUsersB['orders'])), name='orders')],axis=0)"
      ]
    },
    {
      "cell_type": "markdown",
      "metadata": {
        "id": "FAwEwxKhxBDd"
      },
      "source": [
        "Выведем относительный прирост среднего числа заказов группы B: среднее число заказов группы B / среднее число заказов группы A - 1.  Округлим до трёх знаков после запятой."
      ]
    },
    {
      "cell_type": "code",
      "execution_count": null,
      "metadata": {
        "id": "YPZiJw3ixBDe",
        "outputId": "ff7e1728-706d-410d-9883-20c9f5730346"
      },
      "outputs": [
        {
          "name": "stdout",
          "output_type": "stream",
          "text": [
            "0.011\n",
            "0.160\n"
          ]
        }
      ],
      "source": [
        "#Применим критерий и отформатируем p-value, округлив его до трёх знаков после запятой.\n",
        "\n",
        "print(\"{0:.3f}\".format(st.mannwhitneyu(sampleA, sampleB)[1]))\n",
        "\n",
        "print(\"{0:.3f}\".format(sampleB.mean() / sampleA.mean() - 1))\n"
      ]
    },
    {
      "cell_type": "markdown",
      "metadata": {
        "id": "VNkrXyRSxBDe"
      },
      "source": [
        "Вывод: По «сырым» данным различия в среднем числе заказов групп A и B есть.\n",
        "Первое число — p-value = 0.011 т.е. меньше 0.05. Значит, нулевую гипотезу о том, что статистически значимых различий в среднем числе заказов между группами нет, отвергаем. Однако относительный выигрыш группы B равен 16% — второе число в выводе."
      ]
    },
    {
      "cell_type": "markdown",
      "metadata": {
        "id": "ttexb0fYxBDe"
      },
      "source": [
        "**Следовательно, статистически значимые различия между группами в среднем количестве заказов на посетителя между группами есть. Нулевую гипотезу отвергаем**"
      ]
    },
    {
      "cell_type": "markdown",
      "metadata": {
        "id": "IHXeL3uExBDe"
      },
      "source": [
        "####  Посчитайте статистическую значимость различий в среднем чеке заказа между группами по «сырым» данным. Сделайте выводы и предположения."
      ]
    },
    {
      "cell_type": "code",
      "execution_count": null,
      "metadata": {
        "id": "9MGn_VIAxBDe",
        "outputId": "4d7321d2-8e81-4bef-a662-e73efacaec54"
      },
      "outputs": [
        {
          "name": "stdout",
          "output_type": "stream",
          "text": [
            "0.829\n",
            "0.287\n"
          ]
        }
      ],
      "source": [
        "print('{0:.3f}'.format(st.mannwhitneyu(new_orders[new_orders['group']=='A']['revenue'], new_orders[new_orders['group']=='B']['revenue'])[1]))\n",
        "print('{0:.3f}'.format(new_orders[new_orders['group']=='B']['revenue'].mean()/new_orders[new_orders['group']=='A']['revenue'].mean()-1))"
      ]
    },
    {
      "cell_type": "markdown",
      "metadata": {
        "id": "h4QV_kG6xBDe"
      },
      "source": [
        "P-value значительно больше 0.05. Значит, причин отвергать нулевую гипотезу и считать, что в среднем чеке есть различия, нет. При этом, средний чек группы B значительно выше среднего чека группы A."
      ]
    },
    {
      "cell_type": "markdown",
      "metadata": {
        "id": "PZT9DBrvxBDe"
      },
      "source": [
        "**Следовательно, статистически значимых различий между группами в среднем чеке между группами нет. Нулевую гипотезу не отвергаем**"
      ]
    },
    {
      "cell_type": "markdown",
      "metadata": {
        "id": "SXFHe-dLxBDe"
      },
      "source": [
        "####  Посчитайте статистическую значимость различий в среднем количестве заказов на посетителя между группами по «очищенным» данным. Сделайте выводы и предположения."
      ]
    },
    {
      "cell_type": "markdown",
      "metadata": {
        "id": "pa_eGLlZxBDe"
      },
      "source": [
        "Найденные  95-й и 99-й перцентили средних чеков равны 26785 и 53904 рублям. А 95-й и 99-й перцентили количества заказов на одного пользователя равны 1 и 2 заказа на пользователя.\n",
        "Примем за аномальных пользователей тех, кто совершил от 1 (включая) заказов или совершил заказ дороже 26785 рублей. Так мы уберём 5% пользователей с наибольшим числом заказов и до 5% пользователей с дорогими заказами.\n",
        "\n",
        "Сделаем срезы пользователей с числом заказов больше 2 — usersWithManyOrders и пользователей, совершивших заказы дороже 26785 — usersWithExpensiveOrders. Объединим их в таблице abnormalUsers.\n",
        "Узнаем, сколько всего аномальных пользователей атрибутом shape"
      ]
    },
    {
      "cell_type": "code",
      "execution_count": null,
      "metadata": {
        "id": "JQfC8Xp6xBDe",
        "outputId": "90c27abb-0bc1-4c65-8b5c-6968855897d5"
      },
      "outputs": [
        {
          "name": "stdout",
          "output_type": "stream",
          "text": [
            "568     113298937\n",
            "1099    148427295\n",
            "928     204675465\n",
            "33      249864742\n",
            "684     358944393\n",
            "dtype: int64\n",
            "86\n"
          ]
        }
      ],
      "source": [
        "usersWithManyOrders = pd.concat(\n",
        "    [\n",
        "        ordersByUsersA[ordersByUsersA['orders'] > 1]['userId'],\n",
        "        ordersByUsersB[ordersByUsersB['orders'] > 1]['userId'],\n",
        "    ],\n",
        "    axis=0,\n",
        ")\n",
        "usersWithExpensiveOrders = new_orders[new_orders['revenue'] > 26785]['visitorId']\n",
        "abnormalUsers = (\n",
        "    pd.concat([usersWithManyOrders, usersWithExpensiveOrders], axis=0)\n",
        "    .drop_duplicates()\n",
        "    .sort_values()\n",
        ")\n",
        "print(abnormalUsers.head(5))\n",
        "print(abnormalUsers.shape[0])"
      ]
    },
    {
      "cell_type": "markdown",
      "metadata": {
        "id": "VZ3Mx4lExBDf"
      },
      "source": [
        "Узнаем, как их действия повлияли на результаты теста. Посчитаем статистическую значимость различий в среднем количестве заказов между группами теста по очищенным данным. Сначала подготовим выборки количества заказов по пользователям по группам теста:"
      ]
    },
    {
      "cell_type": "code",
      "execution_count": null,
      "metadata": {
        "id": "F0xQ7TAOxBDf"
      },
      "outputs": [],
      "source": [
        "sampleAFiltered = pd.concat(\n",
        "    [\n",
        "        ordersByUsersA[\n",
        "            np.logical_not(ordersByUsersA['userId'].isin(abnormalUsers))\n",
        "        ]['orders'],\n",
        "        pd.Series(\n",
        "            0,\n",
        "            index=np.arange(\n",
        "                data['visitorsPerDateA'].sum() - len(ordersByUsersA['orders'])\n",
        "            ),\n",
        "            name='orders',\n",
        "        ),\n",
        "    ],\n",
        "    axis=0,\n",
        ")\n",
        "\n",
        "sampleBFiltered = pd.concat(\n",
        "    [\n",
        "        ordersByUsersB[\n",
        "            np.logical_not(ordersByUsersB['userId'].isin(abnormalUsers))\n",
        "        ]['orders'],\n",
        "        pd.Series(\n",
        "            0,\n",
        "            index=np.arange(\n",
        "                data['visitorsPerDateB'].sum() - len(ordersByUsersB['orders'])\n",
        "            ),\n",
        "            name='orders',\n",
        "        ),\n",
        "    ],\n",
        "    axis=0,\n",
        ")"
      ]
    },
    {
      "cell_type": "code",
      "execution_count": null,
      "metadata": {
        "id": "4DdfY4tNxBDf",
        "outputId": "32e6f16a-1f22-44fb-e708-682487eb820a"
      },
      "outputs": [
        {
          "name": "stdout",
          "output_type": "stream",
          "text": [
            "0.016\n",
            "0.174\n"
          ]
        }
      ],
      "source": [
        "print('{0:.3f}'.format(st.mannwhitneyu(sampleAFiltered, sampleBFiltered)[1]))\n",
        "print('{0:.3f}'.format(sampleBFiltered.mean()/sampleAFiltered.mean()-1))"
      ]
    },
    {
      "cell_type": "markdown",
      "metadata": {
        "id": "d3tEuUi8xBDf"
      },
      "source": [
        "P-value практически не изменился (0.011 против 0.016), а относительный выигрыш группы В немного снизился (0.174 против 0.148)."
      ]
    },
    {
      "cell_type": "markdown",
      "metadata": {
        "id": "1pMGdAOOxBDf"
      },
      "source": [
        "**Следовательно, статистически значимые различия между группами в среднем количестве заказов на посетителя между группами есть. Нулевую гипотезу отвергаем**"
      ]
    },
    {
      "cell_type": "markdown",
      "metadata": {
        "id": "nwmSGf93xBDg"
      },
      "source": [
        "####  Посчитайте статистическую значимость различий в среднем чеке заказа между группами по «очищенным» данным. Сделайте выводы и предположения."
      ]
    },
    {
      "cell_type": "code",
      "execution_count": null,
      "metadata": {
        "id": "j-UWz1vLxBDg",
        "outputId": "d929dcb5-28ea-4bec-929b-9b13d8cb1681"
      },
      "outputs": [
        {
          "name": "stdout",
          "output_type": "stream",
          "text": [
            "0.727\n",
            "-0.034\n"
          ]
        }
      ],
      "source": [
        "print(\n",
        "    '{0:.3f}'.format(\n",
        "        st.mannwhitneyu(\n",
        "            new_orders[\n",
        "                np.logical_and(\n",
        "                    new_orders['group'] == 'A',\n",
        "                    np.logical_not(new_orders['visitorId'].isin(abnormalUsers)),\n",
        "                )\n",
        "            ]['revenue'],\n",
        "            new_orders[\n",
        "                np.logical_and(\n",
        "                    new_orders['group'] == 'B',\n",
        "                    np.logical_not(new_orders['visitorId'].isin(abnormalUsers)),\n",
        "                )\n",
        "            ]['revenue'],\n",
        "        )[1], alternative='two-sided'\n",
        "    )\n",
        ")\n",
        "\n",
        "print(\n",
        "    \"{0:.3f}\".format(\n",
        "        new_orders[\n",
        "            np.logical_and(\n",
        "                new_orders['group'] == 'B',\n",
        "                np.logical_not(new_orders['visitorId'].isin(abnormalUsers)),\n",
        "            )\n",
        "        ]['revenue'].mean()\n",
        "        / new_orders[\n",
        "            np.logical_and(\n",
        "                new_orders['group'] == 'A',\n",
        "                np.logical_not(new_orders['visitorId'].isin(abnormalUsers)),\n",
        "            )\n",
        "        ]['revenue'].mean()\n",
        "        - 1\n",
        "    )\n",
        ")"
      ]
    },
    {
      "cell_type": "markdown",
      "metadata": {
        "id": "iy-4YaHqxBDg"
      },
      "source": [
        "P-value увеличился, но разница между сегментами сократилась с 28,7% до -0.34%. Следовательно на результаты огромное значение повлияли выбросы в чеках (и группа В даже хуже чем группа А по средним чекам)"
      ]
    },
    {
      "cell_type": "markdown",
      "metadata": {
        "id": "kMhBFEzjxBDg"
      },
      "source": [
        "**Следовательно, статистически значимых различий между группами в среднем чеке между группами нет. Нулевую гипотезу не отвергаем**"
      ]
    },
    {
      "cell_type": "markdown",
      "metadata": {
        "id": "TMPCZKuIxBDg"
      },
      "source": [
        "####  Примите решение по результатам теста и объясните его. Варианты решений:\n",
        "1. Остановить тест, зафиксировать победу одной из групп.\n",
        "2. Остановить тест, зафиксировать отсутствие различий между группами.\n",
        "3. Продолжить тест."
      ]
    },
    {
      "cell_type": "markdown",
      "metadata": {
        "id": "xKGFwbtxxBDg"
      },
      "source": [
        "По «сырым» данным различия в среднем числе заказов групп A и B есть. Первое число — p-value = 0.011 меньше 0.05. Значит, нулевую гипотезу о том, что статистически значимых различий в среднем числе заказов между группами нет, отвергаем. Однако относительный выигрыш группы B равен 16% — второе число в выводе.\n",
        "По очищенным данным:P-value практически не изменился (0.012 против 0.011), а относительный выигрыш группы В немного снизился (0.153 против 0.182).  \n",
        "Т.е. группа В \"продается\" лучше, чем группа А на 18,2%.  \n",
        "**Таким образом, \"аномалии\" не повлияли на результат, и различия между группами есть.**\n",
        "\n",
        "В части касающихся \"сырых\" данных о среднем чеке:Причин отвергать нулевую гипотезу и считать, что в среднем чеке есть различия, нет. При этом, средний чек группы B значительно выше среднего чека группы A.\n",
        "При этом при анализе \"очищенных\" данных, P-value увеличился, но разница между сегментами сократилась с 28,7% до -2.1%. Следовательно на результаты огромное значение повлияли выбросы в чеках.  \n",
        "Т.е. группа А \"дороже\" чем группа В на 2,1%.  \n",
        "Следовательно, с учетом полученных результатов при анализе очищенных данных, предлагается.  **Остановить тест, зафиксировать победу группы В.**  \n",
        "Предполагается, что если средний чек на 1 покупателя в целом равен у 2 групп, но группа В покупает \"лучше\", то \"победила\" группа В."
      ]
    },
    {
      "cell_type": "markdown",
      "metadata": {
        "id": "mUQUClI1xBDh"
      },
      "source": [
        "Опционально, для проверки себя, выделила отдельно переменные копирующие необходимые данные для проверки итоговых выводов."
      ]
    },
    {
      "cell_type": "code",
      "execution_count": null,
      "metadata": {
        "id": "wpwnZRO_xBDh"
      },
      "outputs": [],
      "source": [
        "#Список с количеством заказов для каждого из пользователей: ordersByUsersA['orders'].\n",
        "pd.Series(0, index=np.arange(data['visitorsPerDateA'].sum() - len(temp_ordersA['orders'])), name='orders')\n",
        "\n",
        "#Нули для пользователей, которые ничего не заказывали. Их количество равно разнице между суммой посетителей и количеством записей о заказах:\n",
        "#data['visitorsPerDateA'].sum() - len(ordersByUsersA['orders'])\n",
        "[temp_ordersA['orders'],pd.Series(0, index=np.arange(data['visitorsPerDateA'].sum() - len(temp_ordersA['orders'])), name='orders')]\n",
        "\n",
        "\n",
        "tempsampleA = pd.concat([temp_ordersA['orders'],pd.Series(0, index=np.arange(data['visitorsPerDateA'].sum() - len(temp_ordersA['orders'])), name='orders')],axis=0)\n",
        "\n",
        "tempsampleB = pd.concat([temp_ordersB['orders'],pd.Series(0, index=np.arange(data['visitorsPerDateB'].sum() - len(temp_ordersB['orders'])), name='orders')],axis=0)\n",
        "\n",
        "\n"
      ]
    },
    {
      "cell_type": "code",
      "execution_count": null,
      "metadata": {
        "id": "tJL8tq0ZxBDh",
        "outputId": "aca0ac5b-2a57-40b4-dacf-cce75ed7bb66"
      },
      "outputs": [
        {
          "data": {
            "text/html": [
              "<div>\n",
              "<style scoped>\n",
              "    .dataframe tbody tr th:only-of-type {\n",
              "        vertical-align: middle;\n",
              "    }\n",
              "\n",
              "    .dataframe tbody tr th {\n",
              "        vertical-align: top;\n",
              "    }\n",
              "\n",
              "    .dataframe thead th {\n",
              "        text-align: right;\n",
              "    }\n",
              "</style>\n",
              "<table border=\"1\" class=\"dataframe\">\n",
              "  <thead>\n",
              "    <tr style=\"text-align: right;\">\n",
              "      <th></th>\n",
              "      <th>date</th>\n",
              "      <th>ordersPerDateA</th>\n",
              "      <th>revenuePerDateA</th>\n",
              "      <th>ordersPerDateB</th>\n",
              "      <th>revenuePerDateB</th>\n",
              "      <th>ordersCummulativeA</th>\n",
              "      <th>revenueCummulativeA</th>\n",
              "      <th>ordersCummulativeB</th>\n",
              "      <th>revenueCummulativeB</th>\n",
              "      <th>visitorsPerDateA</th>\n",
              "      <th>visitorsPerDateB</th>\n",
              "      <th>visitorsCummulativeA</th>\n",
              "      <th>visitorsCummulativeB</th>\n",
              "    </tr>\n",
              "  </thead>\n",
              "  <tbody>\n",
              "    <tr>\n",
              "      <th>0</th>\n",
              "      <td>2019-08-01</td>\n",
              "      <td>23</td>\n",
              "      <td>142779</td>\n",
              "      <td>17</td>\n",
              "      <td>59758</td>\n",
              "      <td>23</td>\n",
              "      <td>142779</td>\n",
              "      <td>17</td>\n",
              "      <td>59758</td>\n",
              "      <td>719</td>\n",
              "      <td>713</td>\n",
              "      <td>719</td>\n",
              "      <td>713</td>\n",
              "    </tr>\n",
              "    <tr>\n",
              "      <th>1</th>\n",
              "      <td>2019-08-02</td>\n",
              "      <td>19</td>\n",
              "      <td>91602</td>\n",
              "      <td>23</td>\n",
              "      <td>162043</td>\n",
              "      <td>42</td>\n",
              "      <td>234381</td>\n",
              "      <td>40</td>\n",
              "      <td>221801</td>\n",
              "      <td>619</td>\n",
              "      <td>581</td>\n",
              "      <td>1338</td>\n",
              "      <td>1294</td>\n",
              "    </tr>\n",
              "    <tr>\n",
              "      <th>2</th>\n",
              "      <td>2019-08-03</td>\n",
              "      <td>24</td>\n",
              "      <td>112473</td>\n",
              "      <td>14</td>\n",
              "      <td>67049</td>\n",
              "      <td>66</td>\n",
              "      <td>346854</td>\n",
              "      <td>54</td>\n",
              "      <td>288850</td>\n",
              "      <td>507</td>\n",
              "      <td>509</td>\n",
              "      <td>1845</td>\n",
              "      <td>1803</td>\n",
              "    </tr>\n",
              "    <tr>\n",
              "      <th>3</th>\n",
              "      <td>2019-08-04</td>\n",
              "      <td>11</td>\n",
              "      <td>41176</td>\n",
              "      <td>14</td>\n",
              "      <td>96890</td>\n",
              "      <td>77</td>\n",
              "      <td>388030</td>\n",
              "      <td>68</td>\n",
              "      <td>385740</td>\n",
              "      <td>717</td>\n",
              "      <td>770</td>\n",
              "      <td>2562</td>\n",
              "      <td>2573</td>\n",
              "    </tr>\n",
              "    <tr>\n",
              "      <th>4</th>\n",
              "      <td>2019-08-05</td>\n",
              "      <td>22</td>\n",
              "      <td>86383</td>\n",
              "      <td>21</td>\n",
              "      <td>89908</td>\n",
              "      <td>99</td>\n",
              "      <td>474413</td>\n",
              "      <td>89</td>\n",
              "      <td>475648</td>\n",
              "      <td>756</td>\n",
              "      <td>707</td>\n",
              "      <td>3318</td>\n",
              "      <td>3280</td>\n",
              "    </tr>\n",
              "  </tbody>\n",
              "</table>\n",
              "</div>"
            ],
            "text/plain": [
              "        date  ordersPerDateA  revenuePerDateA  ordersPerDateB  \\\n",
              "0 2019-08-01              23           142779              17   \n",
              "1 2019-08-02              19            91602              23   \n",
              "2 2019-08-03              24           112473              14   \n",
              "3 2019-08-04              11            41176              14   \n",
              "4 2019-08-05              22            86383              21   \n",
              "\n",
              "   revenuePerDateB  ordersCummulativeA  revenueCummulativeA  \\\n",
              "0            59758                  23               142779   \n",
              "1           162043                  42               234381   \n",
              "2            67049                  66               346854   \n",
              "3            96890                  77               388030   \n",
              "4            89908                  99               474413   \n",
              "\n",
              "   ordersCummulativeB  revenueCummulativeB  visitorsPerDateA  \\\n",
              "0                  17                59758               719   \n",
              "1                  40               221801               619   \n",
              "2                  54               288850               507   \n",
              "3                  68               385740               717   \n",
              "4                  89               475648               756   \n",
              "\n",
              "   visitorsPerDateB  visitorsCummulativeA  visitorsCummulativeB  \n",
              "0               713                   719                   713  \n",
              "1               581                  1338                  1294  \n",
              "2               509                  1845                  1803  \n",
              "3               770                  2562                  2573  \n",
              "4               707                  3318                  3280  "
            ]
          },
          "execution_count": 44,
          "metadata": {},
          "output_type": "execute_result"
        }
      ],
      "source": [
        "temp_test_data.head()"
      ]
    },
    {
      "cell_type": "code",
      "execution_count": null,
      "metadata": {
        "id": "BwSoUn6XxBDh",
        "outputId": "132270fa-604b-48a9-c7da-4dd9117c8ba0"
      },
      "outputs": [
        {
          "data": {
            "image/png": "[encoded data removed]",
            "text/plain": [
              "<Figure size 1080x360 with 1 Axes>"
            ]
          },
          "metadata": {
            "needs_background": "light"
          },
          "output_type": "display_data"
        }
      ],
      "source": [
        "# строим графики\n",
        "plt.figure(figsize=(15,5))\n",
        "plt.plot(temp_test_data['date'], temp_test_data['ordersCummulativeA'], label='A')\n",
        "plt.plot(temp_test_data['date'], temp_test_data['ordersCummulativeB'], label='B')\n",
        "\n",
        "# задаем масштаб осей\n",
        "#plt.axis([datetime(2019, 8, 1).date(), datetime(2019, 8, 31).date()],0.025, 0.04)\n",
        "plt.xlabel(\"Дата\",fontsize=12)\n",
        "plt.ylabel(\"Кол-во заказов\",fontsize=12)\n",
        "plt.title(r'График кумулятивного среднего количества заказов на посетителя по группам')\n",
        "plt.legend()\n",
        "plt.show()"
      ]
    },
    {
      "cell_type": "code",
      "execution_count": null,
      "metadata": {
        "id": "cUJkuh_sxBDh",
        "outputId": "5cbec571-f840-4be0-ec1e-f311094bd9d3"
      },
      "outputs": [
        {
          "data": {
            "image/png": "[encoded data removed]",
            "text/plain": [
              "<Figure size 1080x360 with 1 Axes>"
            ]
          },
          "metadata": {
            "needs_background": "light"
          },
          "output_type": "display_data"
        }
      ],
      "source": [
        "# строим графики\n",
        "plt.figure(figsize=(15,5))\n",
        "plt.plot(temp_test_data['date'], temp_test_data['revenueCummulativeA'], label='A')\n",
        "plt.plot(temp_test_data['date'], temp_test_data['revenueCummulativeB'], label='B')\n",
        "\n",
        "# задаем масштаб осей\n",
        "#plt.axis([datetime(2019, 8, 1).date(), datetime(2019, 8, 31).date()],0.025, 0.04)\n",
        "plt.xlabel(\"Дата\",fontsize=12)\n",
        "plt.ylabel(\"Кол-во заказов\",fontsize=12)\n",
        "plt.title(r'График кумулятивной выручки на посетителя по группам')\n",
        "plt.legend()\n",
        "plt.show()"
      ]
    },
    {
      "cell_type": "markdown",
      "metadata": {
        "id": "DuI7Fzq7xBDh"
      },
      "source": [
        "**Вывод:**  \n",
        "Средняя выручка у группы В лучше при условии улучшенного показателя среднего кол-ва заказов на посетителя.  \n",
        "Выводы верны."
      ]
    }
  ],
  "metadata": {
    "ExecuteTimeLog": [
      {
        "duration": 83,
        "start_time": "2023-11-07T07:10:04.227Z"
      },
      {
        "duration": 1582,
        "start_time": "2023-11-07T07:10:20.101Z"
      },
      {
        "duration": 188,
        "start_time": "2023-11-07T07:10:21.685Z"
      },
      {
        "duration": 6,
        "start_time": "2023-11-07T07:14:08.498Z"
      },
      {
        "duration": 53,
        "start_time": "2023-11-07T07:14:25.442Z"
      },
      {
        "duration": 1419,
        "start_time": "2023-11-07T07:17:22.035Z"
      },
      {
        "duration": 53,
        "start_time": "2023-11-11T16:12:42.047Z"
      },
      {
        "duration": 1408,
        "start_time": "2023-11-11T16:12:48.032Z"
      },
      {
        "duration": 196,
        "start_time": "2023-11-11T16:12:49.442Z"
      },
      {
        "duration": 5,
        "start_time": "2023-11-11T16:12:49.639Z"
      },
      {
        "duration": 53,
        "start_time": "2023-11-11T16:12:49.645Z"
      },
      {
        "duration": 3,
        "start_time": "2023-11-11T16:12:49.700Z"
      },
      {
        "duration": 13,
        "start_time": "2023-11-11T16:12:49.704Z"
      },
      {
        "duration": 63,
        "start_time": "2023-11-11T16:45:52.822Z"
      },
      {
        "duration": 1194,
        "start_time": "2023-11-11T16:46:02.881Z"
      },
      {
        "duration": 80,
        "start_time": "2023-11-11T16:46:04.077Z"
      },
      {
        "duration": 4,
        "start_time": "2023-11-11T16:46:04.159Z"
      },
      {
        "duration": 49,
        "start_time": "2023-11-11T16:46:04.164Z"
      },
      {
        "duration": 2,
        "start_time": "2023-11-11T16:46:04.215Z"
      },
      {
        "duration": 11,
        "start_time": "2023-11-11T16:46:04.218Z"
      },
      {
        "duration": 37,
        "start_time": "2023-11-11T16:46:04.230Z"
      },
      {
        "duration": 9,
        "start_time": "2023-11-11T16:58:01.748Z"
      },
      {
        "duration": 10,
        "start_time": "2023-11-11T16:58:15.314Z"
      },
      {
        "duration": 52,
        "start_time": "2023-11-11T17:25:22.638Z"
      },
      {
        "duration": 39,
        "start_time": "2023-11-11T17:26:27.217Z"
      },
      {
        "duration": 6,
        "start_time": "2023-11-11T19:09:22.800Z"
      },
      {
        "duration": 12,
        "start_time": "2023-11-11T19:10:28.227Z"
      },
      {
        "duration": 121,
        "start_time": "2023-11-11T19:10:39.408Z"
      },
      {
        "duration": 9,
        "start_time": "2023-11-11T19:10:44.192Z"
      },
      {
        "duration": 24,
        "start_time": "2023-11-11T19:12:27.831Z"
      },
      {
        "duration": 15,
        "start_time": "2023-11-11T19:13:23.575Z"
      },
      {
        "duration": 181,
        "start_time": "2023-11-11T19:14:39.917Z"
      },
      {
        "duration": 40,
        "start_time": "2023-11-11T19:16:15.465Z"
      },
      {
        "duration": 9,
        "start_time": "2023-11-11T19:17:45.517Z"
      },
      {
        "duration": 124,
        "start_time": "2023-11-11T19:17:59.882Z"
      },
      {
        "duration": 17,
        "start_time": "2023-11-11T19:18:55.042Z"
      },
      {
        "duration": 3,
        "start_time": "2023-11-11T19:19:47.080Z"
      },
      {
        "duration": 279,
        "start_time": "2023-11-11T19:20:02.609Z"
      },
      {
        "duration": 185,
        "start_time": "2023-11-11T19:21:04.354Z"
      },
      {
        "duration": 171,
        "start_time": "2023-11-11T19:21:09.861Z"
      },
      {
        "duration": 243,
        "start_time": "2023-11-11T19:21:55.083Z"
      },
      {
        "duration": 152,
        "start_time": "2023-11-11T19:22:14.639Z"
      },
      {
        "duration": 149,
        "start_time": "2023-11-11T19:22:17.667Z"
      },
      {
        "duration": 141,
        "start_time": "2023-11-11T19:22:20.919Z"
      },
      {
        "duration": 240,
        "start_time": "2023-11-11T19:22:59.427Z"
      },
      {
        "duration": 167,
        "start_time": "2023-11-11T19:24:10.915Z"
      },
      {
        "duration": 174,
        "start_time": "2023-11-11T19:24:14.791Z"
      },
      {
        "duration": 231,
        "start_time": "2023-11-11T19:31:35.925Z"
      },
      {
        "duration": 213,
        "start_time": "2023-11-11T19:31:40.457Z"
      },
      {
        "duration": 191,
        "start_time": "2023-11-11T19:31:48.650Z"
      },
      {
        "duration": 180,
        "start_time": "2023-11-11T19:31:55.235Z"
      },
      {
        "duration": 194,
        "start_time": "2023-11-11T19:33:13.751Z"
      },
      {
        "duration": 223,
        "start_time": "2023-11-11T19:34:10.462Z"
      },
      {
        "duration": 1399,
        "start_time": "2023-11-12T12:08:36.736Z"
      },
      {
        "duration": 200,
        "start_time": "2023-11-12T12:08:38.137Z"
      },
      {
        "duration": 5,
        "start_time": "2023-11-12T12:08:38.339Z"
      },
      {
        "duration": 57,
        "start_time": "2023-11-12T12:08:38.347Z"
      },
      {
        "duration": 2,
        "start_time": "2023-11-12T12:08:38.406Z"
      },
      {
        "duration": 25,
        "start_time": "2023-11-12T12:08:38.410Z"
      },
      {
        "duration": 15,
        "start_time": "2023-11-12T12:08:38.436Z"
      },
      {
        "duration": 23,
        "start_time": "2023-11-12T12:08:38.452Z"
      },
      {
        "duration": 49,
        "start_time": "2023-11-12T12:08:38.477Z"
      },
      {
        "duration": 78,
        "start_time": "2023-11-12T12:08:38.528Z"
      },
      {
        "duration": 12,
        "start_time": "2023-11-12T12:08:38.608Z"
      },
      {
        "duration": 17,
        "start_time": "2023-11-12T12:08:38.622Z"
      },
      {
        "duration": 239,
        "start_time": "2023-11-12T12:08:38.641Z"
      },
      {
        "duration": 132,
        "start_time": "2023-11-12T12:08:38.882Z"
      },
      {
        "duration": 12,
        "start_time": "2023-11-12T12:08:39.015Z"
      },
      {
        "duration": 317,
        "start_time": "2023-11-12T12:08:39.028Z"
      },
      {
        "duration": 219,
        "start_time": "2023-11-12T12:10:37.069Z"
      },
      {
        "duration": 241,
        "start_time": "2023-11-12T12:10:55.400Z"
      },
      {
        "duration": 363,
        "start_time": "2023-11-12T12:12:35.543Z"
      },
      {
        "duration": 356,
        "start_time": "2023-11-12T12:16:54.531Z"
      },
      {
        "duration": 221,
        "start_time": "2023-11-12T12:36:20.134Z"
      },
      {
        "duration": 5,
        "start_time": "2023-11-12T12:36:45.311Z"
      },
      {
        "duration": 1267,
        "start_time": "2023-11-12T12:36:50.971Z"
      },
      {
        "duration": 79,
        "start_time": "2023-11-12T12:36:52.241Z"
      },
      {
        "duration": 5,
        "start_time": "2023-11-12T12:36:52.322Z"
      },
      {
        "duration": 64,
        "start_time": "2023-11-12T12:36:52.329Z"
      },
      {
        "duration": 3,
        "start_time": "2023-11-12T12:36:52.395Z"
      },
      {
        "duration": 21,
        "start_time": "2023-11-12T12:36:52.399Z"
      },
      {
        "duration": 12,
        "start_time": "2023-11-12T12:36:52.422Z"
      },
      {
        "duration": 61,
        "start_time": "2023-11-12T12:36:52.436Z"
      },
      {
        "duration": 50,
        "start_time": "2023-11-12T12:36:52.499Z"
      },
      {
        "duration": 38,
        "start_time": "2023-11-12T12:36:52.551Z"
      },
      {
        "duration": 9,
        "start_time": "2023-11-12T12:36:52.590Z"
      },
      {
        "duration": 10,
        "start_time": "2023-11-12T12:36:52.600Z"
      },
      {
        "duration": 227,
        "start_time": "2023-11-12T12:36:52.611Z"
      },
      {
        "duration": 121,
        "start_time": "2023-11-12T12:36:52.841Z"
      },
      {
        "duration": 23,
        "start_time": "2023-11-12T12:36:52.963Z"
      },
      {
        "duration": 297,
        "start_time": "2023-11-12T12:36:52.987Z"
      },
      {
        "duration": 204,
        "start_time": "2023-11-12T12:36:53.286Z"
      },
      {
        "duration": 277,
        "start_time": "2023-11-12T12:36:53.491Z"
      },
      {
        "duration": 192,
        "start_time": "2023-11-12T12:36:53.772Z"
      },
      {
        "duration": 204,
        "start_time": "2023-11-12T12:37:06.354Z"
      },
      {
        "duration": 306,
        "start_time": "2023-11-12T12:37:59.500Z"
      },
      {
        "duration": 189,
        "start_time": "2023-11-12T12:38:32.715Z"
      },
      {
        "duration": 299,
        "start_time": "2023-11-12T12:38:39.524Z"
      },
      {
        "duration": 224,
        "start_time": "2023-11-12T12:39:19.454Z"
      },
      {
        "duration": 216,
        "start_time": "2023-11-12T12:39:33.365Z"
      },
      {
        "duration": 192,
        "start_time": "2023-11-12T12:39:38.257Z"
      },
      {
        "duration": 214,
        "start_time": "2023-11-12T12:39:43.038Z"
      },
      {
        "duration": 187,
        "start_time": "2023-11-12T12:40:17.880Z"
      },
      {
        "duration": 205,
        "start_time": "2023-11-12T12:40:25.389Z"
      },
      {
        "duration": 217,
        "start_time": "2023-11-12T12:40:29.987Z"
      },
      {
        "duration": 193,
        "start_time": "2023-11-12T12:40:34.196Z"
      },
      {
        "duration": 204,
        "start_time": "2023-11-12T12:44:59.684Z"
      },
      {
        "duration": 253,
        "start_time": "2023-11-12T12:45:05.762Z"
      },
      {
        "duration": 200,
        "start_time": "2023-11-12T12:45:09.029Z"
      },
      {
        "duration": 205,
        "start_time": "2023-11-12T12:45:11.351Z"
      },
      {
        "duration": 305,
        "start_time": "2023-11-12T12:45:13.148Z"
      },
      {
        "duration": 189,
        "start_time": "2023-11-12T12:45:16.795Z"
      },
      {
        "duration": 203,
        "start_time": "2023-11-12T12:45:19.788Z"
      },
      {
        "duration": 223,
        "start_time": "2023-11-12T12:45:21.865Z"
      },
      {
        "duration": 186,
        "start_time": "2023-11-12T12:45:24.741Z"
      },
      {
        "duration": 224,
        "start_time": "2023-11-12T12:45:27.863Z"
      },
      {
        "duration": 196,
        "start_time": "2023-11-12T12:45:32.267Z"
      },
      {
        "duration": 190,
        "start_time": "2023-11-12T12:45:34.383Z"
      },
      {
        "duration": 201,
        "start_time": "2023-11-12T12:45:37.154Z"
      },
      {
        "duration": 214,
        "start_time": "2023-11-12T12:45:40.668Z"
      },
      {
        "duration": 224,
        "start_time": "2023-11-12T12:45:45.508Z"
      },
      {
        "duration": 209,
        "start_time": "2023-11-12T12:45:48.397Z"
      },
      {
        "duration": 240,
        "start_time": "2023-11-12T12:45:50.755Z"
      },
      {
        "duration": 293,
        "start_time": "2023-11-12T12:45:56.492Z"
      },
      {
        "duration": 210,
        "start_time": "2023-11-12T12:46:01.342Z"
      },
      {
        "duration": 214,
        "start_time": "2023-11-12T12:46:04.921Z"
      },
      {
        "duration": 198,
        "start_time": "2023-11-12T12:46:07.436Z"
      },
      {
        "duration": 205,
        "start_time": "2023-11-12T12:46:13.144Z"
      },
      {
        "duration": 181,
        "start_time": "2023-11-12T12:46:24.484Z"
      },
      {
        "duration": 220,
        "start_time": "2023-11-12T12:47:13.588Z"
      },
      {
        "duration": 224,
        "start_time": "2023-11-12T12:47:33.062Z"
      },
      {
        "duration": 196,
        "start_time": "2023-11-12T12:47:37.186Z"
      },
      {
        "duration": 199,
        "start_time": "2023-11-12T12:47:41.060Z"
      },
      {
        "duration": 328,
        "start_time": "2023-11-12T12:48:43.443Z"
      },
      {
        "duration": 315,
        "start_time": "2023-11-12T12:48:58.486Z"
      },
      {
        "duration": 312,
        "start_time": "2023-11-12T12:49:16.915Z"
      },
      {
        "duration": 13,
        "start_time": "2023-11-12T12:54:10.254Z"
      },
      {
        "duration": 10,
        "start_time": "2023-11-12T12:54:33.947Z"
      },
      {
        "duration": 13,
        "start_time": "2023-11-12T12:57:51.308Z"
      },
      {
        "duration": 261,
        "start_time": "2023-11-12T12:58:19.037Z"
      },
      {
        "duration": 155,
        "start_time": "2023-11-12T12:59:55.884Z"
      },
      {
        "duration": 4,
        "start_time": "2023-11-12T13:00:22.874Z"
      },
      {
        "duration": 135,
        "start_time": "2023-11-12T13:00:29.597Z"
      },
      {
        "duration": 20,
        "start_time": "2023-11-12T13:01:36.171Z"
      },
      {
        "duration": 17,
        "start_time": "2023-11-12T13:02:45.126Z"
      },
      {
        "duration": 9,
        "start_time": "2023-11-12T13:02:54.604Z"
      },
      {
        "duration": 9,
        "start_time": "2023-11-12T13:05:13.918Z"
      },
      {
        "duration": 120,
        "start_time": "2023-11-12T13:05:36.099Z"
      },
      {
        "duration": 125,
        "start_time": "2023-11-12T13:06:40.580Z"
      },
      {
        "duration": 144,
        "start_time": "2023-11-12T13:07:00.789Z"
      },
      {
        "duration": 4,
        "start_time": "2023-11-12T13:08:00.143Z"
      },
      {
        "duration": 1488,
        "start_time": "2023-11-12T13:09:11.629Z"
      },
      {
        "duration": 1290,
        "start_time": "2023-11-12T13:09:25.427Z"
      },
      {
        "duration": 79,
        "start_time": "2023-11-12T13:09:26.719Z"
      },
      {
        "duration": 8,
        "start_time": "2023-11-12T13:09:26.800Z"
      },
      {
        "duration": 70,
        "start_time": "2023-11-12T13:09:26.810Z"
      },
      {
        "duration": 3,
        "start_time": "2023-11-12T13:09:26.883Z"
      },
      {
        "duration": 21,
        "start_time": "2023-11-12T13:09:26.888Z"
      },
      {
        "duration": 16,
        "start_time": "2023-11-12T13:09:26.911Z"
      },
      {
        "duration": 9,
        "start_time": "2023-11-12T13:09:26.929Z"
      },
      {
        "duration": 74,
        "start_time": "2023-11-12T13:09:26.939Z"
      },
      {
        "duration": 53,
        "start_time": "2023-11-12T13:09:27.015Z"
      },
      {
        "duration": 14,
        "start_time": "2023-11-12T13:09:27.072Z"
      },
      {
        "duration": 11,
        "start_time": "2023-11-12T13:09:27.087Z"
      },
      {
        "duration": 219,
        "start_time": "2023-11-12T13:09:27.099Z"
      },
      {
        "duration": 129,
        "start_time": "2023-11-12T13:09:27.321Z"
      },
      {
        "duration": 25,
        "start_time": "2023-11-12T13:09:27.452Z"
      },
      {
        "duration": 314,
        "start_time": "2023-11-12T13:09:27.478Z"
      },
      {
        "duration": 202,
        "start_time": "2023-11-12T13:09:27.794Z"
      },
      {
        "duration": 299,
        "start_time": "2023-11-12T13:09:27.997Z"
      },
      {
        "duration": 207,
        "start_time": "2023-11-12T13:09:28.298Z"
      },
      {
        "duration": 291,
        "start_time": "2023-11-12T13:09:28.507Z"
      },
      {
        "duration": 141,
        "start_time": "2023-11-12T13:09:28.799Z"
      },
      {
        "duration": 1593,
        "start_time": "2023-11-12T13:09:28.942Z"
      },
      {
        "duration": 5,
        "start_time": "2023-11-12T13:10:17.644Z"
      },
      {
        "duration": 11,
        "start_time": "2023-11-12T13:16:42.197Z"
      },
      {
        "duration": 142,
        "start_time": "2023-11-12T13:17:02.819Z"
      },
      {
        "duration": 223,
        "start_time": "2023-11-12T13:17:16.672Z"
      },
      {
        "duration": 5,
        "start_time": "2023-11-12T13:19:13.699Z"
      },
      {
        "duration": 120,
        "start_time": "2023-11-12T14:46:51.954Z"
      },
      {
        "duration": 20,
        "start_time": "2023-11-12T14:48:19.256Z"
      },
      {
        "duration": 117,
        "start_time": "2023-11-12T14:49:59.047Z"
      },
      {
        "duration": 271,
        "start_time": "2023-11-12T14:50:26.958Z"
      },
      {
        "duration": 14,
        "start_time": "2023-11-12T14:52:13.446Z"
      },
      {
        "duration": 143,
        "start_time": "2023-11-12T14:53:10.714Z"
      },
      {
        "duration": 12,
        "start_time": "2023-11-12T14:54:48.574Z"
      },
      {
        "duration": 7,
        "start_time": "2023-11-12T14:55:02.922Z"
      },
      {
        "duration": 15,
        "start_time": "2023-11-12T14:59:25.256Z"
      },
      {
        "duration": 38,
        "start_time": "2023-11-12T14:59:39.559Z"
      },
      {
        "duration": 10,
        "start_time": "2023-11-12T15:11:20.725Z"
      },
      {
        "duration": 9,
        "start_time": "2023-11-12T15:11:27.211Z"
      },
      {
        "duration": 12,
        "start_time": "2023-11-12T16:59:45.195Z"
      },
      {
        "duration": 10,
        "start_time": "2023-11-12T16:59:52.581Z"
      },
      {
        "duration": 17,
        "start_time": "2023-11-12T17:00:05.678Z"
      },
      {
        "duration": 10,
        "start_time": "2023-11-12T17:03:46.543Z"
      },
      {
        "duration": 12,
        "start_time": "2023-11-12T17:04:34.443Z"
      },
      {
        "duration": 1198,
        "start_time": "2023-11-12T17:04:51.228Z"
      },
      {
        "duration": 80,
        "start_time": "2023-11-12T17:04:52.427Z"
      },
      {
        "duration": 4,
        "start_time": "2023-11-12T17:04:52.509Z"
      },
      {
        "duration": 55,
        "start_time": "2023-11-12T17:04:52.515Z"
      },
      {
        "duration": 3,
        "start_time": "2023-11-12T17:04:52.572Z"
      },
      {
        "duration": 28,
        "start_time": "2023-11-12T17:04:52.578Z"
      },
      {
        "duration": 36,
        "start_time": "2023-11-12T17:04:52.607Z"
      },
      {
        "duration": 32,
        "start_time": "2023-11-12T17:04:52.645Z"
      },
      {
        "duration": 140,
        "start_time": "2023-11-12T17:04:52.681Z"
      },
      {
        "duration": 0,
        "start_time": "2023-11-12T17:04:52.824Z"
      },
      {
        "duration": 0,
        "start_time": "2023-11-12T17:04:52.825Z"
      },
      {
        "duration": 0,
        "start_time": "2023-11-12T17:04:52.826Z"
      },
      {
        "duration": 0,
        "start_time": "2023-11-12T17:04:52.827Z"
      },
      {
        "duration": 0,
        "start_time": "2023-11-12T17:04:52.828Z"
      },
      {
        "duration": 0,
        "start_time": "2023-11-12T17:04:52.829Z"
      },
      {
        "duration": 0,
        "start_time": "2023-11-12T17:04:52.830Z"
      },
      {
        "duration": 0,
        "start_time": "2023-11-12T17:04:52.831Z"
      },
      {
        "duration": 0,
        "start_time": "2023-11-12T17:04:52.832Z"
      },
      {
        "duration": 0,
        "start_time": "2023-11-12T17:04:52.833Z"
      },
      {
        "duration": 0,
        "start_time": "2023-11-12T17:04:52.834Z"
      },
      {
        "duration": 0,
        "start_time": "2023-11-12T17:04:52.835Z"
      },
      {
        "duration": 0,
        "start_time": "2023-11-12T17:04:52.836Z"
      },
      {
        "duration": 0,
        "start_time": "2023-11-12T17:04:52.837Z"
      },
      {
        "duration": 0,
        "start_time": "2023-11-12T17:04:52.838Z"
      },
      {
        "duration": 0,
        "start_time": "2023-11-12T17:04:52.839Z"
      },
      {
        "duration": 0,
        "start_time": "2023-11-12T17:04:52.840Z"
      },
      {
        "duration": 0,
        "start_time": "2023-11-12T17:04:52.865Z"
      },
      {
        "duration": 0,
        "start_time": "2023-11-12T17:04:52.866Z"
      },
      {
        "duration": 0,
        "start_time": "2023-11-12T17:04:52.867Z"
      },
      {
        "duration": 0,
        "start_time": "2023-11-12T17:04:52.869Z"
      },
      {
        "duration": 0,
        "start_time": "2023-11-12T17:04:52.870Z"
      },
      {
        "duration": 0,
        "start_time": "2023-11-12T17:04:52.870Z"
      },
      {
        "duration": 0,
        "start_time": "2023-11-12T17:04:52.871Z"
      },
      {
        "duration": 0,
        "start_time": "2023-11-12T17:04:52.873Z"
      },
      {
        "duration": 0,
        "start_time": "2023-11-12T17:04:52.874Z"
      },
      {
        "duration": 0,
        "start_time": "2023-11-12T17:04:52.875Z"
      },
      {
        "duration": 0,
        "start_time": "2023-11-12T17:04:52.875Z"
      },
      {
        "duration": 0,
        "start_time": "2023-11-12T17:04:52.880Z"
      },
      {
        "duration": 0,
        "start_time": "2023-11-12T17:04:52.882Z"
      },
      {
        "duration": 12,
        "start_time": "2023-11-12T17:05:21.934Z"
      },
      {
        "duration": 13,
        "start_time": "2023-11-12T17:05:33.585Z"
      },
      {
        "duration": 11,
        "start_time": "2023-11-12T17:06:30.152Z"
      },
      {
        "duration": 10,
        "start_time": "2023-11-12T17:06:40.322Z"
      },
      {
        "duration": 5,
        "start_time": "2023-11-12T17:08:56.772Z"
      },
      {
        "duration": 1303,
        "start_time": "2023-11-12T17:20:49.826Z"
      },
      {
        "duration": 78,
        "start_time": "2023-11-12T17:20:51.131Z"
      },
      {
        "duration": 4,
        "start_time": "2023-11-12T17:20:51.211Z"
      },
      {
        "duration": 46,
        "start_time": "2023-11-12T17:20:51.218Z"
      },
      {
        "duration": 4,
        "start_time": "2023-11-12T17:20:51.267Z"
      },
      {
        "duration": 17,
        "start_time": "2023-11-12T17:20:51.275Z"
      },
      {
        "duration": 10,
        "start_time": "2023-11-12T17:20:51.294Z"
      },
      {
        "duration": 35,
        "start_time": "2023-11-12T17:20:51.306Z"
      },
      {
        "duration": 55,
        "start_time": "2023-11-12T17:20:51.342Z"
      },
      {
        "duration": 4,
        "start_time": "2023-11-12T17:20:51.400Z"
      },
      {
        "duration": 76,
        "start_time": "2023-11-12T17:20:51.405Z"
      },
      {
        "duration": 35,
        "start_time": "2023-11-12T17:20:51.484Z"
      },
      {
        "duration": 8,
        "start_time": "2023-11-12T17:20:51.521Z"
      },
      {
        "duration": 47,
        "start_time": "2023-11-12T17:20:51.531Z"
      },
      {
        "duration": 223,
        "start_time": "2023-11-12T17:20:51.582Z"
      },
      {
        "duration": 126,
        "start_time": "2023-11-12T17:20:51.806Z"
      },
      {
        "duration": 11,
        "start_time": "2023-11-12T17:20:51.933Z"
      },
      {
        "duration": 332,
        "start_time": "2023-11-12T17:20:51.946Z"
      },
      {
        "duration": 223,
        "start_time": "2023-11-12T17:20:52.281Z"
      },
      {
        "duration": 293,
        "start_time": "2023-11-12T17:20:52.505Z"
      },
      {
        "duration": 227,
        "start_time": "2023-11-12T17:20:52.799Z"
      },
      {
        "duration": 296,
        "start_time": "2023-11-12T17:20:53.027Z"
      },
      {
        "duration": 120,
        "start_time": "2023-11-12T17:20:53.325Z"
      },
      {
        "duration": 0,
        "start_time": "2023-11-12T17:20:53.447Z"
      },
      {
        "duration": 0,
        "start_time": "2023-11-12T17:20:53.448Z"
      },
      {
        "duration": 0,
        "start_time": "2023-11-12T17:20:53.449Z"
      },
      {
        "duration": 0,
        "start_time": "2023-11-12T17:20:53.450Z"
      },
      {
        "duration": 0,
        "start_time": "2023-11-12T17:20:53.451Z"
      },
      {
        "duration": 0,
        "start_time": "2023-11-12T17:20:53.452Z"
      },
      {
        "duration": 0,
        "start_time": "2023-11-12T17:20:53.453Z"
      },
      {
        "duration": 0,
        "start_time": "2023-11-12T17:20:53.454Z"
      },
      {
        "duration": 0,
        "start_time": "2023-11-12T17:20:53.455Z"
      },
      {
        "duration": 0,
        "start_time": "2023-11-12T17:20:53.456Z"
      },
      {
        "duration": 0,
        "start_time": "2023-11-12T17:20:53.465Z"
      },
      {
        "duration": 0,
        "start_time": "2023-11-12T17:20:53.466Z"
      },
      {
        "duration": 0,
        "start_time": "2023-11-12T17:20:53.467Z"
      },
      {
        "duration": 0,
        "start_time": "2023-11-12T17:20:53.468Z"
      },
      {
        "duration": 0,
        "start_time": "2023-11-12T17:20:53.471Z"
      },
      {
        "duration": 8,
        "start_time": "2023-11-12T17:22:30.556Z"
      },
      {
        "duration": 266,
        "start_time": "2023-11-12T17:25:25.915Z"
      },
      {
        "duration": 397,
        "start_time": "2023-11-12T17:26:37.258Z"
      },
      {
        "duration": 233,
        "start_time": "2023-11-12T17:27:08.874Z"
      },
      {
        "duration": 244,
        "start_time": "2023-11-12T17:27:16.266Z"
      },
      {
        "duration": 246,
        "start_time": "2023-11-12T17:32:47.564Z"
      },
      {
        "duration": 338,
        "start_time": "2023-11-12T17:40:43.271Z"
      },
      {
        "duration": 300,
        "start_time": "2023-11-12T17:41:24.221Z"
      },
      {
        "duration": 331,
        "start_time": "2023-11-12T17:41:47.586Z"
      },
      {
        "duration": 441,
        "start_time": "2023-11-12T17:51:35.359Z"
      },
      {
        "duration": 220,
        "start_time": "2023-11-12T17:53:27.906Z"
      },
      {
        "duration": 440,
        "start_time": "2023-11-12T18:05:27.774Z"
      },
      {
        "duration": 243,
        "start_time": "2023-11-12T18:08:25.586Z"
      },
      {
        "duration": 176,
        "start_time": "2023-11-12T18:08:48.644Z"
      },
      {
        "duration": 161,
        "start_time": "2023-11-12T18:08:54.922Z"
      },
      {
        "duration": 167,
        "start_time": "2023-11-12T18:09:13.052Z"
      },
      {
        "duration": 5,
        "start_time": "2023-11-12T18:12:00.887Z"
      },
      {
        "duration": 160,
        "start_time": "2023-11-12T18:13:07.363Z"
      },
      {
        "duration": 206,
        "start_time": "2023-11-12T18:13:57.297Z"
      },
      {
        "duration": 218,
        "start_time": "2023-11-12T18:14:02.597Z"
      },
      {
        "duration": 189,
        "start_time": "2023-11-12T18:17:30.120Z"
      },
      {
        "duration": 181,
        "start_time": "2023-11-12T18:18:05.573Z"
      },
      {
        "duration": 171,
        "start_time": "2023-11-12T18:18:21.410Z"
      },
      {
        "duration": 178,
        "start_time": "2023-11-12T18:18:27.939Z"
      },
      {
        "duration": 166,
        "start_time": "2023-11-12T18:18:32.698Z"
      },
      {
        "duration": 168,
        "start_time": "2023-11-12T18:18:42.928Z"
      },
      {
        "duration": 178,
        "start_time": "2023-11-12T18:18:48.815Z"
      },
      {
        "duration": 287,
        "start_time": "2023-11-12T18:18:58.523Z"
      },
      {
        "duration": 161,
        "start_time": "2023-11-12T18:19:16.401Z"
      },
      {
        "duration": 11,
        "start_time": "2023-11-12T18:21:28.167Z"
      },
      {
        "duration": 235,
        "start_time": "2023-11-12T18:25:56.108Z"
      },
      {
        "duration": 219,
        "start_time": "2023-11-12T18:29:31.697Z"
      },
      {
        "duration": 9,
        "start_time": "2023-11-12T18:29:31.918Z"
      },
      {
        "duration": 44,
        "start_time": "2023-11-12T18:29:31.929Z"
      },
      {
        "duration": 149,
        "start_time": "2023-11-12T18:29:48.936Z"
      },
      {
        "duration": 22,
        "start_time": "2023-11-12T18:29:50.673Z"
      },
      {
        "duration": 14,
        "start_time": "2023-11-12T18:31:01.397Z"
      },
      {
        "duration": 1316,
        "start_time": "2023-11-12T18:41:29.740Z"
      },
      {
        "duration": 13,
        "start_time": "2023-11-12T18:41:44.445Z"
      },
      {
        "duration": 127011,
        "start_time": "2023-11-12T18:42:06.729Z"
      },
      {
        "duration": 53,
        "start_time": "2023-11-12T18:52:58.988Z"
      },
      {
        "duration": 1500,
        "start_time": "2023-11-12T18:53:11.224Z"
      },
      {
        "duration": 202,
        "start_time": "2023-11-12T18:53:12.726Z"
      },
      {
        "duration": 4,
        "start_time": "2023-11-12T18:53:12.930Z"
      },
      {
        "duration": 84,
        "start_time": "2023-11-12T18:53:12.937Z"
      },
      {
        "duration": 4,
        "start_time": "2023-11-12T18:53:13.023Z"
      },
      {
        "duration": 15,
        "start_time": "2023-11-12T18:53:13.029Z"
      },
      {
        "duration": 44,
        "start_time": "2023-11-12T18:53:13.046Z"
      },
      {
        "duration": 11,
        "start_time": "2023-11-12T18:53:13.092Z"
      },
      {
        "duration": 15,
        "start_time": "2023-11-12T18:53:13.105Z"
      },
      {
        "duration": 4,
        "start_time": "2023-11-12T18:53:13.122Z"
      },
      {
        "duration": 68,
        "start_time": "2023-11-12T18:53:13.128Z"
      },
      {
        "duration": 32,
        "start_time": "2023-11-12T18:53:13.198Z"
      },
      {
        "duration": 14,
        "start_time": "2023-11-12T18:53:13.270Z"
      },
      {
        "duration": 16,
        "start_time": "2023-11-12T18:53:13.286Z"
      },
      {
        "duration": 200,
        "start_time": "2023-11-12T18:53:13.304Z"
      },
      {
        "duration": 149,
        "start_time": "2023-11-12T18:53:13.505Z"
      },
      {
        "duration": 17,
        "start_time": "2023-11-12T18:53:13.669Z"
      },
      {
        "duration": 346,
        "start_time": "2023-11-12T18:53:13.688Z"
      },
      {
        "duration": 233,
        "start_time": "2023-11-12T18:53:14.036Z"
      },
      {
        "duration": 364,
        "start_time": "2023-11-12T18:53:14.284Z"
      },
      {
        "duration": 271,
        "start_time": "2023-11-12T18:53:14.649Z"
      },
      {
        "duration": 326,
        "start_time": "2023-11-12T18:53:14.922Z"
      },
      {
        "duration": 178,
        "start_time": "2023-11-12T18:53:15.249Z"
      },
      {
        "duration": 4,
        "start_time": "2023-11-12T18:53:15.429Z"
      },
      {
        "duration": 198,
        "start_time": "2023-11-12T18:53:15.434Z"
      },
      {
        "duration": 287,
        "start_time": "2023-11-12T18:53:15.634Z"
      },
      {
        "duration": 4,
        "start_time": "2023-11-12T18:53:15.923Z"
      },
      {
        "duration": 268,
        "start_time": "2023-11-12T18:53:15.932Z"
      },
      {
        "duration": 168,
        "start_time": "2023-11-12T18:53:16.201Z"
      },
      {
        "duration": 13,
        "start_time": "2023-11-12T18:53:16.370Z"
      },
      {
        "duration": 42,
        "start_time": "2023-11-12T18:53:16.385Z"
      },
      {
        "duration": 11,
        "start_time": "2023-11-12T18:53:16.428Z"
      },
      {
        "duration": 13,
        "start_time": "2023-11-12T18:53:16.440Z"
      },
      {
        "duration": 1343,
        "start_time": "2023-11-12T18:53:16.454Z"
      },
      {
        "duration": 0,
        "start_time": "2023-11-12T18:53:17.799Z"
      },
      {
        "duration": 0,
        "start_time": "2023-11-12T18:53:17.800Z"
      },
      {
        "duration": 0,
        "start_time": "2023-11-12T18:53:17.801Z"
      },
      {
        "duration": 18,
        "start_time": "2023-11-12T18:53:44.662Z"
      },
      {
        "duration": 8,
        "start_time": "2023-11-12T18:57:23.945Z"
      },
      {
        "duration": 1345,
        "start_time": "2023-11-12T19:06:22.957Z"
      },
      {
        "duration": 83,
        "start_time": "2023-11-12T19:06:24.304Z"
      },
      {
        "duration": 5,
        "start_time": "2023-11-12T19:06:24.388Z"
      },
      {
        "duration": 47,
        "start_time": "2023-11-12T19:06:24.394Z"
      },
      {
        "duration": 2,
        "start_time": "2023-11-12T19:06:24.444Z"
      },
      {
        "duration": 35,
        "start_time": "2023-11-12T19:06:24.447Z"
      },
      {
        "duration": 10,
        "start_time": "2023-11-12T19:06:24.483Z"
      },
      {
        "duration": 19,
        "start_time": "2023-11-12T19:06:24.495Z"
      },
      {
        "duration": 18,
        "start_time": "2023-11-12T19:06:24.515Z"
      },
      {
        "duration": 4,
        "start_time": "2023-11-12T19:06:24.535Z"
      },
      {
        "duration": 67,
        "start_time": "2023-11-12T19:06:24.541Z"
      },
      {
        "duration": 63,
        "start_time": "2023-11-12T19:06:24.609Z"
      },
      {
        "duration": 18,
        "start_time": "2023-11-12T19:06:24.674Z"
      },
      {
        "duration": 10,
        "start_time": "2023-11-12T19:06:24.697Z"
      },
      {
        "duration": 228,
        "start_time": "2023-11-12T19:06:24.708Z"
      },
      {
        "duration": 123,
        "start_time": "2023-11-12T19:06:24.937Z"
      },
      {
        "duration": 24,
        "start_time": "2023-11-12T19:06:25.061Z"
      },
      {
        "duration": 298,
        "start_time": "2023-11-12T19:06:25.087Z"
      },
      {
        "duration": 226,
        "start_time": "2023-11-12T19:06:25.387Z"
      },
      {
        "duration": 352,
        "start_time": "2023-11-12T19:06:25.616Z"
      },
      {
        "duration": 247,
        "start_time": "2023-11-12T19:06:25.970Z"
      },
      {
        "duration": 319,
        "start_time": "2023-11-12T19:06:26.219Z"
      },
      {
        "duration": 181,
        "start_time": "2023-11-12T19:06:26.539Z"
      },
      {
        "duration": 5,
        "start_time": "2023-11-12T19:06:26.723Z"
      },
      {
        "duration": 187,
        "start_time": "2023-11-12T19:06:26.729Z"
      },
      {
        "duration": 237,
        "start_time": "2023-11-12T19:06:26.918Z"
      },
      {
        "duration": 4,
        "start_time": "2023-11-12T19:06:27.157Z"
      },
      {
        "duration": 230,
        "start_time": "2023-11-12T19:06:27.166Z"
      },
      {
        "duration": 140,
        "start_time": "2023-11-12T19:06:27.397Z"
      },
      {
        "duration": 8,
        "start_time": "2023-11-12T19:06:27.538Z"
      },
      {
        "duration": 44,
        "start_time": "2023-11-12T19:06:27.547Z"
      },
      {
        "duration": 10,
        "start_time": "2023-11-12T19:06:27.592Z"
      },
      {
        "duration": 11,
        "start_time": "2023-11-12T19:06:27.603Z"
      },
      {
        "duration": 1368,
        "start_time": "2023-11-12T19:06:27.616Z"
      },
      {
        "duration": 0,
        "start_time": "2023-11-12T19:06:28.986Z"
      },
      {
        "duration": 0,
        "start_time": "2023-11-12T19:06:28.987Z"
      },
      {
        "duration": 0,
        "start_time": "2023-11-12T19:06:28.988Z"
      },
      {
        "duration": 0,
        "start_time": "2023-11-12T19:06:28.989Z"
      },
      {
        "duration": 8,
        "start_time": "2023-11-12T19:06:38.436Z"
      },
      {
        "duration": 1293,
        "start_time": "2023-11-12T19:32:08.536Z"
      },
      {
        "duration": 81,
        "start_time": "2023-11-12T19:32:09.832Z"
      },
      {
        "duration": 4,
        "start_time": "2023-11-12T19:32:09.915Z"
      },
      {
        "duration": 60,
        "start_time": "2023-11-12T19:32:09.921Z"
      },
      {
        "duration": 4,
        "start_time": "2023-11-12T19:32:09.983Z"
      },
      {
        "duration": 16,
        "start_time": "2023-11-12T19:32:09.989Z"
      },
      {
        "duration": 54,
        "start_time": "2023-11-12T19:32:10.006Z"
      },
      {
        "duration": 36,
        "start_time": "2023-11-12T19:32:10.062Z"
      },
      {
        "duration": 33,
        "start_time": "2023-11-12T19:32:10.099Z"
      },
      {
        "duration": 35,
        "start_time": "2023-11-12T19:32:10.135Z"
      },
      {
        "duration": 65,
        "start_time": "2023-11-12T19:32:10.172Z"
      },
      {
        "duration": 64,
        "start_time": "2023-11-12T19:32:10.238Z"
      },
      {
        "duration": 9,
        "start_time": "2023-11-12T19:32:10.303Z"
      },
      {
        "duration": 10,
        "start_time": "2023-11-12T19:32:10.314Z"
      },
      {
        "duration": 236,
        "start_time": "2023-11-12T19:32:10.325Z"
      },
      {
        "duration": 150,
        "start_time": "2023-11-12T19:32:10.564Z"
      },
      {
        "duration": 12,
        "start_time": "2023-11-12T19:32:10.716Z"
      },
      {
        "duration": 377,
        "start_time": "2023-11-12T19:32:10.729Z"
      },
      {
        "duration": 234,
        "start_time": "2023-11-12T19:32:11.108Z"
      },
      {
        "duration": 383,
        "start_time": "2023-11-12T19:32:11.344Z"
      },
      {
        "duration": 254,
        "start_time": "2023-11-12T19:32:11.730Z"
      },
      {
        "duration": 333,
        "start_time": "2023-11-12T19:32:11.987Z"
      },
      {
        "duration": 171,
        "start_time": "2023-11-12T19:32:12.321Z"
      },
      {
        "duration": 5,
        "start_time": "2023-11-12T19:32:12.494Z"
      },
      {
        "duration": 195,
        "start_time": "2023-11-12T19:32:12.500Z"
      },
      {
        "duration": 248,
        "start_time": "2023-11-12T19:32:12.697Z"
      },
      {
        "duration": 4,
        "start_time": "2023-11-12T19:32:12.947Z"
      },
      {
        "duration": 243,
        "start_time": "2023-11-12T19:32:12.954Z"
      },
      {
        "duration": 155,
        "start_time": "2023-11-12T19:32:13.199Z"
      },
      {
        "duration": 21,
        "start_time": "2023-11-12T19:32:13.356Z"
      },
      {
        "duration": 29,
        "start_time": "2023-11-12T19:32:13.379Z"
      },
      {
        "duration": 10,
        "start_time": "2023-11-12T19:32:13.410Z"
      },
      {
        "duration": 11,
        "start_time": "2023-11-12T19:32:13.422Z"
      },
      {
        "duration": 1207,
        "start_time": "2023-11-12T19:32:13.435Z"
      },
      {
        "duration": 0,
        "start_time": "2023-11-12T19:32:14.644Z"
      },
      {
        "duration": 0,
        "start_time": "2023-11-12T19:32:14.646Z"
      },
      {
        "duration": 0,
        "start_time": "2023-11-12T19:32:14.647Z"
      },
      {
        "duration": 4,
        "start_time": "2023-11-12T19:33:19.739Z"
      },
      {
        "duration": 13,
        "start_time": "2023-11-12T19:34:12.579Z"
      },
      {
        "duration": 1164,
        "start_time": "2023-11-12T19:34:17.860Z"
      },
      {
        "duration": 8,
        "start_time": "2023-11-12T19:34:38.210Z"
      },
      {
        "duration": 8,
        "start_time": "2023-11-12T19:34:43.048Z"
      },
      {
        "duration": 15,
        "start_time": "2023-11-12T19:34:55.040Z"
      },
      {
        "duration": 8,
        "start_time": "2023-11-12T19:34:59.315Z"
      },
      {
        "duration": 9,
        "start_time": "2023-11-12T19:35:10.300Z"
      },
      {
        "duration": 7,
        "start_time": "2023-11-12T19:35:25.040Z"
      },
      {
        "duration": 22,
        "start_time": "2023-11-12T19:35:27.568Z"
      },
      {
        "duration": 38,
        "start_time": "2023-11-12T19:35:32.762Z"
      },
      {
        "duration": 10,
        "start_time": "2023-11-12T19:38:39.449Z"
      },
      {
        "duration": 1173,
        "start_time": "2023-11-12T19:38:57.006Z"
      },
      {
        "duration": 20,
        "start_time": "2023-11-12T19:39:35.871Z"
      },
      {
        "duration": 174,
        "start_time": "2023-11-12T20:08:07.170Z"
      },
      {
        "duration": 176,
        "start_time": "2023-11-12T20:09:05.712Z"
      },
      {
        "duration": 166,
        "start_time": "2023-11-12T20:09:11.540Z"
      },
      {
        "duration": 8,
        "start_time": "2023-11-12T20:10:03.019Z"
      },
      {
        "duration": 7,
        "start_time": "2023-11-12T20:10:07.686Z"
      },
      {
        "duration": 24,
        "start_time": "2023-11-12T20:10:13.427Z"
      },
      {
        "duration": 14,
        "start_time": "2023-11-12T20:10:49.582Z"
      },
      {
        "duration": 1411,
        "start_time": "2023-11-13T07:31:05.003Z"
      },
      {
        "duration": 194,
        "start_time": "2023-11-13T07:31:06.416Z"
      },
      {
        "duration": 4,
        "start_time": "2023-11-13T07:31:06.612Z"
      },
      {
        "duration": 57,
        "start_time": "2023-11-13T07:31:06.618Z"
      },
      {
        "duration": 3,
        "start_time": "2023-11-13T07:31:06.677Z"
      },
      {
        "duration": 20,
        "start_time": "2023-11-13T07:31:06.681Z"
      },
      {
        "duration": 14,
        "start_time": "2023-11-13T07:31:06.703Z"
      },
      {
        "duration": 10,
        "start_time": "2023-11-13T07:31:06.718Z"
      },
      {
        "duration": 14,
        "start_time": "2023-11-13T07:31:06.729Z"
      },
      {
        "duration": 21,
        "start_time": "2023-11-13T07:31:06.745Z"
      },
      {
        "duration": 40,
        "start_time": "2023-11-13T07:31:06.768Z"
      },
      {
        "duration": 68,
        "start_time": "2023-11-13T07:31:06.809Z"
      },
      {
        "duration": 9,
        "start_time": "2023-11-13T07:31:06.879Z"
      },
      {
        "duration": 11,
        "start_time": "2023-11-13T07:31:06.889Z"
      },
      {
        "duration": 203,
        "start_time": "2023-11-13T07:31:06.902Z"
      },
      {
        "duration": 121,
        "start_time": "2023-11-13T07:31:07.107Z"
      },
      {
        "duration": 11,
        "start_time": "2023-11-13T07:31:07.229Z"
      },
      {
        "duration": 314,
        "start_time": "2023-11-13T07:31:07.241Z"
      },
      {
        "duration": 209,
        "start_time": "2023-11-13T07:31:07.556Z"
      },
      {
        "duration": 359,
        "start_time": "2023-11-13T07:31:07.767Z"
      },
      {
        "duration": 228,
        "start_time": "2023-11-13T07:31:08.127Z"
      },
      {
        "duration": 351,
        "start_time": "2023-11-13T07:31:08.357Z"
      },
      {
        "duration": 147,
        "start_time": "2023-11-13T07:31:08.709Z"
      },
      {
        "duration": 10,
        "start_time": "2023-11-13T07:31:08.857Z"
      },
      {
        "duration": 157,
        "start_time": "2023-11-13T07:31:08.869Z"
      },
      {
        "duration": 227,
        "start_time": "2023-11-13T07:31:09.028Z"
      },
      {
        "duration": 11,
        "start_time": "2023-11-13T07:31:09.256Z"
      },
      {
        "duration": 220,
        "start_time": "2023-11-13T07:31:09.271Z"
      },
      {
        "duration": 148,
        "start_time": "2023-11-13T07:31:09.492Z"
      },
      {
        "duration": 7,
        "start_time": "2023-11-13T07:31:09.641Z"
      },
      {
        "duration": 50,
        "start_time": "2023-11-13T07:31:09.649Z"
      },
      {
        "duration": 9,
        "start_time": "2023-11-13T07:31:09.701Z"
      },
      {
        "duration": 19,
        "start_time": "2023-11-13T07:31:09.712Z"
      },
      {
        "duration": 9,
        "start_time": "2023-11-13T07:31:09.733Z"
      },
      {
        "duration": 26,
        "start_time": "2023-11-13T07:31:09.743Z"
      },
      {
        "duration": 12,
        "start_time": "2023-11-13T07:31:09.771Z"
      },
      {
        "duration": 52,
        "start_time": "2023-11-21T11:55:55.915Z"
      },
      {
        "duration": 1402,
        "start_time": "2023-11-21T11:56:03.178Z"
      },
      {
        "duration": 188,
        "start_time": "2023-11-21T11:56:04.582Z"
      },
      {
        "duration": 5,
        "start_time": "2023-11-21T11:56:04.772Z"
      },
      {
        "duration": 56,
        "start_time": "2023-11-21T11:56:04.779Z"
      },
      {
        "duration": 3,
        "start_time": "2023-11-21T11:56:04.837Z"
      },
      {
        "duration": 22,
        "start_time": "2023-11-21T11:56:04.841Z"
      },
      {
        "duration": 11,
        "start_time": "2023-11-21T11:56:04.865Z"
      },
      {
        "duration": 13,
        "start_time": "2023-11-21T11:56:04.878Z"
      },
      {
        "duration": 13,
        "start_time": "2023-11-21T11:56:04.892Z"
      },
      {
        "duration": 4,
        "start_time": "2023-11-21T11:56:04.907Z"
      },
      {
        "duration": 80,
        "start_time": "2023-11-21T11:56:04.912Z"
      },
      {
        "duration": 65,
        "start_time": "2023-11-21T11:56:04.994Z"
      },
      {
        "duration": 10,
        "start_time": "2023-11-21T11:56:05.061Z"
      },
      {
        "duration": 11,
        "start_time": "2023-11-21T11:56:05.073Z"
      },
      {
        "duration": 207,
        "start_time": "2023-11-21T11:56:05.086Z"
      },
      {
        "duration": 134,
        "start_time": "2023-11-21T11:56:05.295Z"
      },
      {
        "duration": 29,
        "start_time": "2023-11-21T11:56:05.430Z"
      },
      {
        "duration": 307,
        "start_time": "2023-11-21T11:56:05.461Z"
      },
      {
        "duration": 219,
        "start_time": "2023-11-21T11:56:05.770Z"
      },
      {
        "duration": 330,
        "start_time": "2023-11-21T11:56:05.991Z"
      },
      {
        "duration": 216,
        "start_time": "2023-11-21T11:56:06.322Z"
      },
      {
        "duration": 364,
        "start_time": "2023-11-21T11:56:06.540Z"
      },
      {
        "duration": 163,
        "start_time": "2023-11-21T11:56:06.906Z"
      },
      {
        "duration": 5,
        "start_time": "2023-11-21T11:56:07.071Z"
      },
      {
        "duration": 185,
        "start_time": "2023-11-21T11:56:07.078Z"
      },
      {
        "duration": 258,
        "start_time": "2023-11-21T11:56:07.265Z"
      },
      {
        "duration": 4,
        "start_time": "2023-11-21T11:56:07.524Z"
      },
      {
        "duration": 217,
        "start_time": "2023-11-21T11:56:07.531Z"
      },
      {
        "duration": 165,
        "start_time": "2023-11-21T11:56:07.750Z"
      },
      {
        "duration": 46,
        "start_time": "2023-11-21T11:56:07.917Z"
      },
      {
        "duration": 34,
        "start_time": "2023-11-21T11:56:07.964Z"
      },
      {
        "duration": 11,
        "start_time": "2023-11-21T11:56:08.000Z"
      },
      {
        "duration": 9,
        "start_time": "2023-11-21T11:56:08.012Z"
      },
      {
        "duration": 41,
        "start_time": "2023-11-21T11:56:08.023Z"
      },
      {
        "duration": 28,
        "start_time": "2023-11-21T11:56:08.066Z"
      },
      {
        "duration": 14,
        "start_time": "2023-11-21T11:56:08.095Z"
      },
      {
        "duration": 100,
        "start_time": "2023-11-21T11:58:46.475Z"
      },
      {
        "duration": 10,
        "start_time": "2023-11-21T11:59:27.871Z"
      },
      {
        "duration": 3,
        "start_time": "2023-11-21T12:00:06.200Z"
      },
      {
        "duration": 11,
        "start_time": "2023-11-21T12:00:06.888Z"
      },
      {
        "duration": 10,
        "start_time": "2023-11-21T12:05:42.233Z"
      },
      {
        "duration": 58,
        "start_time": "2023-11-21T12:06:14.115Z"
      },
      {
        "duration": 26,
        "start_time": "2023-11-21T12:06:40.535Z"
      },
      {
        "duration": 24,
        "start_time": "2023-11-21T12:06:50.923Z"
      },
      {
        "duration": 23,
        "start_time": "2023-11-21T12:06:58.553Z"
      },
      {
        "duration": 12,
        "start_time": "2023-11-21T12:08:10.752Z"
      },
      {
        "duration": 10,
        "start_time": "2023-11-21T12:08:38.488Z"
      },
      {
        "duration": 10,
        "start_time": "2023-11-21T12:09:43.702Z"
      },
      {
        "duration": 11,
        "start_time": "2023-11-21T12:10:12.321Z"
      },
      {
        "duration": 9,
        "start_time": "2023-11-21T12:12:03.028Z"
      },
      {
        "duration": 22,
        "start_time": "2023-11-21T12:12:09.169Z"
      },
      {
        "duration": 8,
        "start_time": "2023-11-21T12:12:59.743Z"
      },
      {
        "duration": 8,
        "start_time": "2023-11-21T12:15:14.924Z"
      },
      {
        "duration": 21,
        "start_time": "2023-11-21T12:16:10.634Z"
      },
      {
        "duration": 1199,
        "start_time": "2023-11-21T12:17:32.393Z"
      },
      {
        "duration": 77,
        "start_time": "2023-11-21T12:17:33.594Z"
      },
      {
        "duration": 5,
        "start_time": "2023-11-21T12:17:33.672Z"
      },
      {
        "duration": 49,
        "start_time": "2023-11-21T12:17:33.679Z"
      },
      {
        "duration": 3,
        "start_time": "2023-11-21T12:17:33.730Z"
      },
      {
        "duration": 30,
        "start_time": "2023-11-21T12:17:33.734Z"
      },
      {
        "duration": 21,
        "start_time": "2023-11-21T12:17:33.765Z"
      },
      {
        "duration": 67,
        "start_time": "2023-11-21T12:17:33.788Z"
      },
      {
        "duration": 11,
        "start_time": "2023-11-21T12:17:33.857Z"
      },
      {
        "duration": 4,
        "start_time": "2023-11-21T12:17:33.871Z"
      },
      {
        "duration": 45,
        "start_time": "2023-11-21T12:17:33.876Z"
      },
      {
        "duration": 33,
        "start_time": "2023-11-21T12:17:33.958Z"
      },
      {
        "duration": 9,
        "start_time": "2023-11-21T12:17:33.993Z"
      },
      {
        "duration": 11,
        "start_time": "2023-11-21T12:17:34.004Z"
      },
      {
        "duration": 221,
        "start_time": "2023-11-21T12:17:34.017Z"
      },
      {
        "duration": 129,
        "start_time": "2023-11-21T12:17:34.239Z"
      },
      {
        "duration": 12,
        "start_time": "2023-11-21T12:17:34.369Z"
      },
      {
        "duration": 314,
        "start_time": "2023-11-21T12:17:34.383Z"
      },
      {
        "duration": 213,
        "start_time": "2023-11-21T12:17:34.699Z"
      },
      {
        "duration": 304,
        "start_time": "2023-11-21T12:17:34.914Z"
      },
      {
        "duration": 223,
        "start_time": "2023-11-21T12:17:35.220Z"
      },
      {
        "duration": 339,
        "start_time": "2023-11-21T12:17:35.445Z"
      },
      {
        "duration": 145,
        "start_time": "2023-11-21T12:17:35.786Z"
      },
      {
        "duration": 4,
        "start_time": "2023-11-21T12:17:35.933Z"
      },
      {
        "duration": 240,
        "start_time": "2023-11-21T12:17:35.939Z"
      },
      {
        "duration": 160,
        "start_time": "2023-11-21T12:17:36.180Z"
      },
      {
        "duration": 4,
        "start_time": "2023-11-21T12:17:36.341Z"
      },
      {
        "duration": 226,
        "start_time": "2023-11-21T12:17:36.349Z"
      },
      {
        "duration": 143,
        "start_time": "2023-11-21T12:17:36.577Z"
      },
      {
        "duration": 7,
        "start_time": "2023-11-21T12:17:36.722Z"
      },
      {
        "duration": 36,
        "start_time": "2023-11-21T12:17:36.731Z"
      },
      {
        "duration": 10,
        "start_time": "2023-11-21T12:17:36.768Z"
      },
      {
        "duration": 9,
        "start_time": "2023-11-21T12:17:36.779Z"
      },
      {
        "duration": 8,
        "start_time": "2023-11-21T12:17:36.789Z"
      },
      {
        "duration": 24,
        "start_time": "2023-11-21T12:17:36.798Z"
      },
      {
        "duration": 43,
        "start_time": "2023-11-21T12:17:36.824Z"
      },
      {
        "duration": 107,
        "start_time": "2023-11-21T12:24:12.196Z"
      },
      {
        "duration": 16,
        "start_time": "2023-11-21T12:25:29.859Z"
      },
      {
        "duration": 8,
        "start_time": "2023-11-21T12:25:49.365Z"
      },
      {
        "duration": 13,
        "start_time": "2023-11-21T12:25:57.714Z"
      },
      {
        "duration": 8,
        "start_time": "2023-11-21T12:26:38.077Z"
      },
      {
        "duration": 6,
        "start_time": "2023-11-21T12:26:47.470Z"
      },
      {
        "duration": 11,
        "start_time": "2023-11-21T12:27:31.820Z"
      },
      {
        "duration": 4,
        "start_time": "2023-11-21T12:27:36.060Z"
      },
      {
        "duration": 5,
        "start_time": "2023-11-21T12:27:42.814Z"
      },
      {
        "duration": 11,
        "start_time": "2023-11-21T12:28:11.398Z"
      },
      {
        "duration": 16,
        "start_time": "2023-11-21T12:28:35.635Z"
      },
      {
        "duration": 10,
        "start_time": "2023-11-21T12:28:48.293Z"
      },
      {
        "duration": 10,
        "start_time": "2023-11-21T12:29:24.466Z"
      },
      {
        "duration": 16,
        "start_time": "2023-11-21T12:29:31.638Z"
      },
      {
        "duration": 10,
        "start_time": "2023-11-21T12:30:36.211Z"
      },
      {
        "duration": 14,
        "start_time": "2023-11-21T12:31:38.021Z"
      },
      {
        "duration": 9,
        "start_time": "2023-11-21T12:34:34.253Z"
      },
      {
        "duration": 1196,
        "start_time": "2023-11-21T12:34:40.101Z"
      },
      {
        "duration": 77,
        "start_time": "2023-11-21T12:34:41.299Z"
      },
      {
        "duration": 5,
        "start_time": "2023-11-21T12:34:41.377Z"
      },
      {
        "duration": 55,
        "start_time": "2023-11-21T12:34:41.383Z"
      },
      {
        "duration": 3,
        "start_time": "2023-11-21T12:34:41.439Z"
      },
      {
        "duration": 19,
        "start_time": "2023-11-21T12:34:41.444Z"
      },
      {
        "duration": 10,
        "start_time": "2023-11-21T12:34:41.465Z"
      },
      {
        "duration": 49,
        "start_time": "2023-11-21T12:34:41.476Z"
      },
      {
        "duration": 15,
        "start_time": "2023-11-21T12:34:41.526Z"
      },
      {
        "duration": 24,
        "start_time": "2023-11-21T12:34:41.560Z"
      },
      {
        "duration": 14,
        "start_time": "2023-11-21T12:34:41.585Z"
      },
      {
        "duration": 4,
        "start_time": "2023-11-21T12:34:41.601Z"
      },
      {
        "duration": 75,
        "start_time": "2023-11-21T12:34:41.606Z"
      },
      {
        "duration": 35,
        "start_time": "2023-11-21T12:34:41.682Z"
      },
      {
        "duration": 10,
        "start_time": "2023-11-21T12:34:41.759Z"
      },
      {
        "duration": 7,
        "start_time": "2023-11-21T12:34:41.771Z"
      },
      {
        "duration": 205,
        "start_time": "2023-11-21T12:34:41.780Z"
      },
      {
        "duration": 125,
        "start_time": "2023-11-21T12:34:41.986Z"
      },
      {
        "duration": 13,
        "start_time": "2023-11-21T12:34:42.112Z"
      },
      {
        "duration": 312,
        "start_time": "2023-11-21T12:34:42.126Z"
      },
      {
        "duration": 209,
        "start_time": "2023-11-21T12:34:42.440Z"
      },
      {
        "duration": 320,
        "start_time": "2023-11-21T12:34:42.650Z"
      },
      {
        "duration": 220,
        "start_time": "2023-11-21T12:34:42.971Z"
      },
      {
        "duration": 308,
        "start_time": "2023-11-21T12:34:43.192Z"
      },
      {
        "duration": 153,
        "start_time": "2023-11-21T12:34:43.502Z"
      },
      {
        "duration": 4,
        "start_time": "2023-11-21T12:34:43.656Z"
      },
      {
        "duration": 231,
        "start_time": "2023-11-21T12:34:43.662Z"
      },
      {
        "duration": 152,
        "start_time": "2023-11-21T12:34:43.896Z"
      },
      {
        "duration": 9,
        "start_time": "2023-11-21T12:34:44.049Z"
      },
      {
        "duration": 231,
        "start_time": "2023-11-21T12:34:44.060Z"
      },
      {
        "duration": 147,
        "start_time": "2023-11-21T12:34:44.292Z"
      },
      {
        "duration": 17,
        "start_time": "2023-11-21T12:34:44.441Z"
      },
      {
        "duration": 24,
        "start_time": "2023-11-21T12:34:44.460Z"
      },
      {
        "duration": 10,
        "start_time": "2023-11-21T12:34:44.485Z"
      },
      {
        "duration": 9,
        "start_time": "2023-11-21T12:34:44.496Z"
      },
      {
        "duration": 8,
        "start_time": "2023-11-21T12:34:44.506Z"
      },
      {
        "duration": 54,
        "start_time": "2023-11-21T12:34:44.516Z"
      },
      {
        "duration": 14,
        "start_time": "2023-11-21T12:34:44.572Z"
      },
      {
        "duration": 11,
        "start_time": "2023-11-21T12:35:16.952Z"
      },
      {
        "duration": 103,
        "start_time": "2023-11-21T12:35:27.760Z"
      },
      {
        "duration": 10,
        "start_time": "2023-11-21T12:35:36.491Z"
      },
      {
        "duration": 81,
        "start_time": "2023-11-21T12:39:43.200Z"
      },
      {
        "duration": 23,
        "start_time": "2023-11-21T12:39:49.929Z"
      },
      {
        "duration": 15,
        "start_time": "2023-11-21T12:41:00.262Z"
      },
      {
        "duration": 14,
        "start_time": "2023-11-21T12:41:11.219Z"
      },
      {
        "duration": 16,
        "start_time": "2023-11-21T12:41:16.904Z"
      },
      {
        "duration": 14,
        "start_time": "2023-11-21T12:41:38.549Z"
      },
      {
        "duration": 15,
        "start_time": "2023-11-21T12:42:56.769Z"
      },
      {
        "duration": 8,
        "start_time": "2023-11-21T12:45:12.421Z"
      },
      {
        "duration": 8,
        "start_time": "2023-11-21T12:46:46.947Z"
      },
      {
        "duration": 2,
        "start_time": "2023-11-21T12:47:21.548Z"
      },
      {
        "duration": 15,
        "start_time": "2023-11-21T12:47:23.968Z"
      },
      {
        "duration": 15,
        "start_time": "2023-11-21T12:48:28.200Z"
      },
      {
        "duration": 12,
        "start_time": "2023-11-21T12:59:12.794Z"
      },
      {
        "duration": 7,
        "start_time": "2023-11-21T13:00:00.459Z"
      },
      {
        "duration": 8,
        "start_time": "2023-11-21T13:00:02.898Z"
      },
      {
        "duration": 10,
        "start_time": "2023-11-21T13:00:15.905Z"
      },
      {
        "duration": 8,
        "start_time": "2023-11-21T13:04:24.996Z"
      },
      {
        "duration": 10,
        "start_time": "2023-11-21T13:04:33.710Z"
      },
      {
        "duration": 3,
        "start_time": "2023-11-21T13:04:38.108Z"
      },
      {
        "duration": 12,
        "start_time": "2023-11-21T13:11:25.509Z"
      },
      {
        "duration": 12,
        "start_time": "2023-11-21T13:11:48.735Z"
      },
      {
        "duration": 11,
        "start_time": "2023-11-21T13:11:59.276Z"
      },
      {
        "duration": 13,
        "start_time": "2023-11-21T13:12:14.446Z"
      },
      {
        "duration": 6,
        "start_time": "2023-11-21T13:14:33.165Z"
      },
      {
        "duration": 4,
        "start_time": "2023-11-21T13:15:46.185Z"
      },
      {
        "duration": 16,
        "start_time": "2023-11-21T13:19:51.296Z"
      },
      {
        "duration": 4,
        "start_time": "2023-11-21T13:20:16.769Z"
      },
      {
        "duration": 3,
        "start_time": "2023-11-21T13:20:46.843Z"
      },
      {
        "duration": 4,
        "start_time": "2023-11-21T13:21:45.851Z"
      },
      {
        "duration": 4,
        "start_time": "2023-11-21T13:21:49.382Z"
      },
      {
        "duration": 4,
        "start_time": "2023-11-21T13:21:58.520Z"
      },
      {
        "duration": 5,
        "start_time": "2023-11-21T13:22:06.226Z"
      },
      {
        "duration": 5,
        "start_time": "2023-11-21T13:22:25.249Z"
      },
      {
        "duration": 4,
        "start_time": "2023-11-21T13:22:34.302Z"
      },
      {
        "duration": 4,
        "start_time": "2023-11-21T13:25:47.518Z"
      },
      {
        "duration": 45,
        "start_time": "2023-11-21T13:26:01.859Z"
      },
      {
        "duration": 10,
        "start_time": "2023-11-21T13:26:15.224Z"
      },
      {
        "duration": 8,
        "start_time": "2023-11-21T13:26:19.253Z"
      },
      {
        "duration": 25,
        "start_time": "2023-11-21T13:26:30.732Z"
      },
      {
        "duration": 1192,
        "start_time": "2023-11-21T13:26:57.493Z"
      },
      {
        "duration": 78,
        "start_time": "2023-11-21T13:26:58.687Z"
      },
      {
        "duration": 5,
        "start_time": "2023-11-21T13:26:58.767Z"
      },
      {
        "duration": 65,
        "start_time": "2023-11-21T13:26:58.774Z"
      },
      {
        "duration": 3,
        "start_time": "2023-11-21T13:26:58.840Z"
      },
      {
        "duration": 33,
        "start_time": "2023-11-21T13:26:58.845Z"
      },
      {
        "duration": 23,
        "start_time": "2023-11-21T13:26:58.880Z"
      },
      {
        "duration": 60,
        "start_time": "2023-11-21T13:26:58.905Z"
      },
      {
        "duration": 12,
        "start_time": "2023-11-21T13:26:58.967Z"
      },
      {
        "duration": 4,
        "start_time": "2023-11-21T13:26:58.982Z"
      },
      {
        "duration": 7,
        "start_time": "2023-11-21T13:26:58.987Z"
      },
      {
        "duration": 18,
        "start_time": "2023-11-21T13:26:58.995Z"
      },
      {
        "duration": 4,
        "start_time": "2023-11-21T13:26:59.014Z"
      },
      {
        "duration": 74,
        "start_time": "2023-11-21T13:26:59.020Z"
      },
      {
        "duration": 68,
        "start_time": "2023-11-21T13:26:59.096Z"
      },
      {
        "duration": 8,
        "start_time": "2023-11-21T13:26:59.166Z"
      },
      {
        "duration": 9,
        "start_time": "2023-11-21T13:26:59.176Z"
      },
      {
        "duration": 131,
        "start_time": "2023-11-21T13:26:59.186Z"
      },
      {
        "duration": 0,
        "start_time": "2023-11-21T13:26:59.319Z"
      },
      {
        "duration": 0,
        "start_time": "2023-11-21T13:26:59.320Z"
      },
      {
        "duration": 0,
        "start_time": "2023-11-21T13:26:59.321Z"
      },
      {
        "duration": 0,
        "start_time": "2023-11-21T13:26:59.323Z"
      },
      {
        "duration": 0,
        "start_time": "2023-11-21T13:26:59.324Z"
      },
      {
        "duration": 0,
        "start_time": "2023-11-21T13:26:59.325Z"
      },
      {
        "duration": 0,
        "start_time": "2023-11-21T13:26:59.326Z"
      },
      {
        "duration": 0,
        "start_time": "2023-11-21T13:26:59.327Z"
      },
      {
        "duration": 0,
        "start_time": "2023-11-21T13:26:59.328Z"
      },
      {
        "duration": 0,
        "start_time": "2023-11-21T13:26:59.329Z"
      },
      {
        "duration": 0,
        "start_time": "2023-11-21T13:26:59.330Z"
      },
      {
        "duration": 0,
        "start_time": "2023-11-21T13:26:59.331Z"
      },
      {
        "duration": 0,
        "start_time": "2023-11-21T13:26:59.359Z"
      },
      {
        "duration": 0,
        "start_time": "2023-11-21T13:26:59.360Z"
      },
      {
        "duration": 0,
        "start_time": "2023-11-21T13:26:59.361Z"
      },
      {
        "duration": 0,
        "start_time": "2023-11-21T13:26:59.362Z"
      },
      {
        "duration": 0,
        "start_time": "2023-11-21T13:26:59.363Z"
      },
      {
        "duration": 0,
        "start_time": "2023-11-21T13:26:59.364Z"
      },
      {
        "duration": 0,
        "start_time": "2023-11-21T13:26:59.365Z"
      },
      {
        "duration": 0,
        "start_time": "2023-11-21T13:26:59.366Z"
      },
      {
        "duration": 0,
        "start_time": "2023-11-21T13:26:59.367Z"
      },
      {
        "duration": 182,
        "start_time": "2023-11-21T13:30:10.859Z"
      },
      {
        "duration": 175,
        "start_time": "2023-11-21T13:30:55.928Z"
      },
      {
        "duration": 131,
        "start_time": "2023-11-21T13:31:12.111Z"
      },
      {
        "duration": 12,
        "start_time": "2023-11-21T13:31:14.532Z"
      },
      {
        "duration": 284,
        "start_time": "2023-11-21T13:31:22.503Z"
      },
      {
        "duration": 215,
        "start_time": "2023-11-21T13:31:30.400Z"
      },
      {
        "duration": 313,
        "start_time": "2023-11-21T13:31:41.147Z"
      },
      {
        "duration": 213,
        "start_time": "2023-11-21T13:31:51.132Z"
      },
      {
        "duration": 342,
        "start_time": "2023-11-21T13:32:11.347Z"
      },
      {
        "duration": 162,
        "start_time": "2023-11-21T13:32:24.219Z"
      },
      {
        "duration": 4,
        "start_time": "2023-11-21T13:32:30.186Z"
      },
      {
        "duration": 214,
        "start_time": "2023-11-21T13:32:39.177Z"
      },
      {
        "duration": 157,
        "start_time": "2023-11-21T13:32:45.093Z"
      },
      {
        "duration": 3,
        "start_time": "2023-11-21T13:33:02.279Z"
      },
      {
        "duration": 215,
        "start_time": "2023-11-21T13:40:40.559Z"
      },
      {
        "duration": 134,
        "start_time": "2023-11-21T13:40:58.159Z"
      },
      {
        "duration": 122,
        "start_time": "2023-11-21T13:41:01.337Z"
      },
      {
        "duration": 8,
        "start_time": "2023-11-21T13:41:15.968Z"
      },
      {
        "duration": 25,
        "start_time": "2023-11-21T13:41:19.961Z"
      },
      {
        "duration": 10,
        "start_time": "2023-11-21T13:42:15.146Z"
      },
      {
        "duration": 9,
        "start_time": "2023-11-21T13:45:45.018Z"
      },
      {
        "duration": 8,
        "start_time": "2023-11-21T13:48:27.118Z"
      },
      {
        "duration": 26,
        "start_time": "2023-11-21T13:48:28.881Z"
      },
      {
        "duration": 9,
        "start_time": "2023-11-21T13:48:36.680Z"
      },
      {
        "duration": 8,
        "start_time": "2023-11-21T13:48:43.275Z"
      },
      {
        "duration": 9,
        "start_time": "2023-11-21T13:48:47.446Z"
      },
      {
        "duration": 14,
        "start_time": "2023-11-21T14:05:34.062Z"
      },
      {
        "duration": 9,
        "start_time": "2023-11-21T14:42:34.559Z"
      },
      {
        "duration": 7,
        "start_time": "2023-11-21T14:42:42.515Z"
      },
      {
        "duration": 25,
        "start_time": "2023-11-21T14:42:45.075Z"
      },
      {
        "duration": 7,
        "start_time": "2023-11-21T14:44:43.218Z"
      },
      {
        "duration": 24,
        "start_time": "2023-11-21T14:44:44.457Z"
      },
      {
        "duration": 10,
        "start_time": "2023-11-21T14:44:57.897Z"
      },
      {
        "duration": 8,
        "start_time": "2023-11-21T14:46:34.165Z"
      },
      {
        "duration": 8,
        "start_time": "2023-11-21T14:46:43.479Z"
      },
      {
        "duration": 25,
        "start_time": "2023-11-21T14:46:46.014Z"
      },
      {
        "duration": 15,
        "start_time": "2023-11-21T14:47:33.798Z"
      },
      {
        "duration": 10,
        "start_time": "2023-11-21T14:50:44.620Z"
      },
      {
        "duration": 1258,
        "start_time": "2023-11-21T14:52:23.908Z"
      },
      {
        "duration": 77,
        "start_time": "2023-11-21T14:52:25.167Z"
      },
      {
        "duration": 5,
        "start_time": "2023-11-21T14:52:25.246Z"
      },
      {
        "duration": 59,
        "start_time": "2023-11-21T14:52:25.253Z"
      },
      {
        "duration": 3,
        "start_time": "2023-11-21T14:52:25.313Z"
      },
      {
        "duration": 22,
        "start_time": "2023-11-21T14:52:25.317Z"
      },
      {
        "duration": 35,
        "start_time": "2023-11-21T14:52:25.341Z"
      },
      {
        "duration": 71,
        "start_time": "2023-11-21T14:52:25.378Z"
      },
      {
        "duration": 12,
        "start_time": "2023-11-21T14:52:25.451Z"
      },
      {
        "duration": 10,
        "start_time": "2023-11-21T14:52:25.466Z"
      },
      {
        "duration": 7,
        "start_time": "2023-11-21T14:52:25.478Z"
      },
      {
        "duration": 29,
        "start_time": "2023-11-21T14:52:25.487Z"
      },
      {
        "duration": 10,
        "start_time": "2023-11-21T14:52:25.518Z"
      },
      {
        "duration": 55,
        "start_time": "2023-11-21T14:52:25.530Z"
      },
      {
        "duration": 31,
        "start_time": "2023-11-21T14:52:25.587Z"
      },
      {
        "duration": 10,
        "start_time": "2023-11-21T14:52:25.658Z"
      },
      {
        "duration": 12,
        "start_time": "2023-11-21T14:52:25.670Z"
      },
      {
        "duration": 193,
        "start_time": "2023-11-21T14:52:25.684Z"
      },
      {
        "duration": 121,
        "start_time": "2023-11-21T14:52:25.879Z"
      },
      {
        "duration": 12,
        "start_time": "2023-11-21T14:52:26.001Z"
      },
      {
        "duration": 295,
        "start_time": "2023-11-21T14:52:26.015Z"
      },
      {
        "duration": 207,
        "start_time": "2023-11-21T14:52:26.312Z"
      },
      {
        "duration": 325,
        "start_time": "2023-11-21T14:52:26.521Z"
      },
      {
        "duration": 242,
        "start_time": "2023-11-21T14:52:26.848Z"
      },
      {
        "duration": 311,
        "start_time": "2023-11-21T14:52:27.092Z"
      },
      {
        "duration": 173,
        "start_time": "2023-11-21T14:52:27.404Z"
      },
      {
        "duration": 4,
        "start_time": "2023-11-21T14:52:27.579Z"
      },
      {
        "duration": 229,
        "start_time": "2023-11-21T14:52:27.586Z"
      },
      {
        "duration": 155,
        "start_time": "2023-11-21T14:52:27.816Z"
      },
      {
        "duration": 4,
        "start_time": "2023-11-21T14:52:27.973Z"
      },
      {
        "duration": 236,
        "start_time": "2023-11-21T14:52:27.978Z"
      },
      {
        "duration": 125,
        "start_time": "2023-11-21T14:52:28.215Z"
      },
      {
        "duration": 17,
        "start_time": "2023-11-21T14:52:28.341Z"
      },
      {
        "duration": 26,
        "start_time": "2023-11-21T14:52:28.360Z"
      },
      {
        "duration": 11,
        "start_time": "2023-11-21T14:52:28.388Z"
      },
      {
        "duration": 24,
        "start_time": "2023-11-21T14:52:28.400Z"
      },
      {
        "duration": 35,
        "start_time": "2023-11-21T14:52:28.425Z"
      },
      {
        "duration": 30,
        "start_time": "2023-11-21T14:52:28.461Z"
      },
      {
        "duration": 13,
        "start_time": "2023-11-21T14:52:28.493Z"
      },
      {
        "duration": 8,
        "start_time": "2023-11-21T14:54:56.518Z"
      },
      {
        "duration": 1213,
        "start_time": "2023-11-21T15:00:28.368Z"
      },
      {
        "duration": 76,
        "start_time": "2023-11-21T15:00:29.583Z"
      },
      {
        "duration": 5,
        "start_time": "2023-11-21T15:00:29.660Z"
      },
      {
        "duration": 55,
        "start_time": "2023-11-21T15:00:29.667Z"
      },
      {
        "duration": 4,
        "start_time": "2023-11-21T15:00:29.723Z"
      },
      {
        "duration": 33,
        "start_time": "2023-11-21T15:00:29.728Z"
      },
      {
        "duration": 25,
        "start_time": "2023-11-21T15:00:29.763Z"
      },
      {
        "duration": 95,
        "start_time": "2023-11-21T15:00:29.789Z"
      },
      {
        "duration": 11,
        "start_time": "2023-11-21T15:00:29.886Z"
      },
      {
        "duration": 30,
        "start_time": "2023-11-21T15:00:29.899Z"
      },
      {
        "duration": 21,
        "start_time": "2023-11-21T15:00:29.931Z"
      },
      {
        "duration": 34,
        "start_time": "2023-11-21T15:00:29.953Z"
      },
      {
        "duration": 134,
        "start_time": "2023-11-21T15:00:29.988Z"
      },
      {
        "duration": 64,
        "start_time": "2023-11-21T15:00:30.124Z"
      },
      {
        "duration": 69,
        "start_time": "2023-11-21T15:00:30.190Z"
      },
      {
        "duration": 13,
        "start_time": "2023-11-21T15:00:30.261Z"
      },
      {
        "duration": 18,
        "start_time": "2023-11-21T15:00:30.276Z"
      },
      {
        "duration": 205,
        "start_time": "2023-11-21T15:00:30.295Z"
      },
      {
        "duration": 126,
        "start_time": "2023-11-21T15:00:30.502Z"
      },
      {
        "duration": 12,
        "start_time": "2023-11-21T15:00:30.629Z"
      },
      {
        "duration": 338,
        "start_time": "2023-11-21T15:00:30.643Z"
      },
      {
        "duration": 216,
        "start_time": "2023-11-21T15:00:30.982Z"
      },
      {
        "duration": 289,
        "start_time": "2023-11-21T15:00:31.200Z"
      },
      {
        "duration": 221,
        "start_time": "2023-11-21T15:00:31.491Z"
      },
      {
        "duration": 305,
        "start_time": "2023-11-21T15:00:31.714Z"
      },
      {
        "duration": 168,
        "start_time": "2023-11-21T15:00:32.020Z"
      },
      {
        "duration": 4,
        "start_time": "2023-11-21T15:00:32.190Z"
      },
      {
        "duration": 228,
        "start_time": "2023-11-21T15:00:32.198Z"
      },
      {
        "duration": 163,
        "start_time": "2023-11-21T15:00:32.428Z"
      },
      {
        "duration": 4,
        "start_time": "2023-11-21T15:00:32.593Z"
      },
      {
        "duration": 232,
        "start_time": "2023-11-21T15:00:32.599Z"
      },
      {
        "duration": 117,
        "start_time": "2023-11-21T15:00:32.833Z"
      },
      {
        "duration": 11,
        "start_time": "2023-11-21T15:00:32.952Z"
      },
      {
        "duration": 29,
        "start_time": "2023-11-21T15:00:32.964Z"
      },
      {
        "duration": 10,
        "start_time": "2023-11-21T15:00:32.995Z"
      },
      {
        "duration": 8,
        "start_time": "2023-11-21T15:00:33.007Z"
      },
      {
        "duration": 7,
        "start_time": "2023-11-21T15:00:33.016Z"
      },
      {
        "duration": 52,
        "start_time": "2023-11-21T15:00:33.025Z"
      },
      {
        "duration": 13,
        "start_time": "2023-11-21T15:00:33.079Z"
      },
      {
        "duration": 1261,
        "start_time": "2023-11-21T15:06:53.137Z"
      },
      {
        "duration": 76,
        "start_time": "2023-11-21T15:06:54.400Z"
      },
      {
        "duration": 5,
        "start_time": "2023-11-21T15:06:54.477Z"
      },
      {
        "duration": 56,
        "start_time": "2023-11-21T15:06:54.484Z"
      },
      {
        "duration": 4,
        "start_time": "2023-11-21T15:06:54.541Z"
      },
      {
        "duration": 21,
        "start_time": "2023-11-21T15:06:54.546Z"
      },
      {
        "duration": 11,
        "start_time": "2023-11-21T15:06:54.568Z"
      },
      {
        "duration": 57,
        "start_time": "2023-11-21T15:06:54.581Z"
      },
      {
        "duration": 16,
        "start_time": "2023-11-21T15:06:54.659Z"
      },
      {
        "duration": 4,
        "start_time": "2023-11-21T15:06:54.677Z"
      },
      {
        "duration": 5,
        "start_time": "2023-11-21T15:06:54.683Z"
      },
      {
        "duration": 18,
        "start_time": "2023-11-21T15:06:54.690Z"
      },
      {
        "duration": 6,
        "start_time": "2023-11-21T15:06:54.710Z"
      },
      {
        "duration": 75,
        "start_time": "2023-11-21T15:06:54.717Z"
      },
      {
        "duration": 70,
        "start_time": "2023-11-21T15:06:54.794Z"
      },
      {
        "duration": 11,
        "start_time": "2023-11-21T15:06:54.865Z"
      },
      {
        "duration": 9,
        "start_time": "2023-11-21T15:06:54.877Z"
      },
      {
        "duration": 208,
        "start_time": "2023-11-21T15:06:54.888Z"
      },
      {
        "duration": 133,
        "start_time": "2023-11-21T15:06:55.098Z"
      },
      {
        "duration": 25,
        "start_time": "2023-11-21T15:06:55.233Z"
      },
      {
        "duration": 300,
        "start_time": "2023-11-21T15:06:55.260Z"
      },
      {
        "duration": 223,
        "start_time": "2023-11-21T15:06:55.562Z"
      },
      {
        "duration": 326,
        "start_time": "2023-11-21T15:06:55.786Z"
      },
      {
        "duration": 221,
        "start_time": "2023-11-21T15:06:56.113Z"
      },
      {
        "duration": 357,
        "start_time": "2023-11-21T15:06:56.335Z"
      },
      {
        "duration": 175,
        "start_time": "2023-11-21T15:06:56.693Z"
      },
      {
        "duration": 3,
        "start_time": "2023-11-21T15:06:56.870Z"
      },
      {
        "duration": 250,
        "start_time": "2023-11-21T15:06:56.876Z"
      },
      {
        "duration": 164,
        "start_time": "2023-11-21T15:06:57.128Z"
      },
      {
        "duration": 4,
        "start_time": "2023-11-21T15:06:57.294Z"
      },
      {
        "duration": 234,
        "start_time": "2023-11-21T15:06:57.299Z"
      },
      {
        "duration": 134,
        "start_time": "2023-11-21T15:06:57.535Z"
      },
      {
        "duration": 8,
        "start_time": "2023-11-21T15:06:57.670Z"
      },
      {
        "duration": 32,
        "start_time": "2023-11-21T15:06:57.679Z"
      },
      {
        "duration": 9,
        "start_time": "2023-11-21T15:06:57.713Z"
      },
      {
        "duration": 8,
        "start_time": "2023-11-21T15:06:57.724Z"
      },
      {
        "duration": 29,
        "start_time": "2023-11-21T15:06:57.734Z"
      },
      {
        "duration": 28,
        "start_time": "2023-11-21T15:06:57.765Z"
      },
      {
        "duration": 15,
        "start_time": "2023-11-21T15:06:57.795Z"
      },
      {
        "duration": 112,
        "start_time": "2023-11-21T15:17:49.088Z"
      },
      {
        "duration": 13,
        "start_time": "2023-11-21T15:17:57.326Z"
      },
      {
        "duration": 13,
        "start_time": "2023-11-21T15:18:03.232Z"
      },
      {
        "duration": 13,
        "start_time": "2023-11-21T15:18:07.950Z"
      },
      {
        "duration": 12,
        "start_time": "2023-11-21T15:19:55.491Z"
      },
      {
        "duration": 12,
        "start_time": "2023-11-21T15:22:52.258Z"
      },
      {
        "duration": 7,
        "start_time": "2023-11-21T15:24:56.249Z"
      },
      {
        "duration": 1235,
        "start_time": "2023-11-21T15:27:03.765Z"
      },
      {
        "duration": 77,
        "start_time": "2023-11-21T15:27:05.001Z"
      },
      {
        "duration": 4,
        "start_time": "2023-11-21T15:27:05.080Z"
      },
      {
        "duration": 56,
        "start_time": "2023-11-21T15:27:05.086Z"
      },
      {
        "duration": 4,
        "start_time": "2023-11-21T15:27:05.143Z"
      },
      {
        "duration": 10,
        "start_time": "2023-11-21T15:27:05.158Z"
      },
      {
        "duration": 11,
        "start_time": "2023-11-21T15:27:05.170Z"
      },
      {
        "duration": 78,
        "start_time": "2023-11-21T15:27:05.183Z"
      },
      {
        "duration": 11,
        "start_time": "2023-11-21T15:27:05.263Z"
      },
      {
        "duration": 12,
        "start_time": "2023-11-21T15:27:05.276Z"
      },
      {
        "duration": 17,
        "start_time": "2023-11-21T15:27:05.290Z"
      },
      {
        "duration": 19,
        "start_time": "2023-11-21T15:27:05.309Z"
      },
      {
        "duration": 16,
        "start_time": "2023-11-21T15:27:05.330Z"
      },
      {
        "duration": 52,
        "start_time": "2023-11-21T15:27:05.347Z"
      },
      {
        "duration": 66,
        "start_time": "2023-11-21T15:27:05.401Z"
      },
      {
        "duration": 10,
        "start_time": "2023-11-21T15:27:05.468Z"
      },
      {
        "duration": 17,
        "start_time": "2023-11-21T15:27:05.480Z"
      },
      {
        "duration": 205,
        "start_time": "2023-11-21T15:27:05.499Z"
      },
      {
        "duration": 127,
        "start_time": "2023-11-21T15:27:05.706Z"
      },
      {
        "duration": 11,
        "start_time": "2023-11-21T15:27:05.835Z"
      },
      {
        "duration": 294,
        "start_time": "2023-11-21T15:27:05.859Z"
      },
      {
        "duration": 223,
        "start_time": "2023-11-21T15:27:06.154Z"
      },
      {
        "duration": 295,
        "start_time": "2023-11-21T15:27:06.379Z"
      },
      {
        "duration": 218,
        "start_time": "2023-11-21T15:27:06.675Z"
      },
      {
        "duration": 332,
        "start_time": "2023-11-21T15:27:06.895Z"
      },
      {
        "duration": 175,
        "start_time": "2023-11-21T15:27:07.229Z"
      },
      {
        "duration": 5,
        "start_time": "2023-11-21T15:27:07.405Z"
      },
      {
        "duration": 236,
        "start_time": "2023-11-21T15:27:07.413Z"
      },
      {
        "duration": 162,
        "start_time": "2023-11-21T15:27:07.651Z"
      },
      {
        "duration": 4,
        "start_time": "2023-11-21T15:27:07.814Z"
      },
      {
        "duration": 214,
        "start_time": "2023-11-21T15:27:07.819Z"
      },
      {
        "duration": 137,
        "start_time": "2023-11-21T15:27:08.034Z"
      },
      {
        "duration": 9,
        "start_time": "2023-11-21T15:27:08.172Z"
      },
      {
        "duration": 10,
        "start_time": "2023-11-21T15:27:08.182Z"
      },
      {
        "duration": 7,
        "start_time": "2023-11-21T15:27:08.194Z"
      },
      {
        "duration": 26,
        "start_time": "2023-11-21T15:27:08.203Z"
      },
      {
        "duration": 34,
        "start_time": "2023-11-21T15:27:08.230Z"
      },
      {
        "duration": 9,
        "start_time": "2023-11-21T15:27:08.265Z"
      },
      {
        "duration": 9,
        "start_time": "2023-11-21T15:27:08.276Z"
      },
      {
        "duration": 29,
        "start_time": "2023-11-21T15:27:08.286Z"
      },
      {
        "duration": 42,
        "start_time": "2023-11-21T15:27:08.317Z"
      },
      {
        "duration": 106,
        "start_time": "2023-11-21T15:27:08.360Z"
      },
      {
        "duration": 0,
        "start_time": "2023-11-21T15:27:08.468Z"
      },
      {
        "duration": 8,
        "start_time": "2023-11-21T15:27:50.148Z"
      },
      {
        "duration": 5,
        "start_time": "2023-11-21T15:28:02.694Z"
      },
      {
        "duration": 6,
        "start_time": "2023-11-21T15:28:12.192Z"
      },
      {
        "duration": 1225,
        "start_time": "2023-11-21T15:28:50.955Z"
      },
      {
        "duration": 78,
        "start_time": "2023-11-21T15:28:52.182Z"
      },
      {
        "duration": 5,
        "start_time": "2023-11-21T15:28:52.262Z"
      },
      {
        "duration": 62,
        "start_time": "2023-11-21T15:28:52.270Z"
      },
      {
        "duration": 4,
        "start_time": "2023-11-21T15:28:52.334Z"
      },
      {
        "duration": 10,
        "start_time": "2023-11-21T15:28:52.359Z"
      },
      {
        "duration": 15,
        "start_time": "2023-11-21T15:28:52.371Z"
      },
      {
        "duration": 53,
        "start_time": "2023-11-21T15:28:52.388Z"
      },
      {
        "duration": 12,
        "start_time": "2023-11-21T15:28:52.458Z"
      },
      {
        "duration": 4,
        "start_time": "2023-11-21T15:28:52.472Z"
      },
      {
        "duration": 5,
        "start_time": "2023-11-21T15:28:52.477Z"
      },
      {
        "duration": 15,
        "start_time": "2023-11-21T15:28:52.483Z"
      },
      {
        "duration": 4,
        "start_time": "2023-11-21T15:28:52.500Z"
      },
      {
        "duration": 75,
        "start_time": "2023-11-21T15:28:52.506Z"
      },
      {
        "duration": 30,
        "start_time": "2023-11-21T15:28:52.583Z"
      },
      {
        "duration": 46,
        "start_time": "2023-11-21T15:28:52.614Z"
      },
      {
        "duration": 8,
        "start_time": "2023-11-21T15:28:52.661Z"
      },
      {
        "duration": 192,
        "start_time": "2023-11-21T15:28:52.670Z"
      },
      {
        "duration": 131,
        "start_time": "2023-11-21T15:28:52.863Z"
      },
      {
        "duration": 12,
        "start_time": "2023-11-21T15:28:52.996Z"
      },
      {
        "duration": 315,
        "start_time": "2023-11-21T15:28:53.010Z"
      },
      {
        "duration": 209,
        "start_time": "2023-11-21T15:28:53.327Z"
      },
      {
        "duration": 331,
        "start_time": "2023-11-21T15:28:53.538Z"
      },
      {
        "duration": 220,
        "start_time": "2023-11-21T15:28:53.871Z"
      },
      {
        "duration": 307,
        "start_time": "2023-11-21T15:28:54.093Z"
      },
      {
        "duration": 178,
        "start_time": "2023-11-21T15:28:54.402Z"
      },
      {
        "duration": 4,
        "start_time": "2023-11-21T15:28:54.582Z"
      },
      {
        "duration": 235,
        "start_time": "2023-11-21T15:28:54.589Z"
      },
      {
        "duration": 159,
        "start_time": "2023-11-21T15:28:54.826Z"
      },
      {
        "duration": 4,
        "start_time": "2023-11-21T15:28:54.987Z"
      },
      {
        "duration": 224,
        "start_time": "2023-11-21T15:28:54.992Z"
      },
      {
        "duration": 149,
        "start_time": "2023-11-21T15:28:55.218Z"
      },
      {
        "duration": 3,
        "start_time": "2023-11-21T15:28:55.368Z"
      },
      {
        "duration": 3,
        "start_time": "2023-11-21T15:28:55.372Z"
      },
      {
        "duration": 7,
        "start_time": "2023-11-21T15:28:55.377Z"
      },
      {
        "duration": 25,
        "start_time": "2023-11-21T15:28:55.385Z"
      },
      {
        "duration": 10,
        "start_time": "2023-11-21T15:28:55.411Z"
      },
      {
        "duration": 41,
        "start_time": "2023-11-21T15:28:55.422Z"
      },
      {
        "duration": 17,
        "start_time": "2023-11-21T15:28:55.465Z"
      },
      {
        "duration": 24,
        "start_time": "2023-11-21T15:28:55.484Z"
      },
      {
        "duration": 13,
        "start_time": "2023-11-21T15:28:55.509Z"
      },
      {
        "duration": 113,
        "start_time": "2023-11-21T15:28:55.524Z"
      },
      {
        "duration": 0,
        "start_time": "2023-11-21T15:28:55.638Z"
      },
      {
        "duration": 1261,
        "start_time": "2023-11-21T15:33:13.022Z"
      },
      {
        "duration": 76,
        "start_time": "2023-11-21T15:33:14.284Z"
      },
      {
        "duration": 4,
        "start_time": "2023-11-21T15:33:14.362Z"
      },
      {
        "duration": 54,
        "start_time": "2023-11-21T15:33:14.368Z"
      },
      {
        "duration": 3,
        "start_time": "2023-11-21T15:33:14.423Z"
      },
      {
        "duration": 35,
        "start_time": "2023-11-21T15:33:14.428Z"
      },
      {
        "duration": 21,
        "start_time": "2023-11-21T15:33:14.464Z"
      },
      {
        "duration": 53,
        "start_time": "2023-11-21T15:33:14.486Z"
      },
      {
        "duration": 24,
        "start_time": "2023-11-21T15:33:14.541Z"
      },
      {
        "duration": 4,
        "start_time": "2023-11-21T15:33:14.568Z"
      },
      {
        "duration": 6,
        "start_time": "2023-11-21T15:33:14.573Z"
      },
      {
        "duration": 16,
        "start_time": "2023-11-21T15:33:14.581Z"
      },
      {
        "duration": 5,
        "start_time": "2023-11-21T15:33:14.598Z"
      },
      {
        "duration": 72,
        "start_time": "2023-11-21T15:33:14.605Z"
      },
      {
        "duration": 33,
        "start_time": "2023-11-21T15:33:14.679Z"
      },
      {
        "duration": 51,
        "start_time": "2023-11-21T15:33:14.714Z"
      },
      {
        "duration": 18,
        "start_time": "2023-11-21T15:33:14.767Z"
      },
      {
        "duration": 198,
        "start_time": "2023-11-21T15:33:14.786Z"
      },
      {
        "duration": 131,
        "start_time": "2023-11-21T15:33:14.985Z"
      },
      {
        "duration": 13,
        "start_time": "2023-11-21T15:33:15.117Z"
      },
      {
        "duration": 313,
        "start_time": "2023-11-21T15:33:15.131Z"
      },
      {
        "duration": 217,
        "start_time": "2023-11-21T15:33:15.445Z"
      },
      {
        "duration": 318,
        "start_time": "2023-11-21T15:33:15.663Z"
      },
      {
        "duration": 218,
        "start_time": "2023-11-21T15:33:15.983Z"
      },
      {
        "duration": 294,
        "start_time": "2023-11-21T15:33:16.203Z"
      },
      {
        "duration": 164,
        "start_time": "2023-11-21T15:33:16.498Z"
      },
      {
        "duration": 4,
        "start_time": "2023-11-21T15:33:16.663Z"
      },
      {
        "duration": 223,
        "start_time": "2023-11-21T15:33:16.670Z"
      },
      {
        "duration": 171,
        "start_time": "2023-11-21T15:33:16.895Z"
      },
      {
        "duration": 4,
        "start_time": "2023-11-21T15:33:17.067Z"
      },
      {
        "duration": 225,
        "start_time": "2023-11-21T15:33:17.072Z"
      },
      {
        "duration": 3,
        "start_time": "2023-11-21T15:33:17.298Z"
      },
      {
        "duration": 142,
        "start_time": "2023-11-21T15:33:17.302Z"
      },
      {
        "duration": 2,
        "start_time": "2023-11-21T15:33:17.446Z"
      },
      {
        "duration": 17,
        "start_time": "2023-11-21T15:33:17.458Z"
      },
      {
        "duration": 16,
        "start_time": "2023-11-21T15:33:17.477Z"
      },
      {
        "duration": 40,
        "start_time": "2023-11-21T15:33:17.495Z"
      },
      {
        "duration": 10,
        "start_time": "2023-11-21T15:33:17.536Z"
      },
      {
        "duration": 22,
        "start_time": "2023-11-21T15:33:17.547Z"
      },
      {
        "duration": 23,
        "start_time": "2023-11-21T15:33:17.570Z"
      },
      {
        "duration": 40,
        "start_time": "2023-11-21T15:33:17.594Z"
      },
      {
        "duration": 12,
        "start_time": "2023-11-21T15:33:17.636Z"
      },
      {
        "duration": 31,
        "start_time": "2023-11-21T15:33:17.649Z"
      },
      {
        "duration": 14,
        "start_time": "2023-11-21T15:33:41.222Z"
      },
      {
        "duration": 9,
        "start_time": "2023-11-21T15:34:08.688Z"
      },
      {
        "duration": 203,
        "start_time": "2023-11-21T15:38:33.393Z"
      },
      {
        "duration": 4,
        "start_time": "2023-11-21T15:38:58.824Z"
      },
      {
        "duration": 255,
        "start_time": "2023-11-21T15:39:17.305Z"
      },
      {
        "duration": 209,
        "start_time": "2023-11-21T15:39:36.576Z"
      },
      {
        "duration": 196,
        "start_time": "2023-11-21T15:39:40.036Z"
      },
      {
        "duration": 197,
        "start_time": "2023-11-21T15:39:45.590Z"
      },
      {
        "duration": 217,
        "start_time": "2023-11-21T15:39:53.249Z"
      },
      {
        "duration": 297,
        "start_time": "2023-11-21T15:41:34.345Z"
      },
      {
        "duration": 217,
        "start_time": "2023-11-21T15:42:35.646Z"
      },
      {
        "duration": 195,
        "start_time": "2023-11-21T15:42:43.715Z"
      },
      {
        "duration": 317,
        "start_time": "2023-11-21T15:42:59.687Z"
      },
      {
        "duration": 208,
        "start_time": "2023-11-21T15:43:25.050Z"
      },
      {
        "duration": 199,
        "start_time": "2023-11-21T15:44:57.866Z"
      },
      {
        "duration": 215,
        "start_time": "2023-11-21T15:46:08.031Z"
      },
      {
        "duration": 206,
        "start_time": "2023-11-21T15:47:07.265Z"
      },
      {
        "duration": 1212,
        "start_time": "2023-11-21T15:49:37.979Z"
      },
      {
        "duration": 77,
        "start_time": "2023-11-21T15:49:39.193Z"
      },
      {
        "duration": 5,
        "start_time": "2023-11-21T15:49:39.272Z"
      },
      {
        "duration": 62,
        "start_time": "2023-11-21T15:49:39.280Z"
      },
      {
        "duration": 16,
        "start_time": "2023-11-21T15:49:39.344Z"
      },
      {
        "duration": 15,
        "start_time": "2023-11-21T15:49:39.362Z"
      },
      {
        "duration": 24,
        "start_time": "2023-11-21T15:49:39.379Z"
      },
      {
        "duration": 57,
        "start_time": "2023-11-21T15:49:39.405Z"
      },
      {
        "duration": 12,
        "start_time": "2023-11-21T15:49:39.464Z"
      },
      {
        "duration": 4,
        "start_time": "2023-11-21T15:49:39.480Z"
      },
      {
        "duration": 27,
        "start_time": "2023-11-21T15:49:39.485Z"
      },
      {
        "duration": 17,
        "start_time": "2023-11-21T15:49:39.514Z"
      },
      {
        "duration": 10,
        "start_time": "2023-11-21T15:49:39.533Z"
      },
      {
        "duration": 80,
        "start_time": "2023-11-21T15:49:39.544Z"
      },
      {
        "duration": 43,
        "start_time": "2023-11-21T15:49:39.626Z"
      },
      {
        "duration": 9,
        "start_time": "2023-11-21T15:49:39.670Z"
      },
      {
        "duration": 48,
        "start_time": "2023-11-21T15:49:39.681Z"
      },
      {
        "duration": 181,
        "start_time": "2023-11-21T15:49:39.731Z"
      },
      {
        "duration": 145,
        "start_time": "2023-11-21T15:49:39.913Z"
      },
      {
        "duration": 12,
        "start_time": "2023-11-21T15:49:40.060Z"
      },
      {
        "duration": 305,
        "start_time": "2023-11-21T15:49:40.074Z"
      },
      {
        "duration": 218,
        "start_time": "2023-11-21T15:49:40.381Z"
      },
      {
        "duration": 279,
        "start_time": "2023-11-21T15:49:40.601Z"
      },
      {
        "duration": 215,
        "start_time": "2023-11-21T15:49:40.881Z"
      },
      {
        "duration": 306,
        "start_time": "2023-11-21T15:49:41.097Z"
      },
      {
        "duration": 166,
        "start_time": "2023-11-21T15:49:41.405Z"
      },
      {
        "duration": 4,
        "start_time": "2023-11-21T15:49:41.572Z"
      },
      {
        "duration": 229,
        "start_time": "2023-11-21T15:49:41.579Z"
      },
      {
        "duration": 158,
        "start_time": "2023-11-21T15:49:41.809Z"
      },
      {
        "duration": 4,
        "start_time": "2023-11-21T15:49:41.968Z"
      },
      {
        "duration": 235,
        "start_time": "2023-11-21T15:49:41.973Z"
      },
      {
        "duration": 2,
        "start_time": "2023-11-21T15:49:42.210Z"
      },
      {
        "duration": 148,
        "start_time": "2023-11-21T15:49:42.213Z"
      },
      {
        "duration": 2,
        "start_time": "2023-11-21T15:49:42.363Z"
      },
      {
        "duration": 4,
        "start_time": "2023-11-21T15:49:42.367Z"
      },
      {
        "duration": 7,
        "start_time": "2023-11-21T15:49:42.373Z"
      },
      {
        "duration": 25,
        "start_time": "2023-11-21T15:49:42.381Z"
      },
      {
        "duration": 9,
        "start_time": "2023-11-21T15:49:42.408Z"
      },
      {
        "duration": 39,
        "start_time": "2023-11-21T15:49:42.419Z"
      },
      {
        "duration": 7,
        "start_time": "2023-11-21T15:49:42.460Z"
      },
      {
        "duration": 24,
        "start_time": "2023-11-21T15:49:42.469Z"
      },
      {
        "duration": 14,
        "start_time": "2023-11-21T15:49:42.495Z"
      },
      {
        "duration": 8,
        "start_time": "2023-11-21T15:49:42.511Z"
      },
      {
        "duration": 44,
        "start_time": "2023-11-21T15:49:42.521Z"
      },
      {
        "duration": 217,
        "start_time": "2023-11-21T15:49:42.567Z"
      },
      {
        "duration": 211,
        "start_time": "2023-11-21T15:49:42.786Z"
      },
      {
        "duration": 1324,
        "start_time": "2023-11-21T18:12:47.001Z"
      },
      {
        "duration": 190,
        "start_time": "2023-11-21T18:12:48.327Z"
      },
      {
        "duration": 5,
        "start_time": "2023-11-21T18:12:48.518Z"
      },
      {
        "duration": 49,
        "start_time": "2023-11-21T18:12:48.525Z"
      },
      {
        "duration": 3,
        "start_time": "2023-11-21T18:12:48.576Z"
      },
      {
        "duration": 12,
        "start_time": "2023-11-21T18:12:48.580Z"
      },
      {
        "duration": 10,
        "start_time": "2023-11-21T18:12:48.594Z"
      },
      {
        "duration": 77,
        "start_time": "2023-11-21T18:12:48.605Z"
      },
      {
        "duration": 10,
        "start_time": "2023-11-21T18:12:48.684Z"
      },
      {
        "duration": 4,
        "start_time": "2023-11-21T18:12:48.696Z"
      },
      {
        "duration": 5,
        "start_time": "2023-11-21T18:12:48.701Z"
      },
      {
        "duration": 16,
        "start_time": "2023-11-21T18:12:48.708Z"
      },
      {
        "duration": 29,
        "start_time": "2023-11-21T18:12:48.725Z"
      },
      {
        "duration": 34,
        "start_time": "2023-11-21T18:12:48.755Z"
      },
      {
        "duration": 66,
        "start_time": "2023-11-21T18:12:48.790Z"
      },
      {
        "duration": 8,
        "start_time": "2023-11-21T18:12:48.858Z"
      },
      {
        "duration": 6,
        "start_time": "2023-11-21T18:12:48.868Z"
      },
      {
        "duration": 193,
        "start_time": "2023-11-21T18:12:48.876Z"
      },
      {
        "duration": 143,
        "start_time": "2023-11-21T18:12:49.070Z"
      },
      {
        "duration": 11,
        "start_time": "2023-11-21T18:12:49.215Z"
      },
      {
        "duration": 269,
        "start_time": "2023-11-21T18:12:49.227Z"
      },
      {
        "duration": 198,
        "start_time": "2023-11-21T18:12:49.498Z"
      },
      {
        "duration": 328,
        "start_time": "2023-11-21T18:12:49.698Z"
      },
      {
        "duration": 208,
        "start_time": "2023-11-21T18:12:50.028Z"
      },
      {
        "duration": 337,
        "start_time": "2023-11-21T18:12:50.237Z"
      },
      {
        "duration": 164,
        "start_time": "2023-11-21T18:12:50.576Z"
      },
      {
        "duration": 4,
        "start_time": "2023-11-21T18:12:50.741Z"
      },
      {
        "duration": 219,
        "start_time": "2023-11-21T18:12:50.754Z"
      },
      {
        "duration": 147,
        "start_time": "2023-11-21T18:12:50.974Z"
      },
      {
        "duration": 5,
        "start_time": "2023-11-21T18:12:51.122Z"
      },
      {
        "duration": 229,
        "start_time": "2023-11-21T18:12:51.128Z"
      },
      {
        "duration": 3,
        "start_time": "2023-11-21T18:12:51.359Z"
      },
      {
        "duration": 124,
        "start_time": "2023-11-21T18:12:51.364Z"
      },
      {
        "duration": 3,
        "start_time": "2023-11-21T18:12:51.489Z"
      },
      {
        "duration": 21,
        "start_time": "2023-11-21T18:12:51.493Z"
      },
      {
        "duration": 9,
        "start_time": "2023-11-21T18:12:51.515Z"
      },
      {
        "duration": 36,
        "start_time": "2023-11-21T18:12:51.526Z"
      },
      {
        "duration": 9,
        "start_time": "2023-11-21T18:12:51.564Z"
      },
      {
        "duration": 18,
        "start_time": "2023-11-21T18:12:51.574Z"
      },
      {
        "duration": 26,
        "start_time": "2023-11-21T18:12:51.593Z"
      },
      {
        "duration": 27,
        "start_time": "2023-11-21T18:12:51.621Z"
      },
      {
        "duration": 13,
        "start_time": "2023-11-21T18:12:51.649Z"
      },
      {
        "duration": 29,
        "start_time": "2023-11-21T18:12:51.663Z"
      },
      {
        "duration": 21,
        "start_time": "2023-11-21T18:12:51.693Z"
      },
      {
        "duration": 188,
        "start_time": "2023-11-21T18:12:51.715Z"
      },
      {
        "duration": 190,
        "start_time": "2023-11-21T18:12:51.905Z"
      },
      {
        "duration": 14,
        "start_time": "2023-11-21T18:15:04.960Z"
      },
      {
        "duration": 13,
        "start_time": "2023-11-21T18:16:33.926Z"
      },
      {
        "duration": 14,
        "start_time": "2023-11-21T18:16:41.516Z"
      },
      {
        "duration": 1172,
        "start_time": "2023-11-21T18:17:24.571Z"
      },
      {
        "duration": 74,
        "start_time": "2023-11-21T18:17:25.745Z"
      },
      {
        "duration": 5,
        "start_time": "2023-11-21T18:17:25.820Z"
      },
      {
        "duration": 43,
        "start_time": "2023-11-21T18:17:25.826Z"
      },
      {
        "duration": 3,
        "start_time": "2023-11-21T18:17:25.870Z"
      },
      {
        "duration": 16,
        "start_time": "2023-11-21T18:17:25.874Z"
      },
      {
        "duration": 16,
        "start_time": "2023-11-21T18:17:25.891Z"
      },
      {
        "duration": 137,
        "start_time": "2023-11-21T18:17:25.908Z"
      },
      {
        "duration": 0,
        "start_time": "2023-11-21T18:17:26.052Z"
      },
      {
        "duration": 0,
        "start_time": "2023-11-21T18:17:26.053Z"
      },
      {
        "duration": 0,
        "start_time": "2023-11-21T18:17:26.054Z"
      },
      {
        "duration": 0,
        "start_time": "2023-11-21T18:17:26.055Z"
      },
      {
        "duration": 0,
        "start_time": "2023-11-21T18:17:26.056Z"
      },
      {
        "duration": 0,
        "start_time": "2023-11-21T18:17:26.057Z"
      },
      {
        "duration": 0,
        "start_time": "2023-11-21T18:17:26.058Z"
      },
      {
        "duration": 0,
        "start_time": "2023-11-21T18:17:26.059Z"
      },
      {
        "duration": 0,
        "start_time": "2023-11-21T18:17:26.060Z"
      },
      {
        "duration": 0,
        "start_time": "2023-11-21T18:17:26.061Z"
      },
      {
        "duration": 0,
        "start_time": "2023-11-21T18:17:26.062Z"
      },
      {
        "duration": 0,
        "start_time": "2023-11-21T18:17:26.063Z"
      },
      {
        "duration": 0,
        "start_time": "2023-11-21T18:17:26.064Z"
      },
      {
        "duration": 0,
        "start_time": "2023-11-21T18:17:26.065Z"
      },
      {
        "duration": 0,
        "start_time": "2023-11-21T18:17:26.065Z"
      },
      {
        "duration": 0,
        "start_time": "2023-11-21T18:17:26.066Z"
      },
      {
        "duration": 0,
        "start_time": "2023-11-21T18:17:26.067Z"
      },
      {
        "duration": 0,
        "start_time": "2023-11-21T18:17:26.068Z"
      },
      {
        "duration": 0,
        "start_time": "2023-11-21T18:17:26.069Z"
      },
      {
        "duration": 0,
        "start_time": "2023-11-21T18:17:26.070Z"
      },
      {
        "duration": 0,
        "start_time": "2023-11-21T18:17:26.071Z"
      },
      {
        "duration": 0,
        "start_time": "2023-11-21T18:17:26.072Z"
      },
      {
        "duration": 0,
        "start_time": "2023-11-21T18:17:26.073Z"
      },
      {
        "duration": 0,
        "start_time": "2023-11-21T18:17:26.074Z"
      },
      {
        "duration": 0,
        "start_time": "2023-11-21T18:17:26.075Z"
      },
      {
        "duration": 0,
        "start_time": "2023-11-21T18:17:26.076Z"
      },
      {
        "duration": 0,
        "start_time": "2023-11-21T18:17:26.077Z"
      },
      {
        "duration": 0,
        "start_time": "2023-11-21T18:17:26.078Z"
      },
      {
        "duration": 0,
        "start_time": "2023-11-21T18:17:26.079Z"
      },
      {
        "duration": 0,
        "start_time": "2023-11-21T18:17:26.080Z"
      },
      {
        "duration": 0,
        "start_time": "2023-11-21T18:17:26.081Z"
      },
      {
        "duration": 0,
        "start_time": "2023-11-21T18:17:26.082Z"
      },
      {
        "duration": 0,
        "start_time": "2023-11-21T18:17:26.083Z"
      },
      {
        "duration": 0,
        "start_time": "2023-11-21T18:17:26.084Z"
      },
      {
        "duration": 0,
        "start_time": "2023-11-21T18:17:26.085Z"
      },
      {
        "duration": 0,
        "start_time": "2023-11-21T18:17:26.086Z"
      },
      {
        "duration": 0,
        "start_time": "2023-11-21T18:17:26.087Z"
      },
      {
        "duration": 0,
        "start_time": "2023-11-21T18:17:26.088Z"
      },
      {
        "duration": 15,
        "start_time": "2023-11-21T18:17:49.579Z"
      },
      {
        "duration": 8,
        "start_time": "2023-11-21T18:23:06.514Z"
      },
      {
        "duration": 5,
        "start_time": "2023-11-21T18:23:12.620Z"
      },
      {
        "duration": 1210,
        "start_time": "2023-11-21T18:24:36.567Z"
      },
      {
        "duration": 74,
        "start_time": "2023-11-21T18:24:37.779Z"
      },
      {
        "duration": 4,
        "start_time": "2023-11-21T18:24:37.854Z"
      },
      {
        "duration": 51,
        "start_time": "2023-11-21T18:24:37.860Z"
      },
      {
        "duration": 3,
        "start_time": "2023-11-21T18:24:37.912Z"
      },
      {
        "duration": 9,
        "start_time": "2023-11-21T18:24:37.916Z"
      },
      {
        "duration": 27,
        "start_time": "2023-11-21T18:24:37.926Z"
      },
      {
        "duration": 47,
        "start_time": "2023-11-21T18:24:37.954Z"
      },
      {
        "duration": 9,
        "start_time": "2023-11-21T18:24:38.003Z"
      },
      {
        "duration": 3,
        "start_time": "2023-11-21T18:24:38.053Z"
      },
      {
        "duration": 5,
        "start_time": "2023-11-21T18:24:38.058Z"
      },
      {
        "duration": 14,
        "start_time": "2023-11-21T18:24:38.064Z"
      },
      {
        "duration": 5,
        "start_time": "2023-11-21T18:24:38.079Z"
      },
      {
        "duration": 85,
        "start_time": "2023-11-21T18:24:38.085Z"
      },
      {
        "duration": 86,
        "start_time": "2023-11-21T18:24:38.172Z"
      },
      {
        "duration": 8,
        "start_time": "2023-11-21T18:24:38.259Z"
      },
      {
        "duration": 6,
        "start_time": "2023-11-21T18:24:38.269Z"
      },
      {
        "duration": 194,
        "start_time": "2023-11-21T18:24:38.277Z"
      },
      {
        "duration": 118,
        "start_time": "2023-11-21T18:24:38.473Z"
      },
      {
        "duration": 11,
        "start_time": "2023-11-21T18:24:38.593Z"
      },
      {
        "duration": 285,
        "start_time": "2023-11-21T18:24:38.606Z"
      },
      {
        "duration": 217,
        "start_time": "2023-11-21T18:24:38.892Z"
      },
      {
        "duration": 273,
        "start_time": "2023-11-21T18:24:39.110Z"
      },
      {
        "duration": 198,
        "start_time": "2023-11-21T18:24:39.385Z"
      },
      {
        "duration": 294,
        "start_time": "2023-11-21T18:24:39.585Z"
      },
      {
        "duration": 160,
        "start_time": "2023-11-21T18:24:39.880Z"
      },
      {
        "duration": 11,
        "start_time": "2023-11-21T18:24:40.041Z"
      },
      {
        "duration": 209,
        "start_time": "2023-11-21T18:24:40.056Z"
      },
      {
        "duration": 152,
        "start_time": "2023-11-21T18:24:40.266Z"
      },
      {
        "duration": 4,
        "start_time": "2023-11-21T18:24:40.420Z"
      },
      {
        "duration": 208,
        "start_time": "2023-11-21T18:24:40.425Z"
      },
      {
        "duration": 3,
        "start_time": "2023-11-21T18:24:40.635Z"
      },
      {
        "duration": 119,
        "start_time": "2023-11-21T18:24:40.640Z"
      },
      {
        "duration": 3,
        "start_time": "2023-11-21T18:24:40.760Z"
      },
      {
        "duration": 4,
        "start_time": "2023-11-21T18:24:40.764Z"
      },
      {
        "duration": 24,
        "start_time": "2023-11-21T18:24:40.770Z"
      },
      {
        "duration": 36,
        "start_time": "2023-11-21T18:24:40.796Z"
      },
      {
        "duration": 8,
        "start_time": "2023-11-21T18:24:40.833Z"
      },
      {
        "duration": 9,
        "start_time": "2023-11-21T18:24:40.843Z"
      },
      {
        "duration": 7,
        "start_time": "2023-11-21T18:24:40.853Z"
      },
      {
        "duration": 22,
        "start_time": "2023-11-21T18:24:40.862Z"
      },
      {
        "duration": 11,
        "start_time": "2023-11-21T18:24:40.885Z"
      },
      {
        "duration": 7,
        "start_time": "2023-11-21T18:24:40.898Z"
      },
      {
        "duration": 9,
        "start_time": "2023-11-21T18:24:40.906Z"
      },
      {
        "duration": 219,
        "start_time": "2023-11-21T18:24:40.917Z"
      },
      {
        "duration": 214,
        "start_time": "2023-11-21T18:24:41.138Z"
      }
    ],
    "kernelspec": {
      "display_name": "Python 3 (ipykernel)",
      "language": "python",
      "name": "python3"
    },
    "language_info": {
      "codemirror_mode": {
        "name": "ipython",
        "version": 3
      },
      "file_extension": ".py",
      "mimetype": "text/x-python",
      "name": "python",
      "nbconvert_exporter": "python",
      "pygments_lexer": "ipython3",
      "version": "3.9.5"
    },
    "toc": {
      "base_numbering": 1,
      "nav_menu": {
        "height": "524px",
        "width": "380px"
      },
      "number_sections": true,
      "sideBar": true,
      "skip_h1_title": true,
      "title_cell": "Table of Contents",
      "title_sidebar": "Contents",
      "toc_cell": false,
      "toc_position": {
        "height": "calc(100% - 180px)",
        "left": "10px",
        "top": "150px",
        "width": "165px"
      },
      "toc_section_display": true,
      "toc_window_display": false
    },
    "colab": {
      "provenance": [],
      "include_colab_link": true
    }
  },
  "nbformat": 4,
  "nbformat_minor": 0
}